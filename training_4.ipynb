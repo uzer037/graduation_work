{
  "cells": [
    {
      "cell_type": "code",
      "execution_count": 98,
      "id": "59633f65",
      "metadata": {
        "colab": {
          "base_uri": "https://localhost:8080/"
        },
        "id": "59633f65",
        "outputId": "38be706e-cf63-4e00-bddc-3fd7c4b7e2f0"
      },
      "outputs": [
        {
          "name": "stdout",
          "output_type": "stream",
          "text": [
            "device: cuda\n"
          ]
        }
      ],
      "source": [
        "# @title Dependencies\n",
        "import torch\n",
        "import torchvision\n",
        "device = 'cuda' if torch.cuda.is_available() else 'cpu'\n",
        "print(f\"device: {device}\")"
      ]
    },
    {
      "cell_type": "code",
      "execution_count": 115,
      "id": "IIrma6M3aUQz",
      "metadata": {
        "colab": {
          "base_uri": "https://localhost:8080/"
        },
        "id": "IIrma6M3aUQz",
        "outputId": "418325bd-0fe9-4223-a884-b3cba318056f"
      },
      "outputs": [],
      "source": [
        "# @title Model definition { display-mode: \"form\" }\n",
        "\n",
        "# model = torch.hub.load('pytorch/vision:v0.10.0', 'alexnet', pretrained=False)\n",
        "# Repacing last 1k classes linear layer with 2 classes layer\n",
        "# model.classifier[-1] = torch.nn.Linear(in_features=4096, out_features=2)\n",
        "\n",
        "from torch import nn\n",
        "\n",
        "class ClassifierModel(nn.Module):\n",
        "  def __init__(self):\n",
        "    super(ClassifierModel, self).__init__()\n",
        "    self.features = nn.Sequential(\n",
        "        nn.Conv2d(3,16, kernel_size=(2,2)), # 512x512x3xN --> 510x510x64xN, rf = 3x3 32-> 16\n",
        "        nn.MaxPool2d(kernel_size=2, stride=2), # 510x510x64xN --> 255x255x64xN\n",
        "        nn.ReLU(),\n",
        "        nn.Conv2d(16,128, kernel_size=(2,2)),  # 255x255x64xN --> 252x252x128xN, rf = 6x6 16-> 8\n",
        "        nn.AvgPool2d(kernel_size=2, stride=2), # 252x252x128xN --> 126x126x128xN\n",
        "        nn.ReLU(),\n",
        "        # nn.Conv2d(128,64, kernel_size=(3,3)), # 126x126x128xN --> 124x124x64xN, rf = 8x8\n",
        "        # nn.MaxPool2d(kernel_size=2, stride=2), # 124x124x64xN --> 62x62x64xN\n",
        "        # nn.ReLU(),\n",
        "        # nn.Conv2d(64,16, kernel_size=(3,3)), # 62x62x64xN --> 61x61x16xN, rf = 10x10\n",
        "        # nn.MaxPool2d(kernel_size=2, stride=2), # 60x60x16xN --> 30x30x16xN\n",
        "        # nn.ReLU(),\n",
        "    )\n",
        "    self.converter = nn.Flatten() # 30x30x16xN --> 14400 params\n",
        "    self.classifier = nn.Sequential(\n",
        "        nn.Linear(in_features=6272, out_features=4096),\n",
        "        nn.Sigmoid(),\n",
        "        nn.Linear(in_features=4096, out_features=2048),\n",
        "        nn.Sigmoid(),\n",
        "        nn.Linear(in_features=2048, out_features=512),\n",
        "        nn.Sigmoid(),\n",
        "        nn.Linear(in_features=512, out_features=128),\n",
        "        nn.Sigmoid(),\n",
        "        nn.Linear(in_features=128, out_features=32),\n",
        "        nn.Sigmoid(),\n",
        "        nn.Linear(in_features=32, out_features=8),\n",
        "        nn.Sigmoid(),\n",
        "        nn.Linear(in_features=8, out_features=2)\n",
        "    )\n",
        "\n",
        "  def forward(self, x):\n",
        "    x = self.features(x)\n",
        "    x = self.converter(x)\n",
        "    x = self.classifier(x)\n",
        "    return x"
      ]
    },
    {
      "cell_type": "code",
      "execution_count": 112,
      "id": "YwG0I6szUeOP",
      "metadata": {
        "colab": {
          "base_uri": "https://localhost:8080/"
        },
        "id": "YwG0I6szUeOP",
        "outputId": "65a61ef8-46b2-46c5-f160-41942aa18054"
      },
      "outputs": [
        {
          "name": "stdout",
          "output_type": "stream",
          "text": [
            "Size of dataset is: 100000, train/test split ratio: 0.9, batch size: 64\n"
          ]
        }
      ],
      "source": [
        "# @title Loading data { display-mode: \"form\" }\n",
        "\n",
        "from torchvision.transforms import v2\n",
        "from torch import Tensor\n",
        "\n",
        "preprocess = v2.Compose([\n",
        "    v2.ToImage(),\n",
        "    v2.ToDtype(torch.float32, scale=True)\n",
        "])\n",
        "    #t    ransforms.Normalize(mean=[0.485, 0.456, 0.406], std=[0.229, 0.224, 0.225])\n",
        "\n",
        "torch.manual_seed(0)\n",
        "dataset = torchvision.datasets.ImageFolder(\n",
        "    root=r'C:\\\\Users\\\\bes-s\\\\OneDrive\\\\Документы\\\\NN\\\\datasets\\\\CIFAKE\\\\train',\n",
        "    transform=preprocess\n",
        "    )\n",
        "\n",
        "trainsplit = 0.9\n",
        "# More batch, because 50 000 files in each folder\n",
        "batch_size = 64\n",
        "\n",
        "dataset_size = len(dataset)\n",
        "print(f\"Size of dataset is: {dataset_size}, train/test split ratio: {trainsplit}, batch size: {batch_size}\")\n",
        "trainset, testset = torch.utils.data.random_split(dataset, [trainsplit, 1-trainsplit])\n",
        "\n",
        "train_loader = torch.utils.data.DataLoader(dataset=trainset, batch_size=batch_size)\n",
        "test_loader = torch.utils.data.DataLoader(dataset=testset, batch_size=batch_size)"
      ]
    },
    {
      "cell_type": "code",
      "execution_count": 116,
      "id": "76133363",
      "metadata": {},
      "outputs": [],
      "source": [
        "import torch.optim as optim\n",
        "\n",
        "model = ClassifierModel()\n",
        "model.to(device)\n",
        "\n",
        "loss_func = torch.nn.CrossEntropyLoss()\n",
        "optimizer = optim.ASGD(model.parameters())"
      ]
    },
    {
      "cell_type": "code",
      "execution_count": 117,
      "id": "YF-uwvGNnewx",
      "metadata": {
        "colab": {
          "base_uri": "https://localhost:8080/",
          "height": 356
        },
        "id": "YF-uwvGNnewx",
        "outputId": "ac0ba194-a214-4c30-db26-d2bcdc471e67"
      },
      "outputs": [
        {
          "name": "stdout",
          "output_type": "stream",
          "text": [
            "epoch #1/100..."
          ]
        }
      ],
      "source": [
        "# @title Training loop { display-mode: \"form\" }\n",
        "\n",
        "import torch\n",
        "import datetime\n",
        "from torch.utils.tensorboard import SummaryWriter\n",
        "\n",
        "def calculate_epoch(writer: SummaryWriter, epoch, is_train=False):\n",
        "  if is_train:\n",
        "    model.train(True)\n",
        "  else:\n",
        "    model.eval()\n",
        "\n",
        "  total = 0\n",
        "  correct = 0\n",
        "  running_loss = 0\n",
        "  for batch_ind, data in enumerate(train_loader):\n",
        "    inputs, targets = data\n",
        "    inputs, targets = inputs.to(device), targets.to(device)\n",
        "\n",
        "    optimizer.zero_grad()\n",
        "    output = model(inputs)\n",
        "\n",
        "    total += len(output)\n",
        "    correct += (output.argmax() == targets).float().sum()\n",
        "\n",
        "    targets = torch.nn.functional.one_hot(targets, num_classes = 2).to(torch.float)\n",
        "    loss = loss_func(output, targets)\n",
        "    if is_train:\n",
        "      loss.backward()\n",
        "      optimizer.step()\n",
        "\n",
        "    running_loss += loss.item()\n",
        "\n",
        "    if batch_ind % 10 == 9:\n",
        "      stage = \"train\" if is_train else \"test\"\n",
        "      avg_loss = running_loss / 10\n",
        "      writer.add_scalar(f\"loss/{stage}\", avg_loss, epoch*batch_size + batch_ind)\n",
        "      writer.add_scalar(f\"accuracy/{stage}\", correct/total, epoch*batch_size + batch_ind)\n",
        "      running_loss = 0\n",
        "\n",
        "\n",
        "def train_loop():\n",
        "  time_now = datetime.datetime.now()\n",
        "  layout = {\n",
        "      \"Model statistics\" : {\n",
        "      \"loss\": [\"Multiline\", [\"loss/train\", \"loss/test\"]],\n",
        "      \"accuracy\": [\"Multiline\", [\"accuracy/train\", \"accuracy/test\"]]\n",
        "      }\n",
        "  }\n",
        "  writer = SummaryWriter(log_dir=time_now.strftime(\"C:\\\\Users\\\\bes-s\\\\OneDrive\\\\Документы\\\\NN\\\\runs\\\\run %d-%m %H_%M_%S\"))\n",
        "  writer.add_custom_scalars(layout)\n",
        "  epoch_count = 100\n",
        "  for epoch in range(epoch_count):  # loop over the dataset multiple times\n",
        "    running_loss = 0.0\n",
        "    print(f\"epoch #{epoch+1}/{epoch_count}...\", end = \"\")\n",
        "    calculate_epoch(writer, epoch, is_train=True)\n",
        "    with torch.no_grad():\n",
        "      calculate_epoch(writer, epoch, is_train=False)\n",
        "    print(\"done.\")\n",
        "    writer.flush()\n",
        "\n",
        "  writer.close()\n",
        "  print('done training.')\n",
        "\n",
        "\n",
        "train_loop()"
      ]
    },
    {
      "cell_type": "code",
      "execution_count": null,
      "id": "78610967",
      "metadata": {
        "id": "78610967"
      },
      "outputs": [],
      "source": [
        "# move the input and model to GPU for speed if available\n",
        "# if torch.cuda.is_available():\n",
        "#     # testset = testset.cuda()\n",
        "#     model.to('cuda')\n",
        "\n",
        "model.eval()\n",
        "with torch.no_grad():\n",
        "    for inputs, targets in test_loader:\n",
        "      output = model(inputs)\n",
        "      output = torch.argmax(output, dim=1)\n",
        "      print(f\"in: {targets}, out: {output}\")\n",
        "# Tensor of shape 1000, with confidence scores over ImageNet's 1000 classes\n",
        "print(output[0])\n",
        "# The output has unnormalized scores. To get probabilities, you can run a softmax on it.\n",
        "probabilities = torch.nn.functional.softmax(output[0], dim=0)\n",
        "print(probabilities)"
      ]
    }
  ],
  "metadata": {
    "colab": {
      "include_colab_link": true,
      "provenance": []
    },
    "kernelspec": {
      "display_name": "Python 3",
      "name": "python3"
    },
    "language_info": {
      "codemirror_mode": {
        "name": "ipython",
        "version": 3
      },
      "file_extension": ".py",
      "mimetype": "text/x-python",
      "name": "python",
      "nbconvert_exporter": "python",
      "pygments_lexer": "ipython3",
      "version": "3.9.13"
    }
  },
  "nbformat": 4,
  "nbformat_minor": 5
}
