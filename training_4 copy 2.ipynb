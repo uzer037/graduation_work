{
  "cells": [
    {
      "cell_type": "code",
      "execution_count": 6,
      "id": "59633f65",
      "metadata": {
        "colab": {
          "base_uri": "https://localhost:8080/"
        },
        "id": "59633f65",
        "outputId": "38be706e-cf63-4e00-bddc-3fd7c4b7e2f0"
      },
      "outputs": [
        {
          "name": "stdout",
          "output_type": "stream",
          "text": [
            "device: cuda\n"
          ]
        }
      ],
      "source": [
        "# @title Dependencies\n",
        "import torch\n",
        "import torchvision\n",
        "device = 'cuda' if torch.cuda.is_available() else 'cpu'\n",
        "print(f\"device: {device}\")"
      ]
    },
    {
      "cell_type": "code",
      "execution_count": 15,
      "id": "IIrma6M3aUQz",
      "metadata": {
        "colab": {
          "base_uri": "https://localhost:8080/"
        },
        "id": "IIrma6M3aUQz",
        "outputId": "418325bd-0fe9-4223-a884-b3cba318056f"
      },
      "outputs": [],
      "source": [
        "# @title Model definition { display-mode: \"form\" }\n",
        "\n",
        "# model = torch.hub.load('pytorch/vision:v0.10.0', 'alexnet', pretrained=False)\n",
        "# Repacing last 1k classes linear layer with 2 classes layer\n",
        "# model.classifier[-1] = torch.nn.Linear(in_features=4096, out_features=2)\n",
        "\n",
        "from torch import nn\n",
        "\n",
        "class ClassifierModel(nn.Module):\n",
        "  def __init__(self):\n",
        "    super(ClassifierModel, self).__init__()\n",
        "    self.features = nn.Sequential(\n",
        "        nn.Conv2d(3,16, kernel_size=(2,2)), # 512x512x3xN --> 510x510x64xN, rf = 3x3 32-> 16\n",
        "        nn.MaxPool2d(kernel_size=2, stride=2), # 510x510x64xN --> 255x255x64xN\n",
        "        nn.ReLU(),\n",
        "        nn.Conv2d(16,128, kernel_size=(2,2)),  # 255x255x64xN --> 252x252x128xN, rf = 6x6 16-> 8\n",
        "        nn.AvgPool2d(kernel_size=2, stride=2), # 252x252x128xN --> 126x126x128xN\n",
        "        nn.ReLU(),\n",
        "        # nn.Conv2d(128,64, kernel_size=(3,3)), # 126x126x128xN --> 124x124x64xN, rf = 8x8\n",
        "        # nn.MaxPool2d(kernel_size=2, stride=2), # 124x124x64xN --> 62x62x64xN\n",
        "        # nn.ReLU(),\n",
        "        # nn.Conv2d(64,16, kernel_size=(3,3)), # 62x62x64xN --> 61x61x16xN, rf = 10x10\n",
        "        # nn.MaxPool2d(kernel_size=2, stride=2), # 60x60x16xN --> 30x30x16xN\n",
        "        # nn.ReLU(),\n",
        "    )\n",
        "    self.converter = nn.Flatten() # 30x30x16xN --> 14400 params\n",
        "    self.classifier = nn.Sequential(\n",
        "        nn.Linear(in_features=307328, out_features=4096),\n",
        "        nn.Sigmoid(),\n",
        "        nn.Linear(in_features=4096, out_features=2048),\n",
        "        nn.Sigmoid(),\n",
        "        nn.Linear(in_features=2048, out_features=512),\n",
        "        nn.Sigmoid(),\n",
        "        nn.Linear(in_features=512, out_features=128),\n",
        "        nn.Sigmoid(),\n",
        "        nn.Linear(in_features=128, out_features=32),\n",
        "        nn.Sigmoid(),\n",
        "        nn.Linear(in_features=32, out_features=8),\n",
        "        nn.Sigmoid(),\n",
        "        nn.Linear(in_features=8, out_features=2)\n",
        "    )\n",
        "\n",
        "  def forward(self, x):\n",
        "    x = self.features(x)\n",
        "    x = self.converter(x)\n",
        "    x = self.classifier(x)\n",
        "    return x"
      ]
    },
    {
      "cell_type": "code",
      "execution_count": null,
      "id": "YwG0I6szUeOP",
      "metadata": {
        "colab": {
          "base_uri": "https://localhost:8080/"
        },
        "id": "YwG0I6szUeOP",
        "outputId": "65a61ef8-46b2-46c5-f160-41942aa18054"
      },
      "outputs": [],
      "source": [
        "# @title Loading data { display-mode: \"form\" }\n",
        "\n",
        "from torchvision.transforms import v2\n",
        "from torch import Tensor\n",
        "\n",
        "preprocess = v2.Compose([\n",
        "    v2.ToImage(),\n",
        "    v2.ToDtype(torch.float32, scale=True)\n",
        "])\n",
        "    #t    ransforms.Normalize(mean=[0.485, 0.456, 0.406], std=[0.229, 0.224, 0.225])\n",
        "\n",
        "torch.manual_seed(0)\n",
        "dataset = torchvision.datasets.ImageFolder(\n",
        "    root=r'C:\\\\Users\\\\bes-s\\\\OneDrive\\\\Документы\\\\NN\\\\datasets\\\\CIFAKE\\\\train',\n",
        "    transform=preprocess\n",
        "    )\n",
        "\n",
        "trainsplit = 0.9\n",
        "# More batch, because 50 000 files in each folder\n",
        "batch_size = 64\n",
        "\n",
        "dataset_size = len(dataset)\n",
        "print(f\"Size of dataset is: {dataset_size}, train/test split ratio: {trainsplit}, batch size: {batch_size}\")\n",
        "trainset, testset = torch.utils.data.random_split(dataset, [trainsplit, 1-trainsplit])\n",
        "\n",
        "train_loader = torch.utils.data.DataLoader(dataset=trainset, batch_size=batch_size)\n",
        "test_loader = torch.utils.data.DataLoader(dataset=testset, batch_size=batch_size)"
      ]
    },
    {
      "cell_type": "code",
      "execution_count": 8,
      "id": "d5d077a6",
      "metadata": {},
      "outputs": [],
      "source": [
        "from datasets import load_dataset\n",
        "from transformers import AutoImageProcessor\n",
        "dataset = load_dataset(\"mvkvc/artifact-100k\") # subset of ArtiFact labled with \"ai\" and \"real\" tags\n",
        "\n",
        "dataset = dataset.with_format(type=\"torch\", device=device)\n",
        "\n",
        "image_processor = AutoImageProcessor.from_pretrained(\"umm-maybe/AI-image-detector\")\n",
        "\n",
        "batch_size = 40\n",
        "\n",
        "train_loader = torch.utils.data.DataLoader(dataset=dataset[\"train\"], batch_size=batch_size,  num_workers=2)\n",
        "test_loader = torch.utils.data.DataLoader(dataset=dataset[\"test\"], batch_size=batch_size, num_workers=2)"
      ]
    },
    {
      "cell_type": "code",
      "execution_count": 18,
      "id": "76133363",
      "metadata": {},
      "outputs": [],
      "source": [
        "import torch.optim as optim\n",
        "\n",
        "model = ClassifierModel()\n",
        "model.to(device)\n",
        "\n",
        "loss_func = torch.nn.CrossEntropyLoss()\n",
        "optimizer = optim.ASGD(model.parameters())"
      ]
    },
    {
      "cell_type": "code",
      "execution_count": 19,
      "id": "YF-uwvGNnewx",
      "metadata": {
        "colab": {
          "base_uri": "https://localhost:8080/",
          "height": 356
        },
        "id": "YF-uwvGNnewx",
        "outputId": "ac0ba194-a214-4c30-db26-d2bcdc471e67"
      },
      "outputs": [
        {
          "name": "stdout",
          "output_type": "stream",
          "text": [
            "epoch #1/100..."
          ]
        },
        {
          "ename": "RuntimeError",
          "evalue": "0D or 1D target tensor expected, multi-target not supported",
          "output_type": "error",
          "traceback": [
            "\u001b[1;31m---------------------------------------------------------------------------\u001b[0m",
            "\u001b[1;31mRuntimeError\u001b[0m                              Traceback (most recent call last)",
            "Cell \u001b[1;32mIn[19], line 67\u001b[0m\n\u001b[0;32m     63\u001b[0m   writer\u001b[38;5;241m.\u001b[39mclose()\n\u001b[0;32m     64\u001b[0m   \u001b[38;5;28mprint\u001b[39m(\u001b[38;5;124m'\u001b[39m\u001b[38;5;124mdone training.\u001b[39m\u001b[38;5;124m'\u001b[39m)\n\u001b[1;32m---> 67\u001b[0m \u001b[43mtrain_loop\u001b[49m\u001b[43m(\u001b[49m\u001b[43m)\u001b[49m\n",
            "Cell \u001b[1;32mIn[19], line 57\u001b[0m, in \u001b[0;36mtrain_loop\u001b[1;34m()\u001b[0m\n\u001b[0;32m     55\u001b[0m running_loss \u001b[38;5;241m=\u001b[39m \u001b[38;5;241m0.0\u001b[39m\n\u001b[0;32m     56\u001b[0m \u001b[38;5;28mprint\u001b[39m(\u001b[38;5;124mf\u001b[39m\u001b[38;5;124m\"\u001b[39m\u001b[38;5;124mepoch #\u001b[39m\u001b[38;5;132;01m{\u001b[39;00mepoch\u001b[38;5;241m+\u001b[39m\u001b[38;5;241m1\u001b[39m\u001b[38;5;132;01m}\u001b[39;00m\u001b[38;5;124m/\u001b[39m\u001b[38;5;132;01m{\u001b[39;00mepoch_count\u001b[38;5;132;01m}\u001b[39;00m\u001b[38;5;124m...\u001b[39m\u001b[38;5;124m\"\u001b[39m, end \u001b[38;5;241m=\u001b[39m \u001b[38;5;124m\"\u001b[39m\u001b[38;5;124m\"\u001b[39m)\n\u001b[1;32m---> 57\u001b[0m \u001b[43mcalculate_epoch\u001b[49m\u001b[43m(\u001b[49m\u001b[43mwriter\u001b[49m\u001b[43m,\u001b[49m\u001b[43m \u001b[49m\u001b[43mepoch\u001b[49m\u001b[43m,\u001b[49m\u001b[43m \u001b[49m\u001b[43mis_train\u001b[49m\u001b[38;5;241;43m=\u001b[39;49m\u001b[38;5;28;43;01mTrue\u001b[39;49;00m\u001b[43m)\u001b[49m\n\u001b[0;32m     58\u001b[0m \u001b[38;5;28;01mwith\u001b[39;00m torch\u001b[38;5;241m.\u001b[39mno_grad():\n\u001b[0;32m     59\u001b[0m   calculate_epoch(writer, epoch, is_train\u001b[38;5;241m=\u001b[39m\u001b[38;5;28;01mFalse\u001b[39;00m)\n",
            "Cell \u001b[1;32mIn[19], line 28\u001b[0m, in \u001b[0;36mcalculate_epoch\u001b[1;34m(writer, epoch, is_train)\u001b[0m\n\u001b[0;32m     25\u001b[0m correct \u001b[38;5;241m+\u001b[39m\u001b[38;5;241m=\u001b[39m (output\u001b[38;5;241m.\u001b[39margmax() \u001b[38;5;241m==\u001b[39m targets)\u001b[38;5;241m.\u001b[39mfloat()\u001b[38;5;241m.\u001b[39msum()\n\u001b[0;32m     27\u001b[0m targets \u001b[38;5;241m=\u001b[39m torch\u001b[38;5;241m.\u001b[39mnn\u001b[38;5;241m.\u001b[39mfunctional\u001b[38;5;241m.\u001b[39mone_hot(targets, num_classes \u001b[38;5;241m=\u001b[39m \u001b[38;5;241m2\u001b[39m)\u001b[38;5;241m.\u001b[39mto(torch\u001b[38;5;241m.\u001b[39mfloat)\n\u001b[1;32m---> 28\u001b[0m loss \u001b[38;5;241m=\u001b[39m \u001b[43mloss_func\u001b[49m\u001b[43m(\u001b[49m\u001b[43moutput\u001b[49m\u001b[43m,\u001b[49m\u001b[43m \u001b[49m\u001b[43mtargets\u001b[49m\u001b[43m)\u001b[49m\n\u001b[0;32m     29\u001b[0m \u001b[38;5;28;01mif\u001b[39;00m is_train:\n\u001b[0;32m     30\u001b[0m   loss\u001b[38;5;241m.\u001b[39mbackward()\n",
            "File \u001b[1;32m~\\AppData\\Local\\Packages\\PythonSoftwareFoundation.Python.3.9_qbz5n2kfra8p0\\LocalCache\\local-packages\\Python39\\site-packages\\torch\\nn\\modules\\module.py:1511\u001b[0m, in \u001b[0;36mModule._wrapped_call_impl\u001b[1;34m(self, *args, **kwargs)\u001b[0m\n\u001b[0;32m   1509\u001b[0m     \u001b[38;5;28;01mreturn\u001b[39;00m \u001b[38;5;28mself\u001b[39m\u001b[38;5;241m.\u001b[39m_compiled_call_impl(\u001b[38;5;241m*\u001b[39margs, \u001b[38;5;241m*\u001b[39m\u001b[38;5;241m*\u001b[39mkwargs)  \u001b[38;5;66;03m# type: ignore[misc]\u001b[39;00m\n\u001b[0;32m   1510\u001b[0m \u001b[38;5;28;01melse\u001b[39;00m:\n\u001b[1;32m-> 1511\u001b[0m     \u001b[38;5;28;01mreturn\u001b[39;00m \u001b[38;5;28mself\u001b[39m\u001b[38;5;241m.\u001b[39m_call_impl(\u001b[38;5;241m*\u001b[39margs, \u001b[38;5;241m*\u001b[39m\u001b[38;5;241m*\u001b[39mkwargs)\n",
            "File \u001b[1;32m~\\AppData\\Local\\Packages\\PythonSoftwareFoundation.Python.3.9_qbz5n2kfra8p0\\LocalCache\\local-packages\\Python39\\site-packages\\torch\\nn\\modules\\module.py:1520\u001b[0m, in \u001b[0;36mModule._call_impl\u001b[1;34m(self, *args, **kwargs)\u001b[0m\n\u001b[0;32m   1515\u001b[0m \u001b[38;5;66;03m# If we don't have any hooks, we want to skip the rest of the logic in\u001b[39;00m\n\u001b[0;32m   1516\u001b[0m \u001b[38;5;66;03m# this function, and just call forward.\u001b[39;00m\n\u001b[0;32m   1517\u001b[0m \u001b[38;5;28;01mif\u001b[39;00m \u001b[38;5;129;01mnot\u001b[39;00m (\u001b[38;5;28mself\u001b[39m\u001b[38;5;241m.\u001b[39m_backward_hooks \u001b[38;5;129;01mor\u001b[39;00m \u001b[38;5;28mself\u001b[39m\u001b[38;5;241m.\u001b[39m_backward_pre_hooks \u001b[38;5;129;01mor\u001b[39;00m \u001b[38;5;28mself\u001b[39m\u001b[38;5;241m.\u001b[39m_forward_hooks \u001b[38;5;129;01mor\u001b[39;00m \u001b[38;5;28mself\u001b[39m\u001b[38;5;241m.\u001b[39m_forward_pre_hooks\n\u001b[0;32m   1518\u001b[0m         \u001b[38;5;129;01mor\u001b[39;00m _global_backward_pre_hooks \u001b[38;5;129;01mor\u001b[39;00m _global_backward_hooks\n\u001b[0;32m   1519\u001b[0m         \u001b[38;5;129;01mor\u001b[39;00m _global_forward_hooks \u001b[38;5;129;01mor\u001b[39;00m _global_forward_pre_hooks):\n\u001b[1;32m-> 1520\u001b[0m     \u001b[38;5;28;01mreturn\u001b[39;00m forward_call(\u001b[38;5;241m*\u001b[39margs, \u001b[38;5;241m*\u001b[39m\u001b[38;5;241m*\u001b[39mkwargs)\n\u001b[0;32m   1522\u001b[0m \u001b[38;5;28;01mtry\u001b[39;00m:\n\u001b[0;32m   1523\u001b[0m     result \u001b[38;5;241m=\u001b[39m \u001b[38;5;28;01mNone\u001b[39;00m\n",
            "File \u001b[1;32m~\\AppData\\Local\\Packages\\PythonSoftwareFoundation.Python.3.9_qbz5n2kfra8p0\\LocalCache\\local-packages\\Python39\\site-packages\\torch\\nn\\modules\\loss.py:1179\u001b[0m, in \u001b[0;36mCrossEntropyLoss.forward\u001b[1;34m(self, input, target)\u001b[0m\n\u001b[0;32m   1178\u001b[0m \u001b[38;5;28;01mdef\u001b[39;00m \u001b[38;5;21mforward\u001b[39m(\u001b[38;5;28mself\u001b[39m, \u001b[38;5;28minput\u001b[39m: Tensor, target: Tensor) \u001b[38;5;241m-\u001b[39m\u001b[38;5;241m>\u001b[39m Tensor:\n\u001b[1;32m-> 1179\u001b[0m     \u001b[38;5;28;01mreturn\u001b[39;00m \u001b[43mF\u001b[49m\u001b[38;5;241;43m.\u001b[39;49m\u001b[43mcross_entropy\u001b[49m\u001b[43m(\u001b[49m\u001b[38;5;28;43minput\u001b[39;49m\u001b[43m,\u001b[49m\u001b[43m \u001b[49m\u001b[43mtarget\u001b[49m\u001b[43m,\u001b[49m\u001b[43m \u001b[49m\u001b[43mweight\u001b[49m\u001b[38;5;241;43m=\u001b[39;49m\u001b[38;5;28;43mself\u001b[39;49m\u001b[38;5;241;43m.\u001b[39;49m\u001b[43mweight\u001b[49m\u001b[43m,\u001b[49m\n\u001b[0;32m   1180\u001b[0m \u001b[43m                           \u001b[49m\u001b[43mignore_index\u001b[49m\u001b[38;5;241;43m=\u001b[39;49m\u001b[38;5;28;43mself\u001b[39;49m\u001b[38;5;241;43m.\u001b[39;49m\u001b[43mignore_index\u001b[49m\u001b[43m,\u001b[49m\u001b[43m \u001b[49m\u001b[43mreduction\u001b[49m\u001b[38;5;241;43m=\u001b[39;49m\u001b[38;5;28;43mself\u001b[39;49m\u001b[38;5;241;43m.\u001b[39;49m\u001b[43mreduction\u001b[49m\u001b[43m,\u001b[49m\n\u001b[0;32m   1181\u001b[0m \u001b[43m                           \u001b[49m\u001b[43mlabel_smoothing\u001b[49m\u001b[38;5;241;43m=\u001b[39;49m\u001b[38;5;28;43mself\u001b[39;49m\u001b[38;5;241;43m.\u001b[39;49m\u001b[43mlabel_smoothing\u001b[49m\u001b[43m)\u001b[49m\n",
            "File \u001b[1;32m~\\AppData\\Local\\Packages\\PythonSoftwareFoundation.Python.3.9_qbz5n2kfra8p0\\LocalCache\\local-packages\\Python39\\site-packages\\torch\\nn\\functional.py:3059\u001b[0m, in \u001b[0;36mcross_entropy\u001b[1;34m(input, target, weight, size_average, ignore_index, reduce, reduction, label_smoothing)\u001b[0m\n\u001b[0;32m   3057\u001b[0m \u001b[38;5;28;01mif\u001b[39;00m size_average \u001b[38;5;129;01mis\u001b[39;00m \u001b[38;5;129;01mnot\u001b[39;00m \u001b[38;5;28;01mNone\u001b[39;00m \u001b[38;5;129;01mor\u001b[39;00m reduce \u001b[38;5;129;01mis\u001b[39;00m \u001b[38;5;129;01mnot\u001b[39;00m \u001b[38;5;28;01mNone\u001b[39;00m:\n\u001b[0;32m   3058\u001b[0m     reduction \u001b[38;5;241m=\u001b[39m _Reduction\u001b[38;5;241m.\u001b[39mlegacy_get_string(size_average, reduce)\n\u001b[1;32m-> 3059\u001b[0m \u001b[38;5;28;01mreturn\u001b[39;00m \u001b[43mtorch\u001b[49m\u001b[38;5;241;43m.\u001b[39;49m\u001b[43m_C\u001b[49m\u001b[38;5;241;43m.\u001b[39;49m\u001b[43m_nn\u001b[49m\u001b[38;5;241;43m.\u001b[39;49m\u001b[43mcross_entropy_loss\u001b[49m\u001b[43m(\u001b[49m\u001b[38;5;28;43minput\u001b[39;49m\u001b[43m,\u001b[49m\u001b[43m \u001b[49m\u001b[43mtarget\u001b[49m\u001b[43m,\u001b[49m\u001b[43m \u001b[49m\u001b[43mweight\u001b[49m\u001b[43m,\u001b[49m\u001b[43m \u001b[49m\u001b[43m_Reduction\u001b[49m\u001b[38;5;241;43m.\u001b[39;49m\u001b[43mget_enum\u001b[49m\u001b[43m(\u001b[49m\u001b[43mreduction\u001b[49m\u001b[43m)\u001b[49m\u001b[43m,\u001b[49m\u001b[43m \u001b[49m\u001b[43mignore_index\u001b[49m\u001b[43m,\u001b[49m\u001b[43m \u001b[49m\u001b[43mlabel_smoothing\u001b[49m\u001b[43m)\u001b[49m\n",
            "\u001b[1;31mRuntimeError\u001b[0m: 0D or 1D target tensor expected, multi-target not supported"
          ]
        }
      ],
      "source": [
        "# @title Training loop { display-mode: \"form\" }\n",
        "\n",
        "import torch\n",
        "import datetime\n",
        "from torch.utils.tensorboard import SummaryWriter\n",
        "\n",
        "def calculate_epoch(writer: SummaryWriter, epoch, is_train=False):\n",
        "  if is_train:\n",
        "    model.train(True)\n",
        "  else:\n",
        "    model.eval()\n",
        "\n",
        "  total = 0\n",
        "  correct = 0\n",
        "  running_loss = 0\n",
        "  for batch_ind, data in enumerate(train_loader):\n",
        "    inputs, targets = data['image'], data['label']\n",
        "    inputs = inputs.permute(0,3,1,2)\n",
        "    inputs, targets = inputs.to(torch.float32).to(device), targets.to(torch.long).to(device)\n",
        "    targets = targets.unsqueeze(1)\n",
        "    optimizer.zero_grad()\n",
        "    output = model(inputs)\n",
        "\n",
        "    total += len(output)\n",
        "    correct += (output.argmax() == targets).float().sum()\n",
        "\n",
        "    targets = torch.nn.functional.one_hot(targets, num_classes = 2).to(torch.float)\n",
        "    loss = loss_func(output, targets)\n",
        "    if is_train:\n",
        "      loss.backward()\n",
        "      optimizer.step()\n",
        "\n",
        "    running_loss += loss.item()\n",
        "\n",
        "    if batch_ind % 10 == 9:\n",
        "      stage = \"train\" if is_train else \"test\"\n",
        "      avg_loss = running_loss / 10\n",
        "      writer.add_scalar(f\"loss/{stage}\", avg_loss, epoch*batch_size + batch_ind)\n",
        "      writer.add_scalar(f\"accuracy/{stage}\", correct/total, epoch*batch_size + batch_ind)\n",
        "      running_loss = 0\n",
        "\n",
        "\n",
        "def train_loop():\n",
        "  time_now = datetime.datetime.now()\n",
        "  layout = {\n",
        "      \"Model statistics\" : {\n",
        "      \"loss\": [\"Multiline\", [\"loss/train\", \"loss/test\"]],\n",
        "      \"accuracy\": [\"Multiline\", [\"accuracy/train\", \"accuracy/test\"]]\n",
        "      }\n",
        "  }\n",
        "  writer = SummaryWriter(log_dir=time_now.strftime(\"C:\\\\Users\\\\bes-s\\\\OneDrive\\\\Документы\\\\NN\\\\runs\\\\Alex-Artifact\\\\run %d-%m %H_%M_%S\"))\n",
        "  writer.add_custom_scalars(layout)\n",
        "  epoch_count = 100\n",
        "  for epoch in range(epoch_count):  # loop over the dataset multiple times\n",
        "    running_loss = 0.0\n",
        "    print(f\"epoch #{epoch+1}/{epoch_count}...\", end = \"\")\n",
        "    calculate_epoch(writer, epoch, is_train=True)\n",
        "    with torch.no_grad():\n",
        "      calculate_epoch(writer, epoch, is_train=False)\n",
        "    print(\"done.\")\n",
        "    writer.flush()\n",
        "\n",
        "  writer.close()\n",
        "  print('done training.')\n",
        "\n",
        "\n",
        "train_loop()"
      ]
    },
    {
      "cell_type": "code",
      "execution_count": null,
      "id": "78610967",
      "metadata": {
        "id": "78610967"
      },
      "outputs": [],
      "source": [
        "# move the input and model to GPU for speed if available\n",
        "# if torch.cuda.is_available():\n",
        "#     # testset = testset.cuda()\n",
        "#     model.to('cuda')\n",
        "\n",
        "model.eval()\n",
        "with torch.no_grad():\n",
        "    for inputs, targets in test_loader:\n",
        "      output = model(inputs)\n",
        "      output = torch.argmax(output, dim=1)\n",
        "      print(f\"in: {targets}, out: {output}\")\n",
        "# Tensor of shape 1000, with confidence scores over ImageNet's 1000 classes\n",
        "print(output[0])\n",
        "# The output has unnormalized scores. To get probabilities, you can run a softmax on it.\n",
        "probabilities = torch.nn.functional.softmax(output[0], dim=0)\n",
        "print(probabilities)"
      ]
    }
  ],
  "metadata": {
    "colab": {
      "include_colab_link": true,
      "provenance": []
    },
    "kernelspec": {
      "display_name": "Python 3",
      "name": "python3"
    },
    "language_info": {
      "codemirror_mode": {
        "name": "ipython",
        "version": 3
      },
      "file_extension": ".py",
      "mimetype": "text/x-python",
      "name": "python",
      "nbconvert_exporter": "python",
      "pygments_lexer": "ipython3",
      "version": "3.9.13"
    }
  },
  "nbformat": 4,
  "nbformat_minor": 5
}
