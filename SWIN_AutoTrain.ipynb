{
 "cells": [
  {
   "cell_type": "markdown",
   "metadata": {},
   "source": [
    "# Импорты"
   ]
  },
  {
   "cell_type": "code",
   "execution_count": 26,
   "metadata": {
    "metadata": {}
   },
   "outputs": [
    {
     "name": "stdout",
     "output_type": "stream",
     "text": [
      "device: cuda\n"
     ]
    },
    {
     "name": "stderr",
     "output_type": "stream",
     "text": [
      "[codecarbon INFO @ 01:07:11] Energy consumed for RAM : 0.000248 kWh. RAM Power : 5.9499335289001465 W\n",
      "[codecarbon INFO @ 01:07:11] Energy consumed for all GPUs : 0.002397 kWh. Total GPU Power : 13.308 W\n",
      "[codecarbon INFO @ 01:07:11] Energy consumed for all CPUs : 0.001980 kWh. Total CPU Power : 47.5 W\n",
      "[codecarbon INFO @ 01:07:11] 0.004625 kWh of electricity used since the beginning.\n"
     ]
    }
   ],
   "source": [
    "from transformers import AutoImageProcessor, SwinForImageClassification\n",
    "from transformers import TrainingArguments, Trainer\n",
    "from transformers import AutoFeatureExtractor\n",
    "import torch\n",
    "# import torchvision\n",
    "import evaluate\n",
    "import numpy as np\n",
    "from datasets import load_dataset\n",
    "device = 'cuda' if torch.cuda.is_available() else 'cpu'\n",
    "print(f\"device: {device}\")"
   ]
  },
  {
   "cell_type": "markdown",
   "metadata": {},
   "source": [
    "# Dataset"
   ]
  },
  {
   "cell_type": "code",
   "execution_count": 27,
   "metadata": {
    "metadata": {}
   },
   "outputs": [
    {
     "name": "stderr",
     "output_type": "stream",
     "text": [
      "[codecarbon INFO @ 01:07:16] Energy consumed for RAM : 0.000124 kWh. RAM Power : 5.9499335289001465 W\n",
      "[codecarbon INFO @ 01:07:16] Energy consumed for all GPUs : 0.001259 kWh. Total GPU Power : 41.929 W\n",
      "[codecarbon INFO @ 01:07:16] Energy consumed for all CPUs : 0.000990 kWh. Total CPU Power : 47.5 W\n",
      "[codecarbon INFO @ 01:07:16] 0.002372 kWh of electricity used since the beginning.\n",
      "C:\\Users\\bes-s\\AppData\\Local\\Packages\\PythonSoftwareFoundation.Python.3.9_qbz5n2kfra8p0\\LocalCache\\local-packages\\Python39\\site-packages\\datasets\\table.py:1421: FutureWarning: promote has been superseded by promote_options='default'.\n",
      "  table = cls._concat_blocks(blocks, axis=0)\n",
      "C:\\Users\\bes-s\\AppData\\Local\\Packages\\PythonSoftwareFoundation.Python.3.9_qbz5n2kfra8p0\\LocalCache\\local-packages\\Python39\\site-packages\\transformers\\models\\vit\\feature_extraction_vit.py:28: FutureWarning: The class ViTFeatureExtractor is deprecated and will be removed in version 5 of Transformers. Please use ViTImageProcessor instead.\n",
      "  warnings.warn(\n"
     ]
    }
   ],
   "source": [
    "dataset = load_dataset(\"mvkvc/artifact-100k\") # subset of ArtiFact labled with \"ai\" and \"real\" tags\n",
    "# dataset = load_dataset(\"imagefolder\", data_dir=\"c:/Users/bes-s/OneDrive/Документы/NN/datasets/artifacts\")\n",
    "dataset = dataset.with_format(type=\"torch\", device=device)\n",
    "\n",
    "batch_size = 20\n",
    "\n",
    "# small_train_dataset = dataset[\"train\"].shuffle(seed=42).select(range(1000))\n",
    "# small_eval_dataset = dataset[\"test\"].shuffle(seed=42).select(range(100))\n",
    "\n",
    "model_name= 'test_trainer7'\n",
    "# model_name = 'microsoft/swin-large-patch4-window7-224'\n",
    "feature_extractor = AutoFeatureExtractor.from_pretrained(model_name)\n",
    "\n",
    "def transform(example_batch):\n",
    "    # Take a list of PIL images and turn them to pixel values\n",
    "    inputs = feature_extractor([x.convert('RGB') for x in example_batch['image']], return_tensors='pt')\n",
    "    inputs['label'] = example_batch['label']\n",
    "    return inputs\n",
    "\n",
    "prepared_ds = dataset.with_transform(transform)"
   ]
  },
  {
   "cell_type": "markdown",
   "metadata": {},
   "source": [
    "# Model Creation"
   ]
  },
  {
   "cell_type": "code",
   "execution_count": 28,
   "metadata": {
    "metadata": {}
   },
   "outputs": [],
   "source": [
    "metric = evaluate.load(\"accuracy\")\n",
    "def compute_metrics(p):\n",
    "  # function which calculates accuracy for a certain set of predictions\n",
    "  return metric.compute(predictions=np.argmax(p.predictions, axis=1), references=p.label_ids)\n",
    "\n",
    "def collate_fn(batch):\n",
    "  #data collator\n",
    "    return {\n",
    "        'pixel_values': torch.stack([x['pixel_values'] for x in batch]),\n",
    "        'labels': torch.tensor([x['label'] for x in batch])\n",
    "    }"
   ]
  },
  {
   "cell_type": "markdown",
   "metadata": {},
   "source": [
    "Номерация моделей\n",
    "\n",
    "\n",
    "4. base\n",
    "5. large\n",
    "6. base artifacts\n",
    "7. large artifacts\n",
    "8. base 100k -> artifacts\n",
    "9. large 100k -> artifacts\n",
    "10. base artifacts -> 100k\n",
    "11. large artifacts -> 100k отменен! Причина: 97 часов на обучение"
   ]
  },
  {
   "cell_type": "code",
   "execution_count": 29,
   "metadata": {
    "metadata": {}
   },
   "outputs": [
    {
     "name": "stderr",
     "output_type": "stream",
     "text": [
      "[codecarbon INFO @ 01:07:26] Energy consumed for RAM : 0.000273 kWh. RAM Power : 5.9499335289001465 W\n",
      "[codecarbon INFO @ 01:07:26] Energy consumed for all GPUs : 0.002454 kWh. Total GPU Power : 13.803 W\n",
      "[codecarbon INFO @ 01:07:26] Energy consumed for all CPUs : 0.002178 kWh. Total CPU Power : 47.5 W\n",
      "[codecarbon INFO @ 01:07:26] 0.004905 kWh of electricity used since the beginning.\n"
     ]
    }
   ],
   "source": [
    "labels = dataset['train'].features['label'].names\n",
    "\n",
    "model = SwinForImageClassification.from_pretrained(\n",
    "    model_name,\n",
    "    num_labels=len(labels),\n",
    "    id2label={str(i): c for i, c in enumerate(labels)},\n",
    "    label2id={c: str(i) for i, c in enumerate(labels)},\n",
    "    ignore_mismatched_sizes = True,\n",
    ")\n",
    "\n",
    "training_args = TrainingArguments(\n",
    "    f\"test_trainer11\",\n",
    "    remove_unused_columns=False,\n",
    "    evaluation_strategy = \"epoch\",\n",
    "    save_strategy = \"epoch\",\n",
    "    learning_rate=1e-6,\n",
    "    per_device_train_batch_size=batch_size,\n",
    "    gradient_accumulation_steps=4,\n",
    "    per_device_eval_batch_size=batch_size,\n",
    "    num_train_epochs=10, #Эпохи\n",
    "    warmup_ratio=0.1,\n",
    "    logging_steps=10,\n",
    "    load_best_model_at_end=True,\n",
    "    metric_for_best_model=\"accuracy\",\n",
    "    push_to_hub=False,\n",
    ")\n",
    "\n"
   ]
  },
  {
   "cell_type": "code",
   "execution_count": null,
   "metadata": {
    "metadata": {}
   },
   "outputs": [
    {
     "name": "stderr",
     "output_type": "stream",
     "text": [
      "[codecarbon INFO @ 01:07:28] [setup] RAM Tracking...\n",
      "[codecarbon INFO @ 01:07:28] [setup] GPU Tracking...\n",
      "[codecarbon INFO @ 01:07:28] Tracking Nvidia GPU via pynvml\n",
      "[codecarbon INFO @ 01:07:28] [setup] CPU Tracking...\n",
      "[codecarbon WARNING @ 01:07:28] No CPU tracking mode found. Falling back on CPU constant mode.\n",
      "[codecarbon INFO @ 01:07:30] CPU Model on constant consumption mode: Intel(R) Core(TM) i5-8600K CPU @ 3.60GHz\n",
      "[codecarbon INFO @ 01:07:30] >>> Tracker's metadata:\n",
      "[codecarbon INFO @ 01:07:30]   Platform system: Windows-10-10.0.19045-SP0\n",
      "[codecarbon INFO @ 01:07:30]   Python version: 3.9.13\n",
      "[codecarbon INFO @ 01:07:30]   CodeCarbon version: 2.2.3\n",
      "[codecarbon INFO @ 01:07:30]   Available RAM : 15.866 GB\n",
      "[codecarbon INFO @ 01:07:30]   CPU count: 6\n",
      "[codecarbon INFO @ 01:07:30]   CPU model: Intel(R) Core(TM) i5-8600K CPU @ 3.60GHz\n",
      "[codecarbon INFO @ 01:07:30]   GPU count: 1\n",
      "[codecarbon INFO @ 01:07:30]   GPU model: 1 x NVIDIA GeForce RTX 4070 Ti\n"
     ]
    },
    {
     "name": "stderr",
     "output_type": "stream",
     "text": [
      "[codecarbon INFO @ 01:07:31] Energy consumed for RAM : 0.000149 kWh. RAM Power : 5.9499335289001465 W\n",
      "[codecarbon INFO @ 01:07:31] Energy consumed for all GPUs : 0.001308 kWh. Total GPU Power : 11.832 W\n",
      "[codecarbon INFO @ 01:07:31] Energy consumed for all CPUs : 0.001188 kWh. Total CPU Power : 47.5 W\n",
      "[codecarbon INFO @ 01:07:31] 0.002645 kWh of electricity used since the beginning.\n"
     ]
    }
   ],
   "source": [
    "trainer = Trainer(\n",
    "    model=model,\n",
    "    args=training_args,\n",
    "    data_collator=collate_fn,\n",
    "    compute_metrics=compute_metrics,\n",
    "    train_dataset=prepared_ds[\"train\"],\n",
    "    eval_dataset=prepared_ds[\"test\"],\n",
    "    tokenizer=feature_extractor,\n",
    ")"
   ]
  },
  {
   "cell_type": "markdown",
   "metadata": {},
   "source": [
    "# TRAIN IT"
   ]
  },
  {
   "cell_type": "code",
   "execution_count": 31,
   "metadata": {
    "metadata": {}
   },
   "outputs": [
    {
     "data": {
      "application/vnd.jupyter.widget-view+json": {
       "model_id": "fc22af34857e45b0af7918d707b44d51",
       "version_major": 2,
       "version_minor": 0
      },
      "text/plain": [
       "  0%|          | 0/11250 [00:00<?, ?it/s]"
      ]
     },
     "metadata": {},
     "output_type": "display_data"
    },
    {
     "name": "stderr",
     "output_type": "stream",
     "text": [
      "[codecarbon INFO @ 01:07:41] Energy consumed for RAM : 0.000297 kWh. RAM Power : 5.9499335289001465 W\n",
      "[codecarbon INFO @ 01:07:41] Energy consumed for all GPUs : 0.002874 kWh. Total GPU Power : 100.816 W\n",
      "[codecarbon INFO @ 01:07:41] Energy consumed for all CPUs : 0.002376 kWh. Total CPU Power : 47.5 W\n",
      "[codecarbon INFO @ 01:07:41] 0.005548 kWh of electricity used since the beginning.\n",
      "[codecarbon INFO @ 01:07:46] Energy consumed for RAM : 0.000173 kWh. RAM Power : 5.9499335289001465 W\n",
      "[codecarbon INFO @ 01:07:46] Energy consumed for all GPUs : 0.001560 kWh. Total GPU Power : 60.514 W\n",
      "[codecarbon INFO @ 01:07:46] Energy consumed for all CPUs : 0.001386 kWh. Total CPU Power : 47.5 W\n",
      "[codecarbon INFO @ 01:07:46] 0.003119 kWh of electricity used since the beginning.\n",
      "[codecarbon INFO @ 01:07:49] Energy consumed for RAM : 0.000025 kWh. RAM Power : 5.9499335289001465 W\n",
      "[codecarbon INFO @ 01:07:49] Energy consumed for all GPUs : 0.000267 kWh. Total GPU Power : 63.865 W\n",
      "[codecarbon INFO @ 01:07:49] Energy consumed for all CPUs : 0.000198 kWh. Total CPU Power : 47.5 W\n",
      "[codecarbon INFO @ 01:07:49] 0.000490 kWh of electricity used since the beginning.\n",
      "[codecarbon INFO @ 01:07:56] Energy consumed for RAM : 0.000322 kWh. RAM Power : 5.9499335289001465 W\n",
      "[codecarbon INFO @ 01:07:56] Energy consumed for all GPUs : 0.003136 kWh. Total GPU Power : 62.71300000000001 W\n",
      "[codecarbon INFO @ 01:07:56] Energy consumed for all CPUs : 0.002574 kWh. Total CPU Power : 47.5 W\n",
      "[codecarbon INFO @ 01:07:56] 0.006032 kWh of electricity used since the beginning.\n",
      "[codecarbon INFO @ 01:08:01] Energy consumed for RAM : 0.000198 kWh. RAM Power : 5.9499335289001465 W\n",
      "[codecarbon INFO @ 01:08:01] Energy consumed for all GPUs : 0.001887 kWh. Total GPU Power : 78.53 W\n",
      "[codecarbon INFO @ 01:08:01] Energy consumed for all CPUs : 0.001584 kWh. Total CPU Power : 47.5 W\n",
      "[codecarbon INFO @ 01:08:01] 0.003669 kWh of electricity used since the beginning.\n",
      "[codecarbon INFO @ 01:08:04] Energy consumed for RAM : 0.000050 kWh. RAM Power : 5.9499335289001465 W\n",
      "[codecarbon INFO @ 01:08:04] Energy consumed for all GPUs : 0.000635 kWh. Total GPU Power : 88.56100000000002 W\n",
      "[codecarbon INFO @ 01:08:04] Energy consumed for all CPUs : 0.000396 kWh. Total CPU Power : 47.5 W\n",
      "[codecarbon INFO @ 01:08:04] 0.001081 kWh of electricity used since the beginning.\n",
      "[codecarbon INFO @ 01:08:11] Energy consumed for RAM : 0.000347 kWh. RAM Power : 5.9499335289001465 W\n",
      "[codecarbon INFO @ 01:08:11] Energy consumed for all GPUs : 0.003388 kWh. Total GPU Power : 60.481 W\n",
      "[codecarbon INFO @ 01:08:11] Energy consumed for all CPUs : 0.002772 kWh. Total CPU Power : 47.5 W\n",
      "[codecarbon INFO @ 01:08:11] 0.006507 kWh of electricity used since the beginning.\n",
      "[codecarbon INFO @ 01:08:16] Energy consumed for RAM : 0.000223 kWh. RAM Power : 5.9499335289001465 W\n",
      "[codecarbon INFO @ 01:08:16] Energy consumed for all GPUs : 0.002144 kWh. Total GPU Power : 61.862 W\n",
      "[codecarbon INFO @ 01:08:16] Energy consumed for all CPUs : 0.001782 kWh. Total CPU Power : 47.5 W\n",
      "[codecarbon INFO @ 01:08:16] 0.004149 kWh of electricity used since the beginning.\n",
      "[codecarbon INFO @ 01:08:19] Energy consumed for RAM : 0.000074 kWh. RAM Power : 5.9499335289001465 W\n",
      "[codecarbon INFO @ 01:08:19] Energy consumed for all GPUs : 0.000893 kWh. Total GPU Power : 61.769 W\n",
      "[codecarbon INFO @ 01:08:19] Energy consumed for all CPUs : 0.000594 kWh. Total CPU Power : 47.5 W\n",
      "[codecarbon INFO @ 01:08:19] 0.001561 kWh of electricity used since the beginning.\n",
      "[codecarbon INFO @ 01:08:26] Energy consumed for RAM : 0.000372 kWh. RAM Power : 5.9499335289001465 W\n",
      "[codecarbon INFO @ 01:08:27] Energy consumed for all GPUs : 0.003659 kWh. Total GPU Power : 65.221 W\n",
      "[codecarbon INFO @ 01:08:27] Energy consumed for all CPUs : 0.002971 kWh. Total CPU Power : 47.5 W\n",
      "[codecarbon INFO @ 01:08:27] 0.007002 kWh of electricity used since the beginning.\n",
      "[codecarbon INFO @ 01:08:31] Energy consumed for RAM : 0.000248 kWh. RAM Power : 5.9499335289001465 W\n",
      "[codecarbon INFO @ 01:08:31] Energy consumed for all GPUs : 0.002400 kWh. Total GPU Power : 61.321 W\n",
      "[codecarbon INFO @ 01:08:31] Energy consumed for all CPUs : 0.001981 kWh. Total CPU Power : 47.5 W\n",
      "[codecarbon INFO @ 01:08:31] 0.004628 kWh of electricity used since the beginning.\n",
      "[codecarbon INFO @ 01:08:34] Energy consumed for RAM : 0.000099 kWh. RAM Power : 5.9499335289001465 W\n",
      "[codecarbon INFO @ 01:08:34] Energy consumed for all GPUs : 0.001150 kWh. Total GPU Power : 61.846000000000004 W\n",
      "[codecarbon INFO @ 01:08:34] Energy consumed for all CPUs : 0.000792 kWh. Total CPU Power : 47.5 W\n",
      "[codecarbon INFO @ 01:08:34] 0.002042 kWh of electricity used since the beginning.\n",
      "[codecarbon INFO @ 01:08:41] Energy consumed for RAM : 0.000396 kWh. RAM Power : 5.9499335289001465 W\n",
      "[codecarbon INFO @ 01:08:42] Energy consumed for all GPUs : 0.003924 kWh. Total GPU Power : 63.47 W\n",
      "[codecarbon INFO @ 01:08:42] Energy consumed for all CPUs : 0.003168 kWh. Total CPU Power : 47.5 W\n",
      "[codecarbon INFO @ 01:08:42] 0.007489 kWh of electricity used since the beginning.\n",
      "[codecarbon INFO @ 01:08:46] Energy consumed for RAM : 0.000272 kWh. RAM Power : 5.9499335289001465 W\n",
      "[codecarbon INFO @ 01:08:46] Energy consumed for all GPUs : 0.002661 kWh. Total GPU Power : 62.946000000000005 W\n",
      "[codecarbon INFO @ 01:08:46] Energy consumed for all CPUs : 0.002178 kWh. Total CPU Power : 47.5 W\n",
      "[codecarbon INFO @ 01:08:46] 0.005112 kWh of electricity used since the beginning.\n",
      "[codecarbon INFO @ 01:08:49] Energy consumed for RAM : 0.000124 kWh. RAM Power : 5.9499335289001465 W\n",
      "[codecarbon INFO @ 01:08:49] Energy consumed for all GPUs : 0.001409 kWh. Total GPU Power : 62.07 W\n",
      "[codecarbon INFO @ 01:08:49] Energy consumed for all CPUs : 0.000990 kWh. Total CPU Power : 47.5 W\n",
      "[codecarbon INFO @ 01:08:49] 0.002523 kWh of electricity used since the beginning.\n",
      "[codecarbon INFO @ 01:08:56] Energy consumed for RAM : 0.000421 kWh. RAM Power : 5.9499335289001465 W\n",
      "[codecarbon INFO @ 01:08:57] Energy consumed for all GPUs : 0.004203 kWh. Total GPU Power : 67.101 W\n",
      "[codecarbon INFO @ 01:08:57] Energy consumed for all CPUs : 0.003366 kWh. Total CPU Power : 47.5 W\n",
      "[codecarbon INFO @ 01:08:57] 0.007991 kWh of electricity used since the beginning.\n"
     ]
    }
   ],
   "source": [
    "train_results = trainer.train()\n",
    "trainer.save_model()\n",
    "trainer.log_metrics(\"train\", train_results.metrics)\n",
    "trainer.save_metrics(\"train\", train_results.metrics)\n",
    "trainer.save_state()\n",
    "\n",
    "# Evaluate on validation set\n"
   ]
  },
  {
   "cell_type": "code",
   "execution_count": 16,
   "metadata": {
    "metadata": {}
   },
   "outputs": [
    {
     "data": {
      "application/vnd.jupyter.widget-view+json": {
       "model_id": "7d20b551d90d4385b1878b99393ee10d",
       "version_major": 2,
       "version_minor": 0
      },
      "text/plain": [
       "  0%|          | 0/55 [00:00<?, ?it/s]"
      ]
     },
     "metadata": {},
     "output_type": "display_data"
    },
    {
     "name": "stdout",
     "output_type": "stream",
     "text": [
      "***** eval metrics *****\n",
      "  epoch                   =     5.9421\n",
      "  eval_accuracy           =     0.6447\n",
      "  eval_loss               =      0.636\n",
      "  eval_runtime            = 0:00:13.77\n",
      "  eval_samples_per_second =     79.497\n",
      "  eval_steps_per_second   =      3.993\n"
     ]
    }
   ],
   "source": [
    "metrics = trainer.evaluate(prepared_ds['test'])\n",
    "trainer.log_metrics(\"eval\", metrics)\n",
    "trainer.save_metrics(\"eval\", metrics)"
   ]
  },
  {
   "cell_type": "code",
   "execution_count": null,
   "metadata": {},
   "outputs": [],
   "source": []
  }
 ],
 "metadata": {
  "kernelspec": {
   "display_name": "Python 3",
   "language": "python",
   "name": "python3"
  },
  "language_info": {
   "codemirror_mode": {
    "name": "ipython",
    "version": 3
   },
   "file_extension": ".py",
   "mimetype": "text/x-python",
   "name": "python",
   "nbconvert_exporter": "python",
   "pygments_lexer": "ipython3",
   "version": "3.9.13"
  }
 },
 "nbformat": 4,
 "nbformat_minor": 2
}
