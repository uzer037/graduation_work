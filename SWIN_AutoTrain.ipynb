{
 "cells": [
  {
   "cell_type": "markdown",
   "metadata": {},
   "source": [
    "# Импорты"
   ]
  },
  {
   "cell_type": "code",
   "execution_count": 1,
   "metadata": {},
   "outputs": [
    {
     "name": "stdout",
     "output_type": "stream",
     "text": [
      "device: cuda\n"
     ]
    }
   ],
   "source": [
    "from transformers import AutoImageProcessor, SwinForImageClassification\n",
    "from transformers import TrainingArguments, Trainer\n",
    "from transformers import AutoFeatureExtractor\n",
    "import torch\n",
    "import evaluate\n",
    "import numpy as np\n",
    "from datasets import load_dataset\n",
    "device = 'cuda' if torch.cuda.is_available() else 'cpu'\n",
    "print(f\"device: {device}\")"
   ]
  },
  {
   "cell_type": "markdown",
   "metadata": {},
   "source": [
    "# Dataset"
   ]
  },
  {
   "cell_type": "code",
   "execution_count": 2,
   "metadata": {},
   "outputs": [
    {
     "name": "stderr",
     "output_type": "stream",
     "text": [
      "C:\\Users\\bes-s\\AppData\\Local\\Packages\\PythonSoftwareFoundation.Python.3.9_qbz5n2kfra8p0\\LocalCache\\local-packages\\Python39\\site-packages\\datasets\\table.py:1421: FutureWarning: promote has been superseded by promote_options='default'.\n",
      "  table = cls._concat_blocks(blocks, axis=0)\n",
      "C:\\Users\\bes-s\\AppData\\Local\\Packages\\PythonSoftwareFoundation.Python.3.9_qbz5n2kfra8p0\\LocalCache\\local-packages\\Python39\\site-packages\\transformers\\models\\vit\\feature_extraction_vit.py:28: FutureWarning: The class ViTFeatureExtractor is deprecated and will be removed in version 5 of Transformers. Please use ViTImageProcessor instead.\n",
      "  warnings.warn(\n"
     ]
    }
   ],
   "source": [
    "dataset = load_dataset(\"mvkvc/artifact-100k\") # subset of ArtiFact labled with \"ai\" and \"real\" tags\n",
    "dataset = dataset.with_format(type=\"torch\", device=device)\n",
    "\n",
    "batch_size = 20\n",
    "\n",
    "# small_train_dataset = dataset[\"train\"].shuffle(seed=42).select(range(1000))\n",
    "# small_eval_dataset = dataset[\"test\"].shuffle(seed=42).select(range(100))\n",
    "\n",
    "model_name= 'microsoft/swin-base-patch4-window7-224'\n",
    "feature_extractor = AutoFeatureExtractor.from_pretrained(model_name)\n",
    "\n",
    "def transform(example_batch):\n",
    "    # Take a list of PIL images and turn them to pixel values\n",
    "    inputs = feature_extractor([x.convert('RGB') for x in example_batch['image']], return_tensors='pt')\n",
    "    inputs['label'] = example_batch['label']\n",
    "    return inputs\n",
    "\n",
    "prepared_ds = dataset.with_transform(transform)"
   ]
  },
  {
   "cell_type": "markdown",
   "metadata": {},
   "source": [
    "# Model Creation"
   ]
  },
  {
   "cell_type": "code",
   "execution_count": 3,
   "metadata": {},
   "outputs": [],
   "source": [
    "metric = evaluate.load(\"accuracy\")\n",
    "def compute_metrics(p):\n",
    "  # function which calculates accuracy for a certain set of predictions\n",
    "  return metric.compute(predictions=np.argmax(p.predictions, axis=1), references=p.label_ids)\n",
    "\n",
    "def collate_fn(batch):\n",
    "  #data collator\n",
    "    return {\n",
    "        'pixel_values': torch.stack([x['pixel_values'] for x in batch]),\n",
    "        'labels': torch.tensor([x['label'] for x in batch])\n",
    "    }"
   ]
  },
  {
   "cell_type": "code",
   "execution_count": 5,
   "metadata": {},
   "outputs": [
    {
     "data": {
      "application/vnd.jupyter.widget-view+json": {
       "model_id": "29a5c11463db4f2c98e043a091e1f6d8",
       "version_major": 2,
       "version_minor": 0
      },
      "text/plain": [
       "config.json:   0%|          | 0.00/71.8k [00:00<?, ?B/s]"
      ]
     },
     "metadata": {},
     "output_type": "display_data"
    },
    {
     "data": {
      "application/vnd.jupyter.widget-view+json": {
       "model_id": "d3c2b87dec6f4aa1ae73330ab9354c5a",
       "version_major": 2,
       "version_minor": 0
      },
      "text/plain": [
       "model.safetensors:   0%|          | 0.00/352M [00:00<?, ?B/s]"
      ]
     },
     "metadata": {},
     "output_type": "display_data"
    },
    {
     "name": "stderr",
     "output_type": "stream",
     "text": [
      "Some weights of SwinForImageClassification were not initialized from the model checkpoint at microsoft/swin-base-patch4-window7-224 and are newly initialized because the shapes did not match:\n",
      "- classifier.bias: found shape torch.Size([1000]) in the checkpoint and torch.Size([2]) in the model instantiated\n",
      "- classifier.weight: found shape torch.Size([1000, 1024]) in the checkpoint and torch.Size([2, 1024]) in the model instantiated\n",
      "You should probably TRAIN this model on a down-stream task to be able to use it for predictions and inference.\n"
     ]
    }
   ],
   "source": [
    "labels = dataset['train'].features['label'].names\n",
    "\n",
    "model = SwinForImageClassification.from_pretrained(\n",
    "    model_name,\n",
    "    num_labels=len(labels),\n",
    "    id2label={str(i): c for i, c in enumerate(labels)},\n",
    "    label2id={c: str(i) for i, c in enumerate(labels)},\n",
    "    ignore_mismatched_sizes = True,\n",
    ")\n",
    "\n",
    "training_args = TrainingArguments(\n",
    "    f\"test_trainer\",\n",
    "    remove_unused_columns=False,\n",
    "    evaluation_strategy = \"epoch\",\n",
    "    save_strategy = \"epoch\",\n",
    "    learning_rate=5e-5,\n",
    "    per_device_train_batch_size=batch_size,\n",
    "    gradient_accumulation_steps=4,\n",
    "    per_device_eval_batch_size=batch_size,\n",
    "    num_train_epochs=3,\n",
    "    warmup_ratio=0.1,\n",
    "    logging_steps=10,\n",
    "    load_best_model_at_end=True,\n",
    "    metric_for_best_model=\"accuracy\",\n",
    "    push_to_hub=False,\n",
    ")\n",
    "\n"
   ]
  },
  {
   "cell_type": "code",
   "execution_count": 6,
   "metadata": {},
   "outputs": [
    {
     "name": "stderr",
     "output_type": "stream",
     "text": [
      "[codecarbon INFO @ 02:53:13] [setup] RAM Tracking...\n",
      "[codecarbon INFO @ 02:53:13] [setup] GPU Tracking...\n",
      "[codecarbon INFO @ 02:53:13] Tracking Nvidia GPU via pynvml\n",
      "[codecarbon INFO @ 02:53:13] [setup] CPU Tracking...\n",
      "[codecarbon WARNING @ 02:53:13] No CPU tracking mode found. Falling back on CPU constant mode.\n",
      "[codecarbon INFO @ 02:53:14] CPU Model on constant consumption mode: Intel(R) Core(TM) i5-8600K CPU @ 3.60GHz\n",
      "[codecarbon INFO @ 02:53:14] >>> Tracker's metadata:\n",
      "[codecarbon INFO @ 02:53:14]   Platform system: Windows-10-10.0.19045-SP0\n",
      "[codecarbon INFO @ 02:53:14]   Python version: 3.9.13\n",
      "[codecarbon INFO @ 02:53:14]   CodeCarbon version: 2.2.3\n",
      "[codecarbon INFO @ 02:53:14]   Available RAM : 15.866 GB\n",
      "[codecarbon INFO @ 02:53:14]   CPU count: 6\n",
      "[codecarbon INFO @ 02:53:14]   CPU model: Intel(R) Core(TM) i5-8600K CPU @ 3.60GHz\n",
      "[codecarbon INFO @ 02:53:14]   GPU count: 1\n",
      "[codecarbon INFO @ 02:53:14]   GPU model: 1 x NVIDIA GeForce RTX 4070 Ti\n"
     ]
    }
   ],
   "source": [
    "trainer = Trainer(\n",
    "    model=model,\n",
    "    args=training_args,\n",
    "    data_collator=collate_fn,\n",
    "    compute_metrics=compute_metrics,\n",
    "    train_dataset=prepared_ds[\"train\"],\n",
    "    eval_dataset=prepared_ds[\"test\"],\n",
    "    tokenizer=feature_extractor,\n",
    ")"
   ]
  },
  {
   "cell_type": "code",
   "execution_count": 7,
   "metadata": {},
   "outputs": [
    {
     "data": {
      "application/vnd.jupyter.widget-view+json": {
       "model_id": "4748bdba91c941e4be631102d25d47c5",
       "version_major": 2,
       "version_minor": 0
      },
      "text/plain": [
       "  0%|          | 0/3375 [00:00<?, ?it/s]"
      ]
     },
     "metadata": {},
     "output_type": "display_data"
    },
    {
     "name": "stdout",
     "output_type": "stream",
     "text": [
      "{'loss': 0.7713, 'grad_norm': 4.312137603759766, 'learning_rate': 1.4792899408284024e-06, 'epoch': 0.01}\n"
     ]
    },
    {
     "name": "stderr",
     "output_type": "stream",
     "text": [
      "[codecarbon INFO @ 02:53:33] Energy consumed for RAM : 0.000025 kWh. RAM Power : 5.9499335289001465 W\n",
      "[codecarbon INFO @ 02:53:33] Energy consumed for all GPUs : 0.000833 kWh. Total GPU Power : 199.82500000000002 W\n",
      "[codecarbon INFO @ 02:53:33] Energy consumed for all CPUs : 0.000199 kWh. Total CPU Power : 47.5 W\n",
      "[codecarbon INFO @ 02:53:33] 0.001057 kWh of electricity used since the beginning.\n"
     ]
    },
    {
     "name": "stdout",
     "output_type": "stream",
     "text": [
      "{'loss': 0.7396, 'grad_norm': 4.900791168212891, 'learning_rate': 2.9585798816568047e-06, 'epoch': 0.02}\n",
      "{'loss': 0.7045, 'grad_norm': 15.371414184570312, 'learning_rate': 4.437869822485207e-06, 'epoch': 0.03}\n"
     ]
    },
    {
     "name": "stderr",
     "output_type": "stream",
     "text": [
      "[codecarbon INFO @ 02:53:48] Energy consumed for RAM : 0.000050 kWh. RAM Power : 5.9499335289001465 W\n",
      "[codecarbon INFO @ 02:53:48] Energy consumed for all GPUs : 0.001660 kWh. Total GPU Power : 198.96200000000002 W\n",
      "[codecarbon INFO @ 02:53:48] Energy consumed for all CPUs : 0.000396 kWh. Total CPU Power : 47.5 W\n",
      "[codecarbon INFO @ 02:53:48] 0.002105 kWh of electricity used since the beginning.\n"
     ]
    },
    {
     "name": "stdout",
     "output_type": "stream",
     "text": [
      "{'loss': 0.6585, 'grad_norm': 5.09067440032959, 'learning_rate': 5.917159763313609e-06, 'epoch': 0.04}\n"
     ]
    },
    {
     "name": "stderr",
     "output_type": "stream",
     "text": [
      "[codecarbon INFO @ 02:54:03] Energy consumed for RAM : 0.000074 kWh. RAM Power : 5.9499335289001465 W\n",
      "[codecarbon INFO @ 02:54:03] Energy consumed for all GPUs : 0.002474 kWh. Total GPU Power : 195.364 W\n",
      "[codecarbon INFO @ 02:54:03] Energy consumed for all CPUs : 0.000595 kWh. Total CPU Power : 47.5 W\n",
      "[codecarbon INFO @ 02:54:03] 0.003142 kWh of electricity used since the beginning.\n"
     ]
    },
    {
     "name": "stdout",
     "output_type": "stream",
     "text": [
      "{'loss': 0.6245, 'grad_norm': 4.224398612976074, 'learning_rate': 7.396449704142013e-06, 'epoch': 0.04}\n",
      "{'loss': 0.5918, 'grad_norm': 3.632559299468994, 'learning_rate': 8.875739644970414e-06, 'epoch': 0.05}\n"
     ]
    },
    {
     "name": "stderr",
     "output_type": "stream",
     "text": [
      "[codecarbon INFO @ 02:54:18] Energy consumed for RAM : 0.000099 kWh. RAM Power : 5.9499335289001465 W\n",
      "[codecarbon INFO @ 02:54:18] Energy consumed for all GPUs : 0.003299 kWh. Total GPU Power : 198.752 W\n",
      "[codecarbon INFO @ 02:54:18] Energy consumed for all CPUs : 0.000792 kWh. Total CPU Power : 47.5 W\n",
      "[codecarbon INFO @ 02:54:18] 0.004191 kWh of electricity used since the beginning.\n"
     ]
    },
    {
     "name": "stdout",
     "output_type": "stream",
     "text": [
      "{'loss': 0.6365, 'grad_norm': 3.536371946334839, 'learning_rate': 1.0355029585798817e-05, 'epoch': 0.06}\n"
     ]
    },
    {
     "name": "stderr",
     "output_type": "stream",
     "text": [
      "[codecarbon INFO @ 02:54:33] Energy consumed for RAM : 0.000124 kWh. RAM Power : 5.9499335289001465 W\n",
      "[codecarbon INFO @ 02:54:33] Energy consumed for all GPUs : 0.004175 kWh. Total GPU Power : 210.25 W\n",
      "[codecarbon INFO @ 02:54:33] Energy consumed for all CPUs : 0.000991 kWh. Total CPU Power : 47.5 W\n",
      "[codecarbon INFO @ 02:54:33] 0.005289 kWh of electricity used since the beginning.\n"
     ]
    },
    {
     "name": "stdout",
     "output_type": "stream",
     "text": [
      "{'loss': 0.5676, 'grad_norm': 3.839207172393799, 'learning_rate': 1.1834319526627219e-05, 'epoch': 0.07}\n",
      "{'loss': 0.5414, 'grad_norm': 3.7726423740386963, 'learning_rate': 1.3313609467455624e-05, 'epoch': 0.08}\n"
     ]
    },
    {
     "name": "stderr",
     "output_type": "stream",
     "text": [
      "[codecarbon INFO @ 02:54:48] Energy consumed for RAM : 0.000148 kWh. RAM Power : 5.9499335289001465 W\n",
      "[codecarbon INFO @ 02:54:48] Energy consumed for all GPUs : 0.005039 kWh. Total GPU Power : 207.935 W\n",
      "[codecarbon INFO @ 02:54:48] Energy consumed for all CPUs : 0.001188 kWh. Total CPU Power : 47.5 W\n",
      "[codecarbon INFO @ 02:54:48] 0.006376 kWh of electricity used since the beginning.\n"
     ]
    },
    {
     "name": "stdout",
     "output_type": "stream",
     "text": [
      "{'loss': 0.5451, 'grad_norm': 10.602768898010254, 'learning_rate': 1.4792899408284025e-05, 'epoch': 0.09}\n"
     ]
    },
    {
     "name": "stderr",
     "output_type": "stream",
     "text": [
      "[codecarbon INFO @ 02:55:03] Energy consumed for RAM : 0.000173 kWh. RAM Power : 5.9499335289001465 W\n",
      "[codecarbon INFO @ 02:55:03] Energy consumed for all GPUs : 0.005860 kWh. Total GPU Power : 197.143 W\n",
      "[codecarbon INFO @ 02:55:03] Energy consumed for all CPUs : 0.001387 kWh. Total CPU Power : 47.5 W\n",
      "[codecarbon INFO @ 02:55:03] 0.007420 kWh of electricity used since the beginning.\n"
     ]
    },
    {
     "name": "stdout",
     "output_type": "stream",
     "text": [
      "{'loss': 0.5286, 'grad_norm': 7.012412071228027, 'learning_rate': 1.6272189349112425e-05, 'epoch': 0.1}\n",
      "{'loss': 0.5094, 'grad_norm': 8.084014892578125, 'learning_rate': 1.7751479289940828e-05, 'epoch': 0.11}\n"
     ]
    },
    {
     "name": "stderr",
     "output_type": "stream",
     "text": [
      "[codecarbon INFO @ 02:55:18] Energy consumed for RAM : 0.000198 kWh. RAM Power : 5.9499335289001465 W\n",
      "[codecarbon INFO @ 02:55:18] Energy consumed for all GPUs : 0.006692 kWh. Total GPU Power : 200.47600000000003 W\n",
      "[codecarbon INFO @ 02:55:18] Energy consumed for all CPUs : 0.001584 kWh. Total CPU Power : 47.5 W\n",
      "[codecarbon INFO @ 02:55:18] 0.008475 kWh of electricity used since the beginning.\n"
     ]
    },
    {
     "name": "stdout",
     "output_type": "stream",
     "text": [
      "{'loss': 0.4771, 'grad_norm': 7.841710090637207, 'learning_rate': 1.923076923076923e-05, 'epoch': 0.12}\n"
     ]
    },
    {
     "name": "stderr",
     "output_type": "stream",
     "text": [
      "[codecarbon INFO @ 02:55:33] Energy consumed for RAM : 0.000223 kWh. RAM Power : 5.9499335289001465 W\n",
      "[codecarbon INFO @ 02:55:33] Energy consumed for all GPUs : 0.007523 kWh. Total GPU Power : 199.479 W\n",
      "[codecarbon INFO @ 02:55:33] Energy consumed for all CPUs : 0.001783 kWh. Total CPU Power : 47.5 W\n",
      "[codecarbon INFO @ 02:55:33] 0.009529 kWh of electricity used since the beginning.\n"
     ]
    },
    {
     "name": "stdout",
     "output_type": "stream",
     "text": [
      "{'loss': 0.5118, 'grad_norm': 10.119993209838867, 'learning_rate': 2.0710059171597635e-05, 'epoch': 0.12}\n",
      "{'loss': 0.493, 'grad_norm': 5.300312519073486, 'learning_rate': 2.2189349112426034e-05, 'epoch': 0.13}\n"
     ]
    },
    {
     "name": "stderr",
     "output_type": "stream",
     "text": [
      "[codecarbon INFO @ 02:55:48] Energy consumed for RAM : 0.000247 kWh. RAM Power : 5.9499335289001465 W\n",
      "[codecarbon INFO @ 02:55:48] Energy consumed for all GPUs : 0.008373 kWh. Total GPU Power : 204.717 W\n",
      "[codecarbon INFO @ 02:55:48] Energy consumed for all CPUs : 0.001980 kWh. Total CPU Power : 47.5 W\n",
      "[codecarbon INFO @ 02:55:48] 0.010600 kWh of electricity used since the beginning.\n"
     ]
    },
    {
     "name": "stdout",
     "output_type": "stream",
     "text": [
      "{'loss': 0.4851, 'grad_norm': 6.185497760772705, 'learning_rate': 2.3668639053254438e-05, 'epoch': 0.14}\n",
      "{'loss': 0.4365, 'grad_norm': 10.08010482788086, 'learning_rate': 2.514792899408284e-05, 'epoch': 0.15}\n"
     ]
    },
    {
     "name": "stderr",
     "output_type": "stream",
     "text": [
      "[codecarbon INFO @ 02:56:03] Energy consumed for RAM : 0.000272 kWh. RAM Power : 5.9499335289001465 W\n",
      "[codecarbon INFO @ 02:56:03] Energy consumed for all GPUs : 0.009196 kWh. Total GPU Power : 197.644 W\n",
      "[codecarbon INFO @ 02:56:03] Energy consumed for all CPUs : 0.002178 kWh. Total CPU Power : 47.5 W\n",
      "[codecarbon INFO @ 02:56:03] 0.011646 kWh of electricity used since the beginning.\n"
     ]
    },
    {
     "name": "stdout",
     "output_type": "stream",
     "text": [
      "{'loss': 0.4087, 'grad_norm': 8.884448051452637, 'learning_rate': 2.6627218934911247e-05, 'epoch': 0.16}\n"
     ]
    },
    {
     "name": "stderr",
     "output_type": "stream",
     "text": [
      "[codecarbon INFO @ 02:56:18] Energy consumed for RAM : 0.000297 kWh. RAM Power : 5.9499335289001465 W\n",
      "[codecarbon INFO @ 02:56:18] Energy consumed for all GPUs : 0.010023 kWh. Total GPU Power : 198.64200000000002 W\n",
      "[codecarbon INFO @ 02:56:18] Energy consumed for all CPUs : 0.002376 kWh. Total CPU Power : 47.5 W\n",
      "[codecarbon INFO @ 02:56:18] 0.012697 kWh of electricity used since the beginning.\n"
     ]
    },
    {
     "name": "stdout",
     "output_type": "stream",
     "text": [
      "{'loss': 0.4489, 'grad_norm': 7.5336713790893555, 'learning_rate': 2.8106508875739644e-05, 'epoch': 0.17}\n",
      "{'loss': 0.409, 'grad_norm': 9.035347938537598, 'learning_rate': 2.958579881656805e-05, 'epoch': 0.18}\n"
     ]
    },
    {
     "name": "stderr",
     "output_type": "stream",
     "text": [
      "[codecarbon INFO @ 02:56:33] Energy consumed for RAM : 0.000322 kWh. RAM Power : 5.9499335289001465 W\n",
      "[codecarbon INFO @ 02:56:33] Energy consumed for all GPUs : 0.010867 kWh. Total GPU Power : 202.644 W\n",
      "[codecarbon INFO @ 02:56:33] Energy consumed for all CPUs : 0.002575 kWh. Total CPU Power : 47.5 W\n",
      "[codecarbon INFO @ 02:56:33] 0.013764 kWh of electricity used since the beginning.\n"
     ]
    },
    {
     "name": "stdout",
     "output_type": "stream",
     "text": [
      "{'loss': 0.4135, 'grad_norm': 8.482542037963867, 'learning_rate': 3.106508875739645e-05, 'epoch': 0.19}\n"
     ]
    },
    {
     "name": "stderr",
     "output_type": "stream",
     "text": [
      "[codecarbon INFO @ 02:56:48] Energy consumed for RAM : 0.000346 kWh. RAM Power : 5.9499335289001465 W\n",
      "[codecarbon INFO @ 02:56:48] Energy consumed for all GPUs : 0.011710 kWh. Total GPU Power : 202.915 W\n",
      "[codecarbon INFO @ 02:56:48] Energy consumed for all CPUs : 0.002772 kWh. Total CPU Power : 47.5 W\n",
      "[codecarbon INFO @ 02:56:48] 0.014829 kWh of electricity used since the beginning.\n"
     ]
    },
    {
     "name": "stdout",
     "output_type": "stream",
     "text": [
      "{'loss': 0.4071, 'grad_norm': 19.214244842529297, 'learning_rate': 3.254437869822485e-05, 'epoch': 0.2}\n",
      "{'loss': 0.3502, 'grad_norm': 7.361783981323242, 'learning_rate': 3.402366863905326e-05, 'epoch': 0.2}\n"
     ]
    },
    {
     "name": "stderr",
     "output_type": "stream",
     "text": [
      "[codecarbon INFO @ 02:57:03] Energy consumed for RAM : 0.000371 kWh. RAM Power : 5.9499335289001465 W\n",
      "[codecarbon INFO @ 02:57:03] Energy consumed for all GPUs : 0.012534 kWh. Total GPU Power : 197.949 W\n",
      "[codecarbon INFO @ 02:57:03] Energy consumed for all CPUs : 0.002971 kWh. Total CPU Power : 47.5 W\n",
      "[codecarbon INFO @ 02:57:03] 0.015876 kWh of electricity used since the beginning.\n"
     ]
    },
    {
     "name": "stdout",
     "output_type": "stream",
     "text": [
      "{'loss': 0.3601, 'grad_norm': 12.169071197509766, 'learning_rate': 3.5502958579881656e-05, 'epoch': 0.21}\n",
      "{'loss': 0.3588, 'grad_norm': 12.148900032043457, 'learning_rate': 3.698224852071006e-05, 'epoch': 0.22}\n"
     ]
    },
    {
     "name": "stderr",
     "output_type": "stream",
     "text": [
      "[codecarbon INFO @ 02:57:18] Energy consumed for RAM : 0.000396 kWh. RAM Power : 5.9499335289001465 W\n",
      "[codecarbon INFO @ 02:57:18] Energy consumed for all GPUs : 0.013383 kWh. Total GPU Power : 204.42400000000004 W\n",
      "[codecarbon INFO @ 02:57:18] Energy consumed for all CPUs : 0.003168 kWh. Total CPU Power : 47.5 W\n",
      "[codecarbon INFO @ 02:57:18] 0.016947 kWh of electricity used since the beginning.\n"
     ]
    },
    {
     "name": "stdout",
     "output_type": "stream",
     "text": [
      "{'loss': 0.4121, 'grad_norm': 11.805462837219238, 'learning_rate': 3.846153846153846e-05, 'epoch': 0.23}\n"
     ]
    },
    {
     "name": "stderr",
     "output_type": "stream",
     "text": [
      "[codecarbon INFO @ 02:57:33] Energy consumed for RAM : 0.000421 kWh. RAM Power : 5.9499335289001465 W\n",
      "[codecarbon INFO @ 02:57:33] Energy consumed for all GPUs : 0.014255 kWh. Total GPU Power : 209.377 W\n",
      "[codecarbon INFO @ 02:57:33] Energy consumed for all CPUs : 0.003366 kWh. Total CPU Power : 47.5 W\n",
      "[codecarbon INFO @ 02:57:33] 0.018042 kWh of electricity used since the beginning.\n"
     ]
    },
    {
     "name": "stdout",
     "output_type": "stream",
     "text": [
      "{'loss': 0.3914, 'grad_norm': 21.015005111694336, 'learning_rate': 3.9940828402366866e-05, 'epoch': 0.24}\n",
      "{'loss': 0.4092, 'grad_norm': 8.015970230102539, 'learning_rate': 4.142011834319527e-05, 'epoch': 0.25}\n"
     ]
    },
    {
     "name": "stderr",
     "output_type": "stream",
     "text": [
      "[codecarbon INFO @ 02:57:48] Energy consumed for RAM : 0.000445 kWh. RAM Power : 5.9499335289001465 W\n",
      "[codecarbon INFO @ 02:57:48] Energy consumed for all GPUs : 0.015117 kWh. Total GPU Power : 206.817 W\n",
      "[codecarbon INFO @ 02:57:48] Energy consumed for all CPUs : 0.003565 kWh. Total CPU Power : 47.5 W\n",
      "[codecarbon INFO @ 02:57:48] 0.019127 kWh of electricity used since the beginning.\n"
     ]
    },
    {
     "name": "stdout",
     "output_type": "stream",
     "text": [
      "{'loss': 0.3601, 'grad_norm': 17.938581466674805, 'learning_rate': 4.289940828402367e-05, 'epoch': 0.26}\n"
     ]
    },
    {
     "name": "stderr",
     "output_type": "stream",
     "text": [
      "[codecarbon INFO @ 02:58:03] Energy consumed for RAM : 0.000470 kWh. RAM Power : 5.9499335289001465 W\n",
      "[codecarbon INFO @ 02:58:03] Energy consumed for all GPUs : 0.015956 kWh. Total GPU Power : 201.64300000000003 W\n",
      "[codecarbon INFO @ 02:58:03] Energy consumed for all CPUs : 0.003763 kWh. Total CPU Power : 47.5 W\n",
      "[codecarbon INFO @ 02:58:03] 0.020189 kWh of electricity used since the beginning.\n"
     ]
    },
    {
     "name": "stdout",
     "output_type": "stream",
     "text": [
      "{'loss': 0.3667, 'grad_norm': 6.3870954513549805, 'learning_rate': 4.437869822485207e-05, 'epoch': 0.27}\n",
      "{'loss': 0.3438, 'grad_norm': 7.02772855758667, 'learning_rate': 4.585798816568048e-05, 'epoch': 0.28}\n"
     ]
    },
    {
     "name": "stderr",
     "output_type": "stream",
     "text": [
      "[codecarbon INFO @ 02:58:18] Energy consumed for RAM : 0.000495 kWh. RAM Power : 5.9499335289001465 W\n",
      "[codecarbon INFO @ 02:58:18] Energy consumed for all GPUs : 0.016843 kWh. Total GPU Power : 213.897 W\n",
      "[codecarbon INFO @ 02:58:18] Energy consumed for all CPUs : 0.003960 kWh. Total CPU Power : 47.5 W\n",
      "[codecarbon INFO @ 02:58:18] 0.021298 kWh of electricity used since the beginning.\n"
     ]
    },
    {
     "name": "stdout",
     "output_type": "stream",
     "text": [
      "{'loss': 0.3809, 'grad_norm': 12.738110542297363, 'learning_rate': 4.7337278106508875e-05, 'epoch': 0.28}\n"
     ]
    },
    {
     "name": "stderr",
     "output_type": "stream",
     "text": [
      "[codecarbon INFO @ 02:58:33] Energy consumed for RAM : 0.000520 kWh. RAM Power : 5.9499335289001465 W\n",
      "[codecarbon INFO @ 02:58:33] Energy consumed for all GPUs : 0.017727 kWh. Total GPU Power : 212.203 W\n",
      "[codecarbon INFO @ 02:58:33] Energy consumed for all CPUs : 0.004158 kWh. Total CPU Power : 47.5 W\n",
      "[codecarbon INFO @ 02:58:33] 0.022404 kWh of electricity used since the beginning.\n"
     ]
    },
    {
     "name": "stdout",
     "output_type": "stream",
     "text": [
      "{'loss': 0.3505, 'grad_norm': 7.664763927459717, 'learning_rate': 4.881656804733728e-05, 'epoch': 0.29}\n",
      "{'loss': 0.3114, 'grad_norm': 11.257596015930176, 'learning_rate': 4.996707276918011e-05, 'epoch': 0.3}\n"
     ]
    },
    {
     "name": "stderr",
     "output_type": "stream",
     "text": [
      "[codecarbon INFO @ 02:58:48] Energy consumed for RAM : 0.000544 kWh. RAM Power : 5.9499335289001465 W\n",
      "[codecarbon INFO @ 02:58:48] Energy consumed for all GPUs : 0.018549 kWh. Total GPU Power : 197.73300000000003 W\n",
      "[codecarbon INFO @ 02:58:48] Energy consumed for all CPUs : 0.004357 kWh. Total CPU Power : 47.5 W\n",
      "[codecarbon INFO @ 02:58:48] 0.023450 kWh of electricity used since the beginning.\n"
     ]
    },
    {
     "name": "stdout",
     "output_type": "stream",
     "text": [
      "{'loss': 0.3583, 'grad_norm': 13.374557495117188, 'learning_rate': 4.9802436615080674e-05, 'epoch': 0.31}\n",
      "{'loss': 0.377, 'grad_norm': 19.476219177246094, 'learning_rate': 4.963780046098123e-05, 'epoch': 0.32}\n"
     ]
    },
    {
     "name": "stderr",
     "output_type": "stream",
     "text": [
      "[codecarbon INFO @ 02:59:03] Energy consumed for RAM : 0.000569 kWh. RAM Power : 5.9499335289001465 W\n",
      "[codecarbon INFO @ 02:59:03] Energy consumed for all GPUs : 0.019394 kWh. Total GPU Power : 203.317 W\n",
      "[codecarbon INFO @ 02:59:03] Energy consumed for all CPUs : 0.004554 kWh. Total CPU Power : 47.5 W\n",
      "[codecarbon INFO @ 02:59:03] 0.024517 kWh of electricity used since the beginning.\n"
     ]
    },
    {
     "name": "stdout",
     "output_type": "stream",
     "text": [
      "{'loss': 0.3339, 'grad_norm': 13.317275047302246, 'learning_rate': 4.947316430688179e-05, 'epoch': 0.33}\n"
     ]
    },
    {
     "name": "stderr",
     "output_type": "stream",
     "text": [
      "[codecarbon INFO @ 02:59:18] Energy consumed for RAM : 0.000594 kWh. RAM Power : 5.9499335289001465 W\n",
      "[codecarbon INFO @ 02:59:18] Energy consumed for all GPUs : 0.020224 kWh. Total GPU Power : 199.12000000000003 W\n",
      "[codecarbon INFO @ 02:59:18] Energy consumed for all CPUs : 0.004752 kWh. Total CPU Power : 47.5 W\n",
      "[codecarbon INFO @ 02:59:18] 0.025570 kWh of electricity used since the beginning.\n"
     ]
    },
    {
     "name": "stdout",
     "output_type": "stream",
     "text": [
      "{'loss': 0.3425, 'grad_norm': 8.10871410369873, 'learning_rate': 4.930852815278235e-05, 'epoch': 0.34}\n",
      "{'loss': 0.3392, 'grad_norm': 15.885085105895996, 'learning_rate': 4.914389199868291e-05, 'epoch': 0.35}\n"
     ]
    },
    {
     "name": "stderr",
     "output_type": "stream",
     "text": [
      "[codecarbon INFO @ 02:59:33] Energy consumed for RAM : 0.000619 kWh. RAM Power : 5.9499335289001465 W\n",
      "[codecarbon INFO @ 02:59:33] Energy consumed for all GPUs : 0.021048 kWh. Total GPU Power : 197.97 W\n",
      "[codecarbon INFO @ 02:59:33] Energy consumed for all CPUs : 0.004950 kWh. Total CPU Power : 47.5 W\n",
      "[codecarbon INFO @ 02:59:33] 0.026617 kWh of electricity used since the beginning.\n"
     ]
    },
    {
     "name": "stdout",
     "output_type": "stream",
     "text": [
      "{'loss': 0.3019, 'grad_norm': 11.084595680236816, 'learning_rate': 4.8979255844583474e-05, 'epoch': 0.36}\n"
     ]
    },
    {
     "name": "stderr",
     "output_type": "stream",
     "text": [
      "[codecarbon INFO @ 02:59:48] Energy consumed for RAM : 0.000643 kWh. RAM Power : 5.9499335289001465 W\n",
      "[codecarbon INFO @ 02:59:48] Energy consumed for all GPUs : 0.021887 kWh. Total GPU Power : 201.45000000000002 W\n",
      "[codecarbon INFO @ 02:59:48] Energy consumed for all CPUs : 0.005149 kWh. Total CPU Power : 47.5 W\n",
      "[codecarbon INFO @ 02:59:48] 0.027679 kWh of electricity used since the beginning.\n"
     ]
    },
    {
     "name": "stdout",
     "output_type": "stream",
     "text": [
      "{'loss': 0.2939, 'grad_norm': 13.952971458435059, 'learning_rate': 4.881461969048403e-05, 'epoch': 0.36}\n",
      "{'loss': 0.3167, 'grad_norm': 5.570925712585449, 'learning_rate': 4.864998353638459e-05, 'epoch': 0.37}\n"
     ]
    },
    {
     "name": "stderr",
     "output_type": "stream",
     "text": [
      "[codecarbon INFO @ 03:00:03] Energy consumed for RAM : 0.000668 kWh. RAM Power : 5.9499335289001465 W\n",
      "[codecarbon INFO @ 03:00:03] Energy consumed for all GPUs : 0.022761 kWh. Total GPU Power : 210.368 W\n",
      "[codecarbon INFO @ 03:00:03] Energy consumed for all CPUs : 0.005346 kWh. Total CPU Power : 47.5 W\n",
      "[codecarbon INFO @ 03:00:03] 0.028775 kWh of electricity used since the beginning.\n"
     ]
    },
    {
     "name": "stdout",
     "output_type": "stream",
     "text": [
      "{'loss': 0.2885, 'grad_norm': 6.702107906341553, 'learning_rate': 4.848534738228515e-05, 'epoch': 0.38}\n",
      "{'loss': 0.3499, 'grad_norm': 9.266282081604004, 'learning_rate': 4.832071122818571e-05, 'epoch': 0.39}\n"
     ]
    },
    {
     "name": "stderr",
     "output_type": "stream",
     "text": [
      "[codecarbon INFO @ 03:00:18] Energy consumed for RAM : 0.000693 kWh. RAM Power : 5.9499335289001465 W\n",
      "[codecarbon INFO @ 03:00:18] Energy consumed for all GPUs : 0.023602 kWh. Total GPU Power : 201.88500000000002 W\n",
      "[codecarbon INFO @ 03:00:18] Energy consumed for all CPUs : 0.005545 kWh. Total CPU Power : 47.5 W\n",
      "[codecarbon INFO @ 03:00:18] 0.029840 kWh of electricity used since the beginning.\n"
     ]
    },
    {
     "name": "stdout",
     "output_type": "stream",
     "text": [
      "{'loss': 0.3203, 'grad_norm': 9.891498565673828, 'learning_rate': 4.815607507408627e-05, 'epoch': 0.4}\n"
     ]
    },
    {
     "name": "stderr",
     "output_type": "stream",
     "text": [
      "[codecarbon INFO @ 03:00:33] Energy consumed for RAM : 0.000718 kWh. RAM Power : 5.9499335289001465 W\n",
      "[codecarbon INFO @ 03:00:33] Energy consumed for all GPUs : 0.024481 kWh. Total GPU Power : 211.458 W\n",
      "[codecarbon INFO @ 03:00:33] Energy consumed for all CPUs : 0.005742 kWh. Total CPU Power : 47.5 W\n",
      "[codecarbon INFO @ 03:00:33] 0.030941 kWh of electricity used since the beginning.\n"
     ]
    },
    {
     "name": "stdout",
     "output_type": "stream",
     "text": [
      "{'loss': 0.3502, 'grad_norm': 8.582230567932129, 'learning_rate': 4.799143891998683e-05, 'epoch': 0.41}\n",
      "{'loss': 0.3098, 'grad_norm': 6.074405670166016, 'learning_rate': 4.7826802765887394e-05, 'epoch': 0.42}\n"
     ]
    },
    {
     "name": "stderr",
     "output_type": "stream",
     "text": [
      "[codecarbon INFO @ 03:00:48] Energy consumed for RAM : 0.000742 kWh. RAM Power : 5.9499335289001465 W\n",
      "[codecarbon INFO @ 03:00:48] Energy consumed for all GPUs : 0.025328 kWh. Total GPU Power : 203.35 W\n",
      "[codecarbon INFO @ 03:00:48] Energy consumed for all CPUs : 0.005940 kWh. Total CPU Power : 47.5 W\n",
      "[codecarbon INFO @ 03:00:48] 0.032010 kWh of electricity used since the beginning.\n"
     ]
    },
    {
     "name": "stdout",
     "output_type": "stream",
     "text": [
      "{'loss': 0.2953, 'grad_norm': 104.93709564208984, 'learning_rate': 4.766216661178795e-05, 'epoch': 0.43}\n"
     ]
    },
    {
     "name": "stderr",
     "output_type": "stream",
     "text": [
      "[codecarbon INFO @ 03:01:03] Energy consumed for RAM : 0.000767 kWh. RAM Power : 5.9499335289001465 W\n",
      "[codecarbon INFO @ 03:01:03] Energy consumed for all GPUs : 0.026188 kWh. Total GPU Power : 206.431 W\n",
      "[codecarbon INFO @ 03:01:03] Energy consumed for all CPUs : 0.006138 kWh. Total CPU Power : 47.5 W\n",
      "[codecarbon INFO @ 03:01:03] 0.033094 kWh of electricity used since the beginning.\n"
     ]
    },
    {
     "name": "stdout",
     "output_type": "stream",
     "text": [
      "{'loss': 0.2871, 'grad_norm': 5.676672458648682, 'learning_rate': 4.749753045768851e-05, 'epoch': 0.44}\n",
      "{'loss': 0.3176, 'grad_norm': 9.871156692504883, 'learning_rate': 4.733289430358907e-05, 'epoch': 0.44}\n"
     ]
    },
    {
     "name": "stderr",
     "output_type": "stream",
     "text": [
      "[codecarbon INFO @ 03:01:18] Energy consumed for RAM : 0.000792 kWh. RAM Power : 5.9499335289001465 W\n",
      "[codecarbon INFO @ 03:01:18] Energy consumed for all GPUs : 0.027069 kWh. Total GPU Power : 211.659 W\n",
      "[codecarbon INFO @ 03:01:18] Energy consumed for all CPUs : 0.006337 kWh. Total CPU Power : 47.5 W\n",
      "[codecarbon INFO @ 03:01:18] 0.034198 kWh of electricity used since the beginning.\n"
     ]
    },
    {
     "name": "stdout",
     "output_type": "stream",
     "text": [
      "{'loss': 0.3018, 'grad_norm': 17.948970794677734, 'learning_rate': 4.716825814948963e-05, 'epoch': 0.45}\n"
     ]
    },
    {
     "name": "stderr",
     "output_type": "stream",
     "text": [
      "[codecarbon INFO @ 03:01:33] Energy consumed for RAM : 0.000817 kWh. RAM Power : 5.9499335289001465 W\n",
      "[codecarbon INFO @ 03:01:33] Energy consumed for all GPUs : 0.027941 kWh. Total GPU Power : 209.847 W\n"
     ]
    },
    {
     "name": "stdout",
     "output_type": "stream",
     "text": [
      "{'loss': 0.3035, 'grad_norm': 9.377435684204102, 'learning_rate': 4.700362199539019e-05, 'epoch': 0.46}\n"
     ]
    },
    {
     "name": "stderr",
     "output_type": "stream",
     "text": [
      "[codecarbon INFO @ 03:01:33] Energy consumed for all CPUs : 0.006534 kWh. Total CPU Power : 47.5 W\n",
      "[codecarbon INFO @ 03:01:33] 0.035292 kWh of electricity used since the beginning.\n"
     ]
    },
    {
     "name": "stdout",
     "output_type": "stream",
     "text": [
      "{'loss': 0.2678, 'grad_norm': 5.090084552764893, 'learning_rate': 4.683898584129075e-05, 'epoch': 0.47}\n"
     ]
    },
    {
     "name": "stderr",
     "output_type": "stream",
     "text": [
      "[codecarbon INFO @ 03:01:48] Energy consumed for RAM : 0.000841 kWh. RAM Power : 5.9499335289001465 W\n",
      "[codecarbon INFO @ 03:01:48] Energy consumed for all GPUs : 0.028770 kWh. Total GPU Power : 199.254 W\n",
      "[codecarbon INFO @ 03:01:48] Energy consumed for all CPUs : 0.006733 kWh. Total CPU Power : 47.5 W\n",
      "[codecarbon INFO @ 03:01:48] 0.036345 kWh of electricity used since the beginning.\n"
     ]
    },
    {
     "name": "stdout",
     "output_type": "stream",
     "text": [
      "{'loss': 0.2626, 'grad_norm': 4.949427604675293, 'learning_rate': 4.667434968719131e-05, 'epoch': 0.48}\n",
      "{'loss': 0.267, 'grad_norm': 5.391843318939209, 'learning_rate': 4.650971353309187e-05, 'epoch': 0.49}\n"
     ]
    },
    {
     "name": "stderr",
     "output_type": "stream",
     "text": [
      "[codecarbon INFO @ 03:02:03] Energy consumed for RAM : 0.000866 kWh. RAM Power : 5.9499335289001465 W\n",
      "[codecarbon INFO @ 03:02:03] Energy consumed for all GPUs : 0.029663 kWh. Total GPU Power : 214.93400000000003 W\n",
      "[codecarbon INFO @ 03:02:03] Energy consumed for all CPUs : 0.006931 kWh. Total CPU Power : 47.5 W\n",
      "[codecarbon INFO @ 03:02:03] 0.037460 kWh of electricity used since the beginning.\n"
     ]
    },
    {
     "name": "stdout",
     "output_type": "stream",
     "text": [
      "{'loss': 0.3337, 'grad_norm': 6.584529876708984, 'learning_rate': 4.634507737899243e-05, 'epoch': 0.5}\n"
     ]
    },
    {
     "name": "stderr",
     "output_type": "stream",
     "text": [
      "[codecarbon INFO @ 03:02:18] Energy consumed for RAM : 0.000891 kWh. RAM Power : 5.9499335289001465 W\n",
      "[codecarbon INFO @ 03:02:18] Energy consumed for all GPUs : 0.030507 kWh. Total GPU Power : 202.733 W\n",
      "[codecarbon INFO @ 03:02:18] Energy consumed for all CPUs : 0.007129 kWh. Total CPU Power : 47.5 W\n",
      "[codecarbon INFO @ 03:02:18] 0.038527 kWh of electricity used since the beginning.\n"
     ]
    },
    {
     "name": "stdout",
     "output_type": "stream",
     "text": [
      "{'loss': 0.2736, 'grad_norm': 9.5055513381958, 'learning_rate': 4.618044122489299e-05, 'epoch': 0.51}\n",
      "{'loss': 0.3535, 'grad_norm': 9.034135818481445, 'learning_rate': 4.601580507079355e-05, 'epoch': 0.52}\n"
     ]
    },
    {
     "name": "stderr",
     "output_type": "stream",
     "text": [
      "[codecarbon INFO @ 03:02:33] Energy consumed for RAM : 0.000916 kWh. RAM Power : 5.9499335289001465 W\n",
      "[codecarbon INFO @ 03:02:33] Energy consumed for all GPUs : 0.031353 kWh. Total GPU Power : 203.1 W\n",
      "[codecarbon INFO @ 03:02:33] Energy consumed for all CPUs : 0.007326 kWh. Total CPU Power : 47.5 W\n",
      "[codecarbon INFO @ 03:02:33] 0.039595 kWh of electricity used since the beginning.\n"
     ]
    },
    {
     "name": "stdout",
     "output_type": "stream",
     "text": [
      "{'loss': 0.2956, 'grad_norm': 5.378804683685303, 'learning_rate': 4.585116891669411e-05, 'epoch': 0.52}\n"
     ]
    },
    {
     "name": "stderr",
     "output_type": "stream",
     "text": [
      "[codecarbon INFO @ 03:02:48] Energy consumed for RAM : 0.000940 kWh. RAM Power : 5.9499335289001465 W\n",
      "[codecarbon INFO @ 03:02:48] Energy consumed for all GPUs : 0.032193 kWh. Total GPU Power : 201.464 W\n",
      "[codecarbon INFO @ 03:02:48] Energy consumed for all CPUs : 0.007525 kWh. Total CPU Power : 47.5 W\n",
      "[codecarbon INFO @ 03:02:48] 0.040658 kWh of electricity used since the beginning.\n"
     ]
    },
    {
     "name": "stdout",
     "output_type": "stream",
     "text": [
      "{'loss': 0.2791, 'grad_norm': 9.241389274597168, 'learning_rate': 4.568653276259467e-05, 'epoch': 0.53}\n",
      "{'loss': 0.2916, 'grad_norm': 7.627205848693848, 'learning_rate': 4.5521896608495226e-05, 'epoch': 0.54}\n"
     ]
    },
    {
     "name": "stderr",
     "output_type": "stream",
     "text": [
      "[codecarbon INFO @ 03:03:03] Energy consumed for RAM : 0.000965 kWh. RAM Power : 5.9499335289001465 W\n",
      "[codecarbon INFO @ 03:03:03] Energy consumed for all GPUs : 0.033063 kWh. Total GPU Power : 209.399 W\n",
      "[codecarbon INFO @ 03:03:03] Energy consumed for all CPUs : 0.007723 kWh. Total CPU Power : 47.5 W\n",
      "[codecarbon INFO @ 03:03:03] 0.041750 kWh of electricity used since the beginning.\n"
     ]
    },
    {
     "name": "stdout",
     "output_type": "stream",
     "text": [
      "{'loss': 0.2802, 'grad_norm': 9.570143699645996, 'learning_rate': 4.535726045439579e-05, 'epoch': 0.55}\n",
      "{'loss': 0.2495, 'grad_norm': 4.310057163238525, 'learning_rate': 4.519262430029635e-05, 'epoch': 0.56}\n"
     ]
    },
    {
     "name": "stderr",
     "output_type": "stream",
     "text": [
      "[codecarbon INFO @ 03:03:18] Energy consumed for RAM : 0.000990 kWh. RAM Power : 5.9499335289001465 W\n",
      "[codecarbon INFO @ 03:03:18] Energy consumed for all GPUs : 0.033921 kWh. Total GPU Power : 206.017 W\n",
      "[codecarbon INFO @ 03:03:18] Energy consumed for all CPUs : 0.007921 kWh. Total CPU Power : 47.5 W\n",
      "[codecarbon INFO @ 03:03:18] 0.042831 kWh of electricity used since the beginning.\n"
     ]
    },
    {
     "name": "stdout",
     "output_type": "stream",
     "text": [
      "{'loss': 0.271, 'grad_norm': 12.770593643188477, 'learning_rate': 4.502798814619691e-05, 'epoch': 0.57}\n"
     ]
    },
    {
     "name": "stderr",
     "output_type": "stream",
     "text": [
      "[codecarbon INFO @ 03:03:33] Energy consumed for RAM : 0.001015 kWh. RAM Power : 5.9499335289001465 W\n",
      "[codecarbon INFO @ 03:03:33] Energy consumed for all GPUs : 0.034762 kWh. Total GPU Power : 202.184 W\n",
      "[codecarbon INFO @ 03:03:33] Energy consumed for all CPUs : 0.008118 kWh. Total CPU Power : 47.5 W\n",
      "[codecarbon INFO @ 03:03:33] 0.043895 kWh of electricity used since the beginning.\n"
     ]
    },
    {
     "name": "stdout",
     "output_type": "stream",
     "text": [
      "{'loss': 0.3038, 'grad_norm': 6.601933002471924, 'learning_rate': 4.486335199209747e-05, 'epoch': 0.58}\n",
      "{'loss': 0.2832, 'grad_norm': 4.281738758087158, 'learning_rate': 4.469871583799803e-05, 'epoch': 0.59}\n"
     ]
    },
    {
     "name": "stderr",
     "output_type": "stream",
     "text": [
      "[codecarbon INFO @ 03:03:48] Energy consumed for RAM : 0.001039 kWh. RAM Power : 5.9499335289001465 W\n",
      "[codecarbon INFO @ 03:03:48] Energy consumed for all GPUs : 0.035596 kWh. Total GPU Power : 200.114 W\n",
      "[codecarbon INFO @ 03:03:48] Energy consumed for all CPUs : 0.008316 kWh. Total CPU Power : 47.5 W\n",
      "[codecarbon INFO @ 03:03:48] 0.044952 kWh of electricity used since the beginning.\n"
     ]
    },
    {
     "name": "stdout",
     "output_type": "stream",
     "text": [
      "{'loss': 0.2722, 'grad_norm': 4.757516860961914, 'learning_rate': 4.453407968389859e-05, 'epoch': 0.6}\n"
     ]
    },
    {
     "name": "stderr",
     "output_type": "stream",
     "text": [
      "[codecarbon INFO @ 03:04:03] Energy consumed for RAM : 0.001064 kWh. RAM Power : 5.9499335289001465 W\n",
      "[codecarbon INFO @ 03:04:03] Energy consumed for all GPUs : 0.036462 kWh. Total GPU Power : 208.03800000000004 W\n",
      "[codecarbon INFO @ 03:04:03] Energy consumed for all CPUs : 0.008514 kWh. Total CPU Power : 47.5 W\n",
      "[codecarbon INFO @ 03:04:03] 0.046041 kWh of electricity used since the beginning.\n"
     ]
    },
    {
     "name": "stdout",
     "output_type": "stream",
     "text": [
      "{'loss': 0.2757, 'grad_norm': 6.040764331817627, 'learning_rate': 4.4369443529799146e-05, 'epoch': 0.6}\n",
      "{'loss': 0.2592, 'grad_norm': 5.249866485595703, 'learning_rate': 4.420480737569971e-05, 'epoch': 0.61}\n"
     ]
    },
    {
     "name": "stderr",
     "output_type": "stream",
     "text": [
      "[codecarbon INFO @ 03:04:18] Energy consumed for RAM : 0.001089 kWh. RAM Power : 5.9499335289001465 W\n",
      "[codecarbon INFO @ 03:04:18] Energy consumed for all GPUs : 0.037309 kWh. Total GPU Power : 203.39600000000002 W\n",
      "[codecarbon INFO @ 03:04:18] Energy consumed for all CPUs : 0.008712 kWh. Total CPU Power : 47.5 W\n",
      "[codecarbon INFO @ 03:04:18] 0.047110 kWh of electricity used since the beginning.\n"
     ]
    },
    {
     "name": "stdout",
     "output_type": "stream",
     "text": [
      "{'loss': 0.2654, 'grad_norm': 4.697615146636963, 'learning_rate': 4.404017122160027e-05, 'epoch': 0.62}\n",
      "{'loss': 0.2505, 'grad_norm': 8.723139762878418, 'learning_rate': 4.387553506750082e-05, 'epoch': 0.63}\n"
     ]
    },
    {
     "name": "stderr",
     "output_type": "stream",
     "text": [
      "[codecarbon INFO @ 03:04:33] Energy consumed for RAM : 0.001114 kWh. RAM Power : 5.9499335289001465 W\n",
      "[codecarbon INFO @ 03:04:33] Energy consumed for all GPUs : 0.038107 kWh. Total GPU Power : 191.324 W\n",
      "[codecarbon INFO @ 03:04:33] Energy consumed for all CPUs : 0.008911 kWh. Total CPU Power : 47.5 W\n",
      "[codecarbon INFO @ 03:04:33] 0.048131 kWh of electricity used since the beginning.\n"
     ]
    },
    {
     "name": "stdout",
     "output_type": "stream",
     "text": [
      "{'loss': 0.2617, 'grad_norm': 7.121882915496826, 'learning_rate': 4.3710898913401383e-05, 'epoch': 0.64}\n"
     ]
    },
    {
     "name": "stderr",
     "output_type": "stream",
     "text": [
      "[codecarbon INFO @ 03:04:48] Energy consumed for RAM : 0.001138 kWh. RAM Power : 5.9499335289001465 W\n",
      "[codecarbon INFO @ 03:04:48] Energy consumed for all GPUs : 0.038983 kWh. Total GPU Power : 210.65800000000002 W\n",
      "[codecarbon INFO @ 03:04:48] Energy consumed for all CPUs : 0.009108 kWh. Total CPU Power : 47.5 W\n",
      "[codecarbon INFO @ 03:04:48] 0.049230 kWh of electricity used since the beginning.\n"
     ]
    },
    {
     "name": "stdout",
     "output_type": "stream",
     "text": [
      "{'loss': 0.2641, 'grad_norm': 4.5506086349487305, 'learning_rate': 4.354626275930194e-05, 'epoch': 0.65}\n",
      "{'loss': 0.2541, 'grad_norm': 4.538687705993652, 'learning_rate': 4.33816266052025e-05, 'epoch': 0.66}\n"
     ]
    },
    {
     "name": "stderr",
     "output_type": "stream",
     "text": [
      "[codecarbon INFO @ 03:05:03] Energy consumed for RAM : 0.001163 kWh. RAM Power : 5.9499335289001465 W\n",
      "[codecarbon INFO @ 03:05:03] Energy consumed for all GPUs : 0.039854 kWh. Total GPU Power : 209.19000000000003 W\n",
      "[codecarbon INFO @ 03:05:03] Energy consumed for all CPUs : 0.009307 kWh. Total CPU Power : 47.5 W\n",
      "[codecarbon INFO @ 03:05:03] 0.050324 kWh of electricity used since the beginning.\n"
     ]
    },
    {
     "name": "stdout",
     "output_type": "stream",
     "text": [
      "{'loss': 0.2574, 'grad_norm': 4.556046009063721, 'learning_rate': 4.3216990451103065e-05, 'epoch': 0.67}\n"
     ]
    },
    {
     "name": "stderr",
     "output_type": "stream",
     "text": [
      "[codecarbon INFO @ 03:05:18] Energy consumed for RAM : 0.001188 kWh. RAM Power : 5.9499335289001465 W\n",
      "[codecarbon INFO @ 03:05:18] Energy consumed for all GPUs : 0.040734 kWh. Total GPU Power : 211.91100000000003 W\n",
      "[codecarbon INFO @ 03:05:18] Energy consumed for all CPUs : 0.009505 kWh. Total CPU Power : 47.5 W\n",
      "[codecarbon INFO @ 03:05:18] 0.051426 kWh of electricity used since the beginning.\n"
     ]
    },
    {
     "name": "stdout",
     "output_type": "stream",
     "text": [
      "{'loss': 0.2038, 'grad_norm': 5.514508247375488, 'learning_rate': 4.305235429700362e-05, 'epoch': 0.68}\n",
      "{'loss': 0.2462, 'grad_norm': 13.062164306640625, 'learning_rate': 4.2887718142904184e-05, 'epoch': 0.68}\n"
     ]
    },
    {
     "name": "stderr",
     "output_type": "stream",
     "text": [
      "[codecarbon INFO @ 03:05:33] Energy consumed for RAM : 0.001213 kWh. RAM Power : 5.9499335289001465 W\n",
      "[codecarbon INFO @ 03:05:33] Energy consumed for all GPUs : 0.041614 kWh. Total GPU Power : 211.375 W\n",
      "[codecarbon INFO @ 03:05:33] Energy consumed for all CPUs : 0.009702 kWh. Total CPU Power : 47.5 W\n",
      "[codecarbon INFO @ 03:05:33] 0.052529 kWh of electricity used since the beginning.\n"
     ]
    },
    {
     "name": "stdout",
     "output_type": "stream",
     "text": [
      "{'loss': 0.2881, 'grad_norm': 6.993749618530273, 'learning_rate': 4.272308198880474e-05, 'epoch': 0.69}\n",
      "{'loss': 0.2443, 'grad_norm': 6.145394325256348, 'learning_rate': 4.25584458347053e-05, 'epoch': 0.7}\n"
     ]
    },
    {
     "name": "stderr",
     "output_type": "stream",
     "text": [
      "[codecarbon INFO @ 03:05:48] Energy consumed for RAM : 0.001237 kWh. RAM Power : 5.9499335289001465 W\n",
      "[codecarbon INFO @ 03:05:48] Energy consumed for all GPUs : 0.042463 kWh. Total GPU Power : 203.709 W\n",
      "[codecarbon INFO @ 03:05:48] Energy consumed for all CPUs : 0.009900 kWh. Total CPU Power : 47.5 W\n",
      "[codecarbon INFO @ 03:05:48] 0.053600 kWh of electricity used since the beginning.\n"
     ]
    },
    {
     "name": "stdout",
     "output_type": "stream",
     "text": [
      "{'loss': 0.2515, 'grad_norm': 6.9502644538879395, 'learning_rate': 4.239380968060586e-05, 'epoch': 0.71}\n"
     ]
    },
    {
     "name": "stderr",
     "output_type": "stream",
     "text": [
      "[codecarbon INFO @ 03:06:03] Energy consumed for RAM : 0.001262 kWh. RAM Power : 5.9499335289001465 W\n",
      "[codecarbon INFO @ 03:06:03] Energy consumed for all GPUs : 0.043309 kWh. Total GPU Power : 203.097 W\n",
      "[codecarbon INFO @ 03:06:03] Energy consumed for all CPUs : 0.010098 kWh. Total CPU Power : 47.5 W\n",
      "[codecarbon INFO @ 03:06:03] 0.054670 kWh of electricity used since the beginning.\n"
     ]
    },
    {
     "name": "stdout",
     "output_type": "stream",
     "text": [
      "{'loss': 0.2643, 'grad_norm': 5.197859764099121, 'learning_rate': 4.222917352650642e-05, 'epoch': 0.72}\n",
      "{'loss': 0.237, 'grad_norm': 4.404785633087158, 'learning_rate': 4.206453737240698e-05, 'epoch': 0.73}\n"
     ]
    },
    {
     "name": "stderr",
     "output_type": "stream",
     "text": [
      "[codecarbon INFO @ 03:06:18] Energy consumed for RAM : 0.001287 kWh. RAM Power : 5.9499335289001465 W\n",
      "[codecarbon INFO @ 03:06:18] Energy consumed for all GPUs : 0.044167 kWh. Total GPU Power : 206.01500000000004 W\n",
      "[codecarbon INFO @ 03:06:18] Energy consumed for all CPUs : 0.010297 kWh. Total CPU Power : 47.5 W\n",
      "[codecarbon INFO @ 03:06:18] 0.055751 kWh of electricity used since the beginning.\n"
     ]
    },
    {
     "name": "stdout",
     "output_type": "stream",
     "text": [
      "{'loss': 0.2516, 'grad_norm': 13.3486967086792, 'learning_rate': 4.189990121830754e-05, 'epoch': 0.74}\n"
     ]
    },
    {
     "name": "stderr",
     "output_type": "stream",
     "text": [
      "[codecarbon INFO @ 03:06:33] Energy consumed for RAM : 0.001312 kWh. RAM Power : 5.9499335289001465 W\n",
      "[codecarbon INFO @ 03:06:33] Energy consumed for all GPUs : 0.045012 kWh. Total GPU Power : 202.983 W\n",
      "[codecarbon INFO @ 03:06:33] Energy consumed for all CPUs : 0.010494 kWh. Total CPU Power : 47.5 W\n",
      "[codecarbon INFO @ 03:06:33] 0.056818 kWh of electricity used since the beginning.\n"
     ]
    },
    {
     "name": "stdout",
     "output_type": "stream",
     "text": [
      "{'loss': 0.2673, 'grad_norm': 4.863145351409912, 'learning_rate': 4.1735265064208104e-05, 'epoch': 0.75}\n",
      "{'loss': 0.2522, 'grad_norm': 3.8589117527008057, 'learning_rate': 4.157062891010866e-05, 'epoch': 0.76}\n"
     ]
    },
    {
     "name": "stderr",
     "output_type": "stream",
     "text": [
      "[codecarbon INFO @ 03:06:48] Energy consumed for RAM : 0.001336 kWh. RAM Power : 5.9499335289001465 W\n",
      "[codecarbon INFO @ 03:06:48] Energy consumed for all GPUs : 0.045888 kWh. Total GPU Power : 210.35700000000003 W\n",
      "[codecarbon INFO @ 03:06:48] Energy consumed for all CPUs : 0.010692 kWh. Total CPU Power : 47.5 W\n",
      "[codecarbon INFO @ 03:06:48] 0.057917 kWh of electricity used since the beginning.\n"
     ]
    },
    {
     "name": "stdout",
     "output_type": "stream",
     "text": [
      "{'loss': 0.2165, 'grad_norm': 7.2024922370910645, 'learning_rate': 4.140599275600922e-05, 'epoch': 0.76}\n",
      "{'loss': 0.2215, 'grad_norm': 3.396218776702881, 'learning_rate': 4.124135660190978e-05, 'epoch': 0.77}\n"
     ]
    },
    {
     "name": "stderr",
     "output_type": "stream",
     "text": [
      "[codecarbon INFO @ 03:07:03] Energy consumed for RAM : 0.001361 kWh. RAM Power : 5.9499335289001465 W\n",
      "[codecarbon INFO @ 03:07:03] Energy consumed for all GPUs : 0.046767 kWh. Total GPU Power : 210.859 W\n",
      "[codecarbon INFO @ 03:07:03] Energy consumed for all CPUs : 0.010890 kWh. Total CPU Power : 47.5 W\n",
      "[codecarbon INFO @ 03:07:03] 0.059018 kWh of electricity used since the beginning.\n"
     ]
    },
    {
     "name": "stdout",
     "output_type": "stream",
     "text": [
      "{'loss': 0.2136, 'grad_norm': 3.4670629501342773, 'learning_rate': 4.107672044781034e-05, 'epoch': 0.78}\n"
     ]
    },
    {
     "name": "stderr",
     "output_type": "stream",
     "text": [
      "[codecarbon INFO @ 03:07:18] Energy consumed for RAM : 0.001386 kWh. RAM Power : 5.9499335289001465 W\n",
      "[codecarbon INFO @ 03:07:18] Energy consumed for all GPUs : 0.047608 kWh. Total GPU Power : 201.889 W\n",
      "[codecarbon INFO @ 03:07:18] Energy consumed for all CPUs : 0.011088 kWh. Total CPU Power : 47.5 W\n",
      "[codecarbon INFO @ 03:07:18] 0.060083 kWh of electricity used since the beginning.\n"
     ]
    },
    {
     "name": "stdout",
     "output_type": "stream",
     "text": [
      "{'loss': 0.2412, 'grad_norm': 11.82852554321289, 'learning_rate': 4.09120842937109e-05, 'epoch': 0.79}\n",
      "{'loss': 0.2409, 'grad_norm': 5.975481986999512, 'learning_rate': 4.074744813961146e-05, 'epoch': 0.8}\n"
     ]
    },
    {
     "name": "stderr",
     "output_type": "stream",
     "text": [
      "[codecarbon INFO @ 03:07:33] Energy consumed for RAM : 0.001411 kWh. RAM Power : 5.9499335289001465 W\n",
      "[codecarbon INFO @ 03:07:33] Energy consumed for all GPUs : 0.048460 kWh. Total GPU Power : 204.43800000000002 W\n",
      "[codecarbon INFO @ 03:07:33] Energy consumed for all CPUs : 0.011287 kWh. Total CPU Power : 47.5 W\n",
      "[codecarbon INFO @ 03:07:33] 0.061157 kWh of electricity used since the beginning.\n"
     ]
    },
    {
     "name": "stdout",
     "output_type": "stream",
     "text": [
      "{'loss': 0.2468, 'grad_norm': 6.422537803649902, 'learning_rate': 4.058281198551202e-05, 'epoch': 0.81}\n"
     ]
    },
    {
     "name": "stderr",
     "output_type": "stream",
     "text": [
      "[codecarbon INFO @ 03:07:48] Energy consumed for RAM : 0.001436 kWh. RAM Power : 5.9499335289001465 W\n",
      "[codecarbon INFO @ 03:07:48] Energy consumed for all GPUs : 0.049336 kWh. Total GPU Power : 210.14500000000004 W\n",
      "[codecarbon INFO @ 03:07:48] Energy consumed for all CPUs : 0.011485 kWh. Total CPU Power : 47.5 W\n",
      "[codecarbon INFO @ 03:07:48] 0.062256 kWh of electricity used since the beginning.\n"
     ]
    },
    {
     "name": "stdout",
     "output_type": "stream",
     "text": [
      "{'loss': 0.2266, 'grad_norm': 4.496952533721924, 'learning_rate': 4.041817583141258e-05, 'epoch': 0.82}\n",
      "{'loss': 0.2263, 'grad_norm': 8.867281913757324, 'learning_rate': 4.025353967731314e-05, 'epoch': 0.83}\n"
     ]
    },
    {
     "name": "stderr",
     "output_type": "stream",
     "text": [
      "[codecarbon INFO @ 03:08:03] Energy consumed for RAM : 0.001460 kWh. RAM Power : 5.9499335289001465 W\n",
      "[codecarbon INFO @ 03:08:03] Energy consumed for all GPUs : 0.050182 kWh. Total GPU Power : 203.202 W\n",
      "[codecarbon INFO @ 03:08:03] Energy consumed for all CPUs : 0.011682 kWh. Total CPU Power : 47.5 W\n",
      "[codecarbon INFO @ 03:08:03] 0.063325 kWh of electricity used since the beginning.\n"
     ]
    },
    {
     "name": "stdout",
     "output_type": "stream",
     "text": [
      "{'loss': 0.2006, 'grad_norm': 8.379363059997559, 'learning_rate': 4.00889035232137e-05, 'epoch': 0.84}\n",
      "{'loss': 0.2274, 'grad_norm': 7.734338760375977, 'learning_rate': 3.992426736911426e-05, 'epoch': 0.84}\n"
     ]
    },
    {
     "name": "stderr",
     "output_type": "stream",
     "text": [
      "[codecarbon INFO @ 03:08:18] Energy consumed for RAM : 0.001485 kWh. RAM Power : 5.9499335289001465 W\n",
      "[codecarbon INFO @ 03:08:18] Energy consumed for all GPUs : 0.051088 kWh. Total GPU Power : 217.318 W\n",
      "[codecarbon INFO @ 03:08:18] Energy consumed for all CPUs : 0.011881 kWh. Total CPU Power : 47.5 W\n",
      "[codecarbon INFO @ 03:08:18] 0.064454 kWh of electricity used since the beginning.\n"
     ]
    },
    {
     "name": "stdout",
     "output_type": "stream",
     "text": [
      "{'loss': 0.223, 'grad_norm': 5.006381988525391, 'learning_rate': 3.975963121501482e-05, 'epoch': 0.85}\n"
     ]
    },
    {
     "name": "stderr",
     "output_type": "stream",
     "text": [
      "[codecarbon INFO @ 03:08:33] Energy consumed for RAM : 0.001510 kWh. RAM Power : 5.9499335289001465 W\n",
      "[codecarbon INFO @ 03:08:33] Energy consumed for all GPUs : 0.051962 kWh. Total GPU Power : 209.798 W\n",
      "[codecarbon INFO @ 03:08:33] Energy consumed for all CPUs : 0.012078 kWh. Total CPU Power : 47.5 W\n",
      "[codecarbon INFO @ 03:08:33] 0.065550 kWh of electricity used since the beginning.\n"
     ]
    },
    {
     "name": "stdout",
     "output_type": "stream",
     "text": [
      "{'loss': 0.2105, 'grad_norm': 11.396899223327637, 'learning_rate': 3.959499506091538e-05, 'epoch': 0.86}\n",
      "{'loss': 0.2247, 'grad_norm': 6.2804365158081055, 'learning_rate': 3.943035890681594e-05, 'epoch': 0.87}\n"
     ]
    },
    {
     "name": "stderr",
     "output_type": "stream",
     "text": [
      "[codecarbon INFO @ 03:08:48] Energy consumed for RAM : 0.001535 kWh. RAM Power : 5.9499335289001465 W\n",
      "[codecarbon INFO @ 03:08:48] Energy consumed for all GPUs : 0.052820 kWh. Total GPU Power : 205.892 W\n",
      "[codecarbon INFO @ 03:08:48] Energy consumed for all CPUs : 0.012276 kWh. Total CPU Power : 47.5 W\n",
      "[codecarbon INFO @ 03:08:48] 0.066631 kWh of electricity used since the beginning.\n"
     ]
    },
    {
     "name": "stdout",
     "output_type": "stream",
     "text": [
      "{'loss': 0.1891, 'grad_norm': 4.583906173706055, 'learning_rate': 3.92657227527165e-05, 'epoch': 0.88}\n"
     ]
    },
    {
     "name": "stderr",
     "output_type": "stream",
     "text": [
      "[codecarbon INFO @ 03:09:03] Energy consumed for RAM : 0.001559 kWh. RAM Power : 5.9499335289001465 W\n",
      "[codecarbon INFO @ 03:09:03] Energy consumed for all GPUs : 0.053672 kWh. Total GPU Power : 204.52300000000002 W\n",
      "[codecarbon INFO @ 03:09:03] Energy consumed for all CPUs : 0.012474 kWh. Total CPU Power : 47.5 W\n",
      "[codecarbon INFO @ 03:09:03] 0.067706 kWh of electricity used since the beginning.\n"
     ]
    },
    {
     "name": "stdout",
     "output_type": "stream",
     "text": [
      "{'loss': 0.2067, 'grad_norm': 13.17630672454834, 'learning_rate': 3.910108659861706e-05, 'epoch': 0.89}\n",
      "{'loss': 0.1843, 'grad_norm': 4.534049034118652, 'learning_rate': 3.893645044451762e-05, 'epoch': 0.9}\n"
     ]
    },
    {
     "name": "stderr",
     "output_type": "stream",
     "text": [
      "[codecarbon INFO @ 03:09:18] Energy consumed for RAM : 0.001584 kWh. RAM Power : 5.9499335289001465 W\n",
      "[codecarbon INFO @ 03:09:18] Energy consumed for all GPUs : 0.054522 kWh. Total GPU Power : 204.155 W\n",
      "[codecarbon INFO @ 03:09:18] Energy consumed for all CPUs : 0.012672 kWh. Total CPU Power : 47.5 W\n",
      "[codecarbon INFO @ 03:09:18] 0.068779 kWh of electricity used since the beginning.\n"
     ]
    },
    {
     "name": "stdout",
     "output_type": "stream",
     "text": [
      "{'loss': 0.1974, 'grad_norm': 6.500810146331787, 'learning_rate': 3.877181429041818e-05, 'epoch': 0.91}\n"
     ]
    },
    {
     "name": "stderr",
     "output_type": "stream",
     "text": [
      "[codecarbon INFO @ 03:09:33] Energy consumed for RAM : 0.001609 kWh. RAM Power : 5.9499335289001465 W\n",
      "[codecarbon INFO @ 03:09:33] Energy consumed for all GPUs : 0.055368 kWh. Total GPU Power : 203.118 W\n",
      "[codecarbon INFO @ 03:09:33] Energy consumed for all CPUs : 0.012870 kWh. Total CPU Power : 47.5 W\n",
      "[codecarbon INFO @ 03:09:33] 0.069847 kWh of electricity used since the beginning.\n"
     ]
    },
    {
     "name": "stdout",
     "output_type": "stream",
     "text": [
      "{'loss': 0.1978, 'grad_norm': 5.061119079589844, 'learning_rate': 3.8607178136318737e-05, 'epoch': 0.92}\n",
      "{'loss': 0.2238, 'grad_norm': 30.012229919433594, 'learning_rate': 3.84425419822193e-05, 'epoch': 0.92}\n"
     ]
    },
    {
     "name": "stderr",
     "output_type": "stream",
     "text": [
      "[codecarbon INFO @ 03:09:48] Energy consumed for RAM : 0.001634 kWh. RAM Power : 5.9499335289001465 W\n",
      "[codecarbon INFO @ 03:09:48] Energy consumed for all GPUs : 0.056247 kWh. Total GPU Power : 210.858 W\n",
      "[codecarbon INFO @ 03:09:48] Energy consumed for all CPUs : 0.013068 kWh. Total CPU Power : 47.5 W\n",
      "[codecarbon INFO @ 03:09:48] 0.070949 kWh of electricity used since the beginning.\n"
     ]
    },
    {
     "name": "stdout",
     "output_type": "stream",
     "text": [
      "{'loss': 0.2028, 'grad_norm': 4.907500743865967, 'learning_rate': 3.8277905828119855e-05, 'epoch': 0.93}\n",
      "{'loss': 0.2371, 'grad_norm': 4.947920799255371, 'learning_rate': 3.811326967402042e-05, 'epoch': 0.94}\n"
     ]
    },
    {
     "name": "stderr",
     "output_type": "stream",
     "text": [
      "[codecarbon INFO @ 03:10:03] Energy consumed for RAM : 0.001659 kWh. RAM Power : 5.9499335289001465 W\n",
      "[codecarbon INFO @ 03:10:03] Energy consumed for all GPUs : 0.057110 kWh. Total GPU Power : 207.223 W\n",
      "[codecarbon INFO @ 03:10:03] Energy consumed for all CPUs : 0.013266 kWh. Total CPU Power : 47.5 W\n",
      "[codecarbon INFO @ 03:10:03] 0.072035 kWh of electricity used since the beginning.\n"
     ]
    },
    {
     "name": "stdout",
     "output_type": "stream",
     "text": [
      "{'loss': 0.199, 'grad_norm': 4.512685298919678, 'learning_rate': 3.794863351992098e-05, 'epoch': 0.95}\n"
     ]
    },
    {
     "name": "stderr",
     "output_type": "stream",
     "text": [
      "[codecarbon INFO @ 03:10:18] Energy consumed for RAM : 0.001683 kWh. RAM Power : 5.9499335289001465 W\n",
      "[codecarbon INFO @ 03:10:18] Energy consumed for all GPUs : 0.057976 kWh. Total GPU Power : 207.916 W\n",
      "[codecarbon INFO @ 03:10:18] Energy consumed for all CPUs : 0.013465 kWh. Total CPU Power : 47.5 W\n",
      "[codecarbon INFO @ 03:10:18] 0.073124 kWh of electricity used since the beginning.\n"
     ]
    },
    {
     "name": "stdout",
     "output_type": "stream",
     "text": [
      "{'loss': 0.2102, 'grad_norm': 8.559358596801758, 'learning_rate': 3.778399736582154e-05, 'epoch': 0.96}\n",
      "{'loss': 0.218, 'grad_norm': 4.5869598388671875, 'learning_rate': 3.76193612117221e-05, 'epoch': 0.97}\n"
     ]
    },
    {
     "name": "stderr",
     "output_type": "stream",
     "text": [
      "[codecarbon INFO @ 03:10:33] Energy consumed for RAM : 0.001708 kWh. RAM Power : 5.9499335289001465 W\n",
      "[codecarbon INFO @ 03:10:33] Energy consumed for all GPUs : 0.058803 kWh. Total GPU Power : 199.185 W\n",
      "[codecarbon INFO @ 03:10:33] Energy consumed for all CPUs : 0.013663 kWh. Total CPU Power : 47.5 W\n",
      "[codecarbon INFO @ 03:10:33] 0.074174 kWh of electricity used since the beginning.\n"
     ]
    },
    {
     "name": "stdout",
     "output_type": "stream",
     "text": [
      "{'loss': 0.2165, 'grad_norm': 3.3197083473205566, 'learning_rate': 3.7454725057622656e-05, 'epoch': 0.98}\n",
      "{'loss': 0.2634, 'grad_norm': 5.053747653961182, 'learning_rate': 3.729008890352322e-05, 'epoch': 0.99}\n"
     ]
    },
    {
     "name": "stderr",
     "output_type": "stream",
     "text": [
      "[codecarbon INFO @ 03:10:48] Energy consumed for RAM : 0.001733 kWh. RAM Power : 5.9499335289001465 W\n",
      "[codecarbon INFO @ 03:10:48] Energy consumed for all GPUs : 0.059698 kWh. Total GPU Power : 215.26000000000002 W\n",
      "[codecarbon INFO @ 03:10:48] Energy consumed for all CPUs : 0.013860 kWh. Total CPU Power : 47.5 W\n",
      "[codecarbon INFO @ 03:10:48] 0.075291 kWh of electricity used since the beginning.\n"
     ]
    },
    {
     "name": "stdout",
     "output_type": "stream",
     "text": [
      "{'loss': 0.247, 'grad_norm': 4.858603000640869, 'learning_rate': 3.7125452749423775e-05, 'epoch': 1.0}\n"
     ]
    },
    {
     "data": {
      "application/vnd.jupyter.widget-view+json": {
       "model_id": "3601aaa7a1414911ba2d57e87eaa92fb",
       "version_major": 2,
       "version_minor": 0
      },
      "text/plain": [
       "  0%|          | 0/500 [00:00<?, ?it/s]"
      ]
     },
     "metadata": {},
     "output_type": "display_data"
    },
    {
     "name": "stderr",
     "output_type": "stream",
     "text": [
      "[codecarbon INFO @ 03:11:03] Energy consumed for RAM : 0.001758 kWh. RAM Power : 5.9499335289001465 W\n",
      "[codecarbon INFO @ 03:11:03] Energy consumed for all GPUs : 0.060418 kWh. Total GPU Power : 172.63600000000002 W\n",
      "[codecarbon INFO @ 03:11:03] Energy consumed for all CPUs : 0.014059 kWh. Total CPU Power : 47.5 W\n",
      "[codecarbon INFO @ 03:11:03] 0.076234 kWh of electricity used since the beginning.\n",
      "[codecarbon INFO @ 03:11:18] Energy consumed for RAM : 0.001782 kWh. RAM Power : 5.9499335289001465 W\n",
      "[codecarbon INFO @ 03:11:18] Energy consumed for all GPUs : 0.061143 kWh. Total GPU Power : 174.195 W\n",
      "[codecarbon INFO @ 03:11:18] Energy consumed for all CPUs : 0.014256 kWh. Total CPU Power : 47.5 W\n",
      "[codecarbon INFO @ 03:11:18] 0.077181 kWh of electricity used since the beginning.\n",
      "[codecarbon INFO @ 03:11:33] Energy consumed for RAM : 0.001807 kWh. RAM Power : 5.9499335289001465 W\n",
      "[codecarbon INFO @ 03:11:33] Energy consumed for all GPUs : 0.061853 kWh. Total GPU Power : 170.662 W\n",
      "[codecarbon INFO @ 03:11:33] Energy consumed for all CPUs : 0.014455 kWh. Total CPU Power : 47.5 W\n",
      "[codecarbon INFO @ 03:11:33] 0.078115 kWh of electricity used since the beginning.\n",
      "[codecarbon INFO @ 03:11:48] Energy consumed for RAM : 0.001832 kWh. RAM Power : 5.9499335289001465 W\n",
      "[codecarbon INFO @ 03:11:48] Energy consumed for all GPUs : 0.062588 kWh. Total GPU Power : 176.494 W\n",
      "[codecarbon INFO @ 03:11:48] Energy consumed for all CPUs : 0.014652 kWh. Total CPU Power : 47.5 W\n",
      "[codecarbon INFO @ 03:11:48] 0.079072 kWh of electricity used since the beginning.\n"
     ]
    },
    {
     "name": "stdout",
     "output_type": "stream",
     "text": [
      "{'eval_loss': 0.19855593144893646, 'eval_accuracy': 0.9196, 'eval_runtime': 59.1393, 'eval_samples_per_second': 169.092, 'eval_steps_per_second': 8.455, 'epoch': 1.0}\n"
     ]
    },
    {
     "name": "stderr",
     "output_type": "stream",
     "text": [
      "[codecarbon INFO @ 03:12:03] Energy consumed for RAM : 0.001857 kWh. RAM Power : 5.9499335289001465 W\n",
      "[codecarbon INFO @ 03:12:03] Energy consumed for all GPUs : 0.063448 kWh. Total GPU Power : 206.434 W\n",
      "[codecarbon INFO @ 03:12:03] Energy consumed for all CPUs : 0.014851 kWh. Total CPU Power : 47.5 W\n",
      "[codecarbon INFO @ 03:12:03] 0.080155 kWh of electricity used since the beginning.\n"
     ]
    },
    {
     "name": "stdout",
     "output_type": "stream",
     "text": [
      "{'loss': 0.1719, 'grad_norm': 5.869924068450928, 'learning_rate': 3.696081659532433e-05, 'epoch': 1.0}\n",
      "{'loss': 0.1858, 'grad_norm': 12.539472579956055, 'learning_rate': 3.6796180441224894e-05, 'epoch': 1.01}\n"
     ]
    },
    {
     "name": "stderr",
     "output_type": "stream",
     "text": [
      "[codecarbon INFO @ 03:12:18] Energy consumed for RAM : 0.001881 kWh. RAM Power : 5.9499335289001465 W\n",
      "[codecarbon INFO @ 03:12:18] Energy consumed for all GPUs : 0.064298 kWh. Total GPU Power : 204.281 W\n",
      "[codecarbon INFO @ 03:12:18] Energy consumed for all CPUs : 0.015048 kWh. Total CPU Power : 47.5 W\n",
      "[codecarbon INFO @ 03:12:18] 0.081228 kWh of electricity used since the beginning.\n"
     ]
    },
    {
     "name": "stdout",
     "output_type": "stream",
     "text": [
      "{'loss': 0.1739, 'grad_norm': 3.85591197013855, 'learning_rate': 3.663154428712545e-05, 'epoch': 1.02}\n"
     ]
    },
    {
     "name": "stderr",
     "output_type": "stream",
     "text": [
      "[codecarbon INFO @ 03:12:33] Energy consumed for RAM : 0.001906 kWh. RAM Power : 5.9499335289001465 W\n",
      "[codecarbon INFO @ 03:12:34] Energy consumed for all GPUs : 0.065142 kWh. Total GPU Power : 202.504 W\n",
      "[codecarbon INFO @ 03:12:34] Energy consumed for all CPUs : 0.015247 kWh. Total CPU Power : 47.5 W\n",
      "[codecarbon INFO @ 03:12:34] 0.082295 kWh of electricity used since the beginning.\n"
     ]
    },
    {
     "name": "stdout",
     "output_type": "stream",
     "text": [
      "{'loss': 0.1465, 'grad_norm': 9.43132209777832, 'learning_rate': 3.646690813302601e-05, 'epoch': 1.03}\n",
      "{'loss': 0.1705, 'grad_norm': 5.766740322113037, 'learning_rate': 3.630227197892657e-05, 'epoch': 1.04}\n"
     ]
    },
    {
     "name": "stderr",
     "output_type": "stream",
     "text": [
      "[codecarbon INFO @ 03:12:48] Energy consumed for RAM : 0.001931 kWh. RAM Power : 5.9499335289001465 W\n",
      "[codecarbon INFO @ 03:12:49] Energy consumed for all GPUs : 0.065965 kWh. Total GPU Power : 197.973 W\n",
      "[codecarbon INFO @ 03:12:49] Energy consumed for all CPUs : 0.015444 kWh. Total CPU Power : 47.5 W\n",
      "[codecarbon INFO @ 03:12:49] 0.083341 kWh of electricity used since the beginning.\n"
     ]
    },
    {
     "name": "stdout",
     "output_type": "stream",
     "text": [
      "{'loss': 0.1817, 'grad_norm': 7.3928375244140625, 'learning_rate': 3.613763582482713e-05, 'epoch': 1.05}\n"
     ]
    },
    {
     "name": "stderr",
     "output_type": "stream",
     "text": [
      "[codecarbon INFO @ 03:13:03] Energy consumed for RAM : 0.001956 kWh. RAM Power : 5.9499335289001465 W\n",
      "[codecarbon INFO @ 03:13:04] Energy consumed for all GPUs : 0.066803 kWh. Total GPU Power : 201.35 W\n",
      "[codecarbon INFO @ 03:13:04] Energy consumed for all CPUs : 0.015643 kWh. Total CPU Power : 47.5 W\n",
      "[codecarbon INFO @ 03:13:04] 0.084402 kWh of electricity used since the beginning.\n"
     ]
    },
    {
     "name": "stdout",
     "output_type": "stream",
     "text": [
      "{'loss': 0.1746, 'grad_norm': 5.286028861999512, 'learning_rate': 3.5972999670727694e-05, 'epoch': 1.06}\n",
      "{'loss': 0.1896, 'grad_norm': 3.479860305786133, 'learning_rate': 3.580836351662825e-05, 'epoch': 1.07}\n"
     ]
    },
    {
     "name": "stderr",
     "output_type": "stream",
     "text": [
      "[codecarbon INFO @ 03:13:19] Energy consumed for RAM : 0.001980 kWh. RAM Power : 5.9499335289001465 W\n",
      "[codecarbon INFO @ 03:13:19] Energy consumed for all GPUs : 0.067630 kWh. Total GPU Power : 198.86200000000002 W\n",
      "[codecarbon INFO @ 03:13:19] Energy consumed for all CPUs : 0.015840 kWh. Total CPU Power : 47.5 W\n",
      "[codecarbon INFO @ 03:13:19] 0.085451 kWh of electricity used since the beginning.\n"
     ]
    },
    {
     "name": "stdout",
     "output_type": "stream",
     "text": [
      "{'loss': 0.1544, 'grad_norm': 2.4450550079345703, 'learning_rate': 3.564372736252881e-05, 'epoch': 1.08}\n",
      "{'loss': 0.17, 'grad_norm': 8.941452980041504, 'learning_rate': 3.547909120842937e-05, 'epoch': 1.08}\n"
     ]
    },
    {
     "name": "stderr",
     "output_type": "stream",
     "text": [
      "[codecarbon INFO @ 03:13:34] Energy consumed for RAM : 0.002005 kWh. RAM Power : 5.9499335289001465 W\n",
      "[codecarbon INFO @ 03:13:34] Energy consumed for all GPUs : 0.068469 kWh. Total GPU Power : 201.482 W\n",
      "[codecarbon INFO @ 03:13:34] Energy consumed for all CPUs : 0.016039 kWh. Total CPU Power : 47.5 W\n",
      "[codecarbon INFO @ 03:13:34] 0.086513 kWh of electricity used since the beginning.\n"
     ]
    },
    {
     "name": "stdout",
     "output_type": "stream",
     "text": [
      "{'loss': 0.1457, 'grad_norm': 3.4936115741729736, 'learning_rate': 3.531445505432993e-05, 'epoch': 1.09}\n"
     ]
    },
    {
     "name": "stderr",
     "output_type": "stream",
     "text": [
      "[codecarbon INFO @ 03:13:49] Energy consumed for RAM : 0.002030 kWh. RAM Power : 5.9499335289001465 W\n",
      "[codecarbon INFO @ 03:13:49] Energy consumed for all GPUs : 0.069313 kWh. Total GPU Power : 203.00300000000001 W\n",
      "[codecarbon INFO @ 03:13:49] Energy consumed for all CPUs : 0.016236 kWh. Total CPU Power : 47.5 W\n",
      "[codecarbon INFO @ 03:13:49] 0.087579 kWh of electricity used since the beginning.\n"
     ]
    },
    {
     "name": "stdout",
     "output_type": "stream",
     "text": [
      "{'loss': 0.1598, 'grad_norm': 7.342625141143799, 'learning_rate': 3.514981890023049e-05, 'epoch': 1.1}\n",
      "{'loss': 0.1589, 'grad_norm': 7.3656511306762695, 'learning_rate': 3.498518274613105e-05, 'epoch': 1.11}\n"
     ]
    },
    {
     "name": "stderr",
     "output_type": "stream",
     "text": [
      "[codecarbon INFO @ 03:14:04] Energy consumed for RAM : 0.002055 kWh. RAM Power : 5.9499335289001465 W\n",
      "[codecarbon INFO @ 03:14:04] Energy consumed for all GPUs : 0.070094 kWh. Total GPU Power : 187.56300000000002 W\n",
      "[codecarbon INFO @ 03:14:04] Energy consumed for all CPUs : 0.016435 kWh. Total CPU Power : 47.5 W\n",
      "[codecarbon INFO @ 03:14:04] 0.088583 kWh of electricity used since the beginning.\n"
     ]
    },
    {
     "name": "stdout",
     "output_type": "stream",
     "text": [
      "{'loss': 0.1564, 'grad_norm': 3.9630260467529297, 'learning_rate': 3.4820546592031614e-05, 'epoch': 1.12}\n"
     ]
    },
    {
     "name": "stderr",
     "output_type": "stream",
     "text": [
      "[codecarbon INFO @ 03:14:19] Energy consumed for RAM : 0.002079 kWh. RAM Power : 5.9499335289001465 W\n",
      "[codecarbon INFO @ 03:14:19] Energy consumed for all GPUs : 0.070987 kWh. Total GPU Power : 214.931 W\n",
      "[codecarbon INFO @ 03:14:19] Energy consumed for all CPUs : 0.016632 kWh. Total CPU Power : 47.5 W\n",
      "[codecarbon INFO @ 03:14:19] 0.089698 kWh of electricity used since the beginning.\n"
     ]
    },
    {
     "name": "stdout",
     "output_type": "stream",
     "text": [
      "{'loss': 0.1251, 'grad_norm': 6.677435874938965, 'learning_rate': 3.465591043793217e-05, 'epoch': 1.13}\n",
      "{'loss': 0.1781, 'grad_norm': 5.903322696685791, 'learning_rate': 3.449127428383273e-05, 'epoch': 1.14}\n"
     ]
    },
    {
     "name": "stderr",
     "output_type": "stream",
     "text": [
      "[codecarbon INFO @ 03:14:34] Energy consumed for RAM : 0.002104 kWh. RAM Power : 5.9499335289001465 W\n",
      "[codecarbon INFO @ 03:14:34] Energy consumed for all GPUs : 0.071838 kWh. Total GPU Power : 204.536 W\n",
      "[codecarbon INFO @ 03:14:34] Energy consumed for all CPUs : 0.016830 kWh. Total CPU Power : 47.5 W\n",
      "[codecarbon INFO @ 03:14:34] 0.090772 kWh of electricity used since the beginning.\n"
     ]
    },
    {
     "name": "stdout",
     "output_type": "stream",
     "text": [
      "{'loss': 0.1828, 'grad_norm': 6.786194801330566, 'learning_rate': 3.432663812973329e-05, 'epoch': 1.15}\n"
     ]
    },
    {
     "name": "stderr",
     "output_type": "stream",
     "text": [
      "[codecarbon INFO @ 03:14:49] Energy consumed for RAM : 0.002129 kWh. RAM Power : 5.9499335289001465 W\n"
     ]
    },
    {
     "name": "stdout",
     "output_type": "stream",
     "text": [
      "{'loss': 0.1609, 'grad_norm': 14.04870891571045, 'learning_rate': 3.416200197563385e-05, 'epoch': 1.16}\n"
     ]
    },
    {
     "name": "stderr",
     "output_type": "stream",
     "text": [
      "[codecarbon INFO @ 03:14:49] Energy consumed for all GPUs : 0.072716 kWh. Total GPU Power : 210.869 W\n",
      "[codecarbon INFO @ 03:14:49] Energy consumed for all CPUs : 0.017029 kWh. Total CPU Power : 47.5 W\n",
      "[codecarbon INFO @ 03:14:49] 0.091874 kWh of electricity used since the beginning.\n"
     ]
    },
    {
     "name": "stdout",
     "output_type": "stream",
     "text": [
      "{'loss': 0.1634, 'grad_norm': 12.208662986755371, 'learning_rate': 3.399736582153441e-05, 'epoch': 1.16}\n"
     ]
    },
    {
     "name": "stderr",
     "output_type": "stream",
     "text": [
      "[codecarbon INFO @ 03:15:04] Energy consumed for RAM : 0.002153 kWh. RAM Power : 5.9499335289001465 W\n",
      "[codecarbon INFO @ 03:15:04] Energy consumed for all GPUs : 0.073592 kWh. Total GPU Power : 210.57700000000003 W\n",
      "[codecarbon INFO @ 03:15:04] Energy consumed for all CPUs : 0.017226 kWh. Total CPU Power : 47.5 W\n",
      "[codecarbon INFO @ 03:15:04] 0.092972 kWh of electricity used since the beginning.\n"
     ]
    },
    {
     "name": "stdout",
     "output_type": "stream",
     "text": [
      "{'loss': 0.1613, 'grad_norm': 6.3687028884887695, 'learning_rate': 3.383272966743497e-05, 'epoch': 1.17}\n",
      "{'loss': 0.1606, 'grad_norm': 7.946609973907471, 'learning_rate': 3.3668093513335534e-05, 'epoch': 1.18}\n"
     ]
    },
    {
     "name": "stderr",
     "output_type": "stream",
     "text": [
      "[codecarbon INFO @ 03:15:19] Energy consumed for RAM : 0.002178 kWh. RAM Power : 5.9499335289001465 W\n",
      "[codecarbon INFO @ 03:15:19] Energy consumed for all GPUs : 0.074419 kWh. Total GPU Power : 198.465 W\n",
      "[codecarbon INFO @ 03:15:19] Energy consumed for all CPUs : 0.017425 kWh. Total CPU Power : 47.5 W\n",
      "[codecarbon INFO @ 03:15:19] 0.094022 kWh of electricity used since the beginning.\n"
     ]
    },
    {
     "name": "stdout",
     "output_type": "stream",
     "text": [
      "{'loss': 0.142, 'grad_norm': 20.45625877380371, 'learning_rate': 3.350345735923609e-05, 'epoch': 1.19}\n"
     ]
    },
    {
     "name": "stderr",
     "output_type": "stream",
     "text": [
      "[codecarbon INFO @ 03:15:34] Energy consumed for RAM : 0.002203 kWh. RAM Power : 5.9499335289001465 W\n",
      "[codecarbon INFO @ 03:15:34] Energy consumed for all GPUs : 0.075216 kWh. Total GPU Power : 191.56500000000003 W\n",
      "[codecarbon INFO @ 03:15:34] Energy consumed for all CPUs : 0.017623 kWh. Total CPU Power : 47.5 W\n",
      "[codecarbon INFO @ 03:15:34] 0.095042 kWh of electricity used since the beginning.\n"
     ]
    },
    {
     "name": "stdout",
     "output_type": "stream",
     "text": [
      "{'loss': 0.1664, 'grad_norm': 3.072154998779297, 'learning_rate': 3.333882120513665e-05, 'epoch': 1.2}\n",
      "{'loss': 0.1367, 'grad_norm': 6.033754348754883, 'learning_rate': 3.317418505103721e-05, 'epoch': 1.21}\n"
     ]
    },
    {
     "name": "stderr",
     "output_type": "stream",
     "text": [
      "[codecarbon INFO @ 03:15:49] Energy consumed for RAM : 0.002228 kWh. RAM Power : 5.9499335289001465 W\n",
      "[codecarbon INFO @ 03:15:49] Energy consumed for all GPUs : 0.076071 kWh. Total GPU Power : 205.21800000000002 W\n",
      "[codecarbon INFO @ 03:15:49] Energy consumed for all CPUs : 0.017820 kWh. Total CPU Power : 47.5 W\n",
      "[codecarbon INFO @ 03:15:49] 0.096119 kWh of electricity used since the beginning.\n"
     ]
    },
    {
     "name": "stdout",
     "output_type": "stream",
     "text": [
      "{'loss': 0.1831, 'grad_norm': 6.722637176513672, 'learning_rate': 3.300954889693777e-05, 'epoch': 1.22}\n"
     ]
    },
    {
     "name": "stderr",
     "output_type": "stream",
     "text": [
      "[codecarbon INFO @ 03:16:04] Energy consumed for RAM : 0.002253 kWh. RAM Power : 5.9499335289001465 W\n",
      "[codecarbon INFO @ 03:16:04] Energy consumed for all GPUs : 0.076938 kWh. Total GPU Power : 208.199 W\n",
      "[codecarbon INFO @ 03:16:04] Energy consumed for all CPUs : 0.018018 kWh. Total CPU Power : 47.5 W\n",
      "[codecarbon INFO @ 03:16:04] 0.097209 kWh of electricity used since the beginning.\n"
     ]
    },
    {
     "name": "stdout",
     "output_type": "stream",
     "text": [
      "{'loss': 0.1902, 'grad_norm': 9.279434204101562, 'learning_rate': 3.284491274283833e-05, 'epoch': 1.23}\n",
      "{'loss': 0.1618, 'grad_norm': 6.962395668029785, 'learning_rate': 3.268027658873889e-05, 'epoch': 1.24}\n"
     ]
    },
    {
     "name": "stderr",
     "output_type": "stream",
     "text": [
      "[codecarbon INFO @ 03:16:19] Energy consumed for RAM : 0.002277 kWh. RAM Power : 5.9499335289001465 W\n",
      "[codecarbon INFO @ 03:16:19] Energy consumed for all GPUs : 0.077804 kWh. Total GPU Power : 207.757 W\n",
      "[codecarbon INFO @ 03:16:19] Energy consumed for all CPUs : 0.018216 kWh. Total CPU Power : 47.5 W\n",
      "[codecarbon INFO @ 03:16:19] 0.098298 kWh of electricity used since the beginning.\n"
     ]
    },
    {
     "name": "stdout",
     "output_type": "stream",
     "text": [
      "{'loss': 0.1644, 'grad_norm': 4.802653789520264, 'learning_rate': 3.2515640434639446e-05, 'epoch': 1.24}\n",
      "{'loss': 0.1356, 'grad_norm': 9.518152236938477, 'learning_rate': 3.235100428054001e-05, 'epoch': 1.25}\n"
     ]
    },
    {
     "name": "stderr",
     "output_type": "stream",
     "text": [
      "[codecarbon INFO @ 03:16:34] Energy consumed for RAM : 0.002302 kWh. RAM Power : 5.9499335289001465 W\n",
      "[codecarbon INFO @ 03:16:34] Energy consumed for all GPUs : 0.078707 kWh. Total GPU Power : 216.752 W\n",
      "[codecarbon INFO @ 03:16:34] Energy consumed for all CPUs : 0.018415 kWh. Total CPU Power : 47.5 W\n",
      "[codecarbon INFO @ 03:16:34] 0.099424 kWh of electricity used since the beginning.\n"
     ]
    },
    {
     "name": "stdout",
     "output_type": "stream",
     "text": [
      "{'loss': 0.1455, 'grad_norm': 5.804929733276367, 'learning_rate': 3.218636812644057e-05, 'epoch': 1.26}\n"
     ]
    },
    {
     "name": "stderr",
     "output_type": "stream",
     "text": [
      "[codecarbon INFO @ 03:16:49] Energy consumed for RAM : 0.002327 kWh. RAM Power : 5.9499335289001465 W\n",
      "[codecarbon INFO @ 03:16:49] Energy consumed for all GPUs : 0.079582 kWh. Total GPU Power : 210.919 W\n",
      "[codecarbon INFO @ 03:16:49] Energy consumed for all CPUs : 0.018613 kWh. Total CPU Power : 47.5 W\n",
      "[codecarbon INFO @ 03:16:49] 0.100522 kWh of electricity used since the beginning.\n"
     ]
    },
    {
     "name": "stdout",
     "output_type": "stream",
     "text": [
      "{'loss': 0.2024, 'grad_norm': 8.0812349319458, 'learning_rate': 3.202173197234113e-05, 'epoch': 1.27}\n",
      "{'loss': 0.158, 'grad_norm': 7.584887504577637, 'learning_rate': 3.185709581824169e-05, 'epoch': 1.28}\n"
     ]
    },
    {
     "name": "stderr",
     "output_type": "stream",
     "text": [
      "[codecarbon INFO @ 03:17:04] Energy consumed for RAM : 0.002352 kWh. RAM Power : 5.9499335289001465 W\n",
      "[codecarbon INFO @ 03:17:04] Energy consumed for all GPUs : 0.080461 kWh. Total GPU Power : 211.47400000000002 W\n",
      "[codecarbon INFO @ 03:17:04] Energy consumed for all CPUs : 0.018810 kWh. Total CPU Power : 47.5 W\n",
      "[codecarbon INFO @ 03:17:04] 0.101623 kWh of electricity used since the beginning.\n"
     ]
    },
    {
     "name": "stdout",
     "output_type": "stream",
     "text": [
      "{'loss': 0.1304, 'grad_norm': 5.456803321838379, 'learning_rate': 3.169245966414225e-05, 'epoch': 1.29}\n",
      "{'loss': 0.1509, 'grad_norm': 7.687901973724365, 'learning_rate': 3.152782351004281e-05, 'epoch': 1.3}\n"
     ]
    },
    {
     "name": "stderr",
     "output_type": "stream",
     "text": [
      "[codecarbon INFO @ 03:17:19] Energy consumed for RAM : 0.002376 kWh. RAM Power : 5.9499335289001465 W\n",
      "[codecarbon INFO @ 03:17:19] Energy consumed for all GPUs : 0.081294 kWh. Total GPU Power : 200.00900000000001 W\n",
      "[codecarbon INFO @ 03:17:19] Energy consumed for all CPUs : 0.019009 kWh. Total CPU Power : 47.5 W\n",
      "[codecarbon INFO @ 03:17:19] 0.102679 kWh of electricity used since the beginning.\n"
     ]
    },
    {
     "name": "stdout",
     "output_type": "stream",
     "text": [
      "{'loss': 0.1686, 'grad_norm': 5.4591264724731445, 'learning_rate': 3.1363187355943366e-05, 'epoch': 1.31}\n"
     ]
    },
    {
     "name": "stderr",
     "output_type": "stream",
     "text": [
      "[codecarbon INFO @ 03:17:34] Energy consumed for RAM : 0.002401 kWh. RAM Power : 5.9499335289001465 W\n",
      "[codecarbon INFO @ 03:17:34] Energy consumed for all GPUs : 0.082162 kWh. Total GPU Power : 208.882 W\n",
      "[codecarbon INFO @ 03:17:34] Energy consumed for all CPUs : 0.019206 kWh. Total CPU Power : 47.5 W\n",
      "[codecarbon INFO @ 03:17:34] 0.103769 kWh of electricity used since the beginning.\n"
     ]
    },
    {
     "name": "stdout",
     "output_type": "stream",
     "text": [
      "{'loss': 0.1444, 'grad_norm': 3.245868682861328, 'learning_rate': 3.119855120184393e-05, 'epoch': 1.32}\n",
      "{'loss': 0.1261, 'grad_norm': 4.5031585693359375, 'learning_rate': 3.103391504774449e-05, 'epoch': 1.32}\n"
     ]
    },
    {
     "name": "stderr",
     "output_type": "stream",
     "text": [
      "[codecarbon INFO @ 03:17:49] Energy consumed for RAM : 0.002426 kWh. RAM Power : 5.9499335289001465 W\n",
      "[codecarbon INFO @ 03:17:49] Energy consumed for all GPUs : 0.082979 kWh. Total GPU Power : 196.324 W\n",
      "[codecarbon INFO @ 03:17:49] Energy consumed for all CPUs : 0.019404 kWh. Total CPU Power : 47.5 W\n",
      "[codecarbon INFO @ 03:17:49] 0.104809 kWh of electricity used since the beginning.\n"
     ]
    },
    {
     "name": "stdout",
     "output_type": "stream",
     "text": [
      "{'loss': 0.1752, 'grad_norm': 3.2949371337890625, 'learning_rate': 3.086927889364505e-05, 'epoch': 1.33}\n"
     ]
    },
    {
     "name": "stderr",
     "output_type": "stream",
     "text": [
      "[codecarbon INFO @ 03:18:04] Energy consumed for RAM : 0.002450 kWh. RAM Power : 5.9499335289001465 W\n",
      "[codecarbon INFO @ 03:18:04] Energy consumed for all GPUs : 0.083877 kWh. Total GPU Power : 215.66 W\n",
      "[codecarbon INFO @ 03:18:04] Energy consumed for all CPUs : 0.019602 kWh. Total CPU Power : 47.5 W\n",
      "[codecarbon INFO @ 03:18:04] 0.105930 kWh of electricity used since the beginning.\n"
     ]
    },
    {
     "name": "stdout",
     "output_type": "stream",
     "text": [
      "{'loss': 0.133, 'grad_norm': 3.51379656791687, 'learning_rate': 3.070464273954561e-05, 'epoch': 1.34}\n",
      "{'loss': 0.1437, 'grad_norm': 4.348755359649658, 'learning_rate': 3.0540006585446166e-05, 'epoch': 1.35}\n"
     ]
    },
    {
     "name": "stderr",
     "output_type": "stream",
     "text": [
      "[codecarbon INFO @ 03:18:19] Energy consumed for RAM : 0.002475 kWh. RAM Power : 5.9499335289001465 W\n",
      "[codecarbon INFO @ 03:18:19] Energy consumed for all GPUs : 0.084745 kWh. Total GPU Power : 208.74300000000002 W\n",
      "[codecarbon INFO @ 03:18:19] Energy consumed for all CPUs : 0.019800 kWh. Total CPU Power : 47.5 W\n",
      "[codecarbon INFO @ 03:18:19] 0.107020 kWh of electricity used since the beginning.\n"
     ]
    },
    {
     "name": "stdout",
     "output_type": "stream",
     "text": [
      "{'loss': 0.152, 'grad_norm': 11.595159530639648, 'learning_rate': 3.0375370431346723e-05, 'epoch': 1.36}\n",
      "{'loss': 0.1837, 'grad_norm': 3.5267624855041504, 'learning_rate': 3.0210734277247282e-05, 'epoch': 1.37}\n"
     ]
    },
    {
     "name": "stderr",
     "output_type": "stream",
     "text": [
      "[codecarbon INFO @ 03:18:34] Energy consumed for RAM : 0.002500 kWh. RAM Power : 5.9499335289001465 W\n",
      "[codecarbon INFO @ 03:18:34] Energy consumed for all GPUs : 0.085589 kWh. Total GPU Power : 202.71200000000002 W\n",
      "[codecarbon INFO @ 03:18:34] Energy consumed for all CPUs : 0.019998 kWh. Total CPU Power : 47.5 W\n",
      "[codecarbon INFO @ 03:18:34] 0.108088 kWh of electricity used since the beginning.\n"
     ]
    },
    {
     "name": "stdout",
     "output_type": "stream",
     "text": [
      "{'loss': 0.1691, 'grad_norm': 7.104850769042969, 'learning_rate': 3.004609812314784e-05, 'epoch': 1.38}\n"
     ]
    },
    {
     "name": "stderr",
     "output_type": "stream",
     "text": [
      "[codecarbon INFO @ 03:18:49] Energy consumed for RAM : 0.002525 kWh. RAM Power : 5.9499335289001465 W\n",
      "[codecarbon INFO @ 03:18:49] Energy consumed for all GPUs : 0.086456 kWh. Total GPU Power : 208.42600000000002 W\n",
      "[codecarbon INFO @ 03:18:49] Energy consumed for all CPUs : 0.020196 kWh. Total CPU Power : 47.5 W\n",
      "[codecarbon INFO @ 03:18:49] 0.109177 kWh of electricity used since the beginning.\n"
     ]
    },
    {
     "name": "stdout",
     "output_type": "stream",
     "text": [
      "{'loss': 0.1727, 'grad_norm': 5.069340705871582, 'learning_rate': 2.98814619690484e-05, 'epoch': 1.39}\n",
      "{'loss': 0.1522, 'grad_norm': 6.879201889038086, 'learning_rate': 2.9716825814948964e-05, 'epoch': 1.4}\n"
     ]
    },
    {
     "name": "stderr",
     "output_type": "stream",
     "text": [
      "[codecarbon INFO @ 03:19:04] Energy consumed for RAM : 0.002550 kWh. RAM Power : 5.9499335289001465 W\n",
      "[codecarbon INFO @ 03:19:04] Energy consumed for all GPUs : 0.087341 kWh. Total GPU Power : 212.427 W\n",
      "[codecarbon INFO @ 03:19:04] Energy consumed for all CPUs : 0.020394 kWh. Total CPU Power : 47.5 W\n",
      "[codecarbon INFO @ 03:19:04] 0.110285 kWh of electricity used since the beginning.\n"
     ]
    },
    {
     "name": "stdout",
     "output_type": "stream",
     "text": [
      "{'loss': 0.1519, 'grad_norm': 6.443312168121338, 'learning_rate': 2.9552189660849523e-05, 'epoch': 1.4}\n",
      "{'loss': 0.1299, 'grad_norm': 8.480443000793457, 'learning_rate': 2.9387553506750083e-05, 'epoch': 1.41}\n"
     ]
    },
    {
     "name": "stderr",
     "output_type": "stream",
     "text": [
      "[codecarbon INFO @ 03:19:19] Energy consumed for RAM : 0.002574 kWh. RAM Power : 5.9499335289001465 W\n",
      "[codecarbon INFO @ 03:19:19] Energy consumed for all GPUs : 0.088223 kWh. Total GPU Power : 211.876 W\n",
      "[codecarbon INFO @ 03:19:19] Energy consumed for all CPUs : 0.020592 kWh. Total CPU Power : 47.5 W\n",
      "[codecarbon INFO @ 03:19:19] 0.111390 kWh of electricity used since the beginning.\n"
     ]
    },
    {
     "name": "stdout",
     "output_type": "stream",
     "text": [
      "{'loss': 0.1516, 'grad_norm': 5.005562782287598, 'learning_rate': 2.9222917352650642e-05, 'epoch': 1.42}\n"
     ]
    },
    {
     "name": "stderr",
     "output_type": "stream",
     "text": [
      "[codecarbon INFO @ 03:19:34] Energy consumed for RAM : 0.002599 kWh. RAM Power : 5.9499335289001465 W\n",
      "[codecarbon INFO @ 03:19:34] Energy consumed for all GPUs : 0.089103 kWh. Total GPU Power : 211.254 W\n",
      "[codecarbon INFO @ 03:19:34] Energy consumed for all CPUs : 0.020790 kWh. Total CPU Power : 47.5 W\n",
      "[codecarbon INFO @ 03:19:34] 0.112492 kWh of electricity used since the beginning.\n"
     ]
    },
    {
     "name": "stdout",
     "output_type": "stream",
     "text": [
      "{'loss': 0.1572, 'grad_norm': 7.9113030433654785, 'learning_rate': 2.90582811985512e-05, 'epoch': 1.43}\n",
      "{'loss': 0.139, 'grad_norm': 8.467059135437012, 'learning_rate': 2.889364504445176e-05, 'epoch': 1.44}\n"
     ]
    },
    {
     "name": "stderr",
     "output_type": "stream",
     "text": [
      "[codecarbon INFO @ 03:19:49] Energy consumed for RAM : 0.002624 kWh. RAM Power : 5.9499335289001465 W\n",
      "[codecarbon INFO @ 03:19:49] Energy consumed for all GPUs : 0.089981 kWh. Total GPU Power : 210.702 W\n",
      "[codecarbon INFO @ 03:19:49] Energy consumed for all CPUs : 0.020988 kWh. Total CPU Power : 47.5 W\n",
      "[codecarbon INFO @ 03:19:49] 0.113593 kWh of electricity used since the beginning.\n"
     ]
    },
    {
     "name": "stdout",
     "output_type": "stream",
     "text": [
      "{'loss': 0.1469, 'grad_norm': 7.292123794555664, 'learning_rate': 2.872900889035232e-05, 'epoch': 1.45}\n"
     ]
    },
    {
     "name": "stderr",
     "output_type": "stream",
     "text": [
      "[codecarbon INFO @ 03:20:04] Energy consumed for RAM : 0.002649 kWh. RAM Power : 5.9499335289001465 W\n",
      "[codecarbon INFO @ 03:20:04] Energy consumed for all GPUs : 0.090855 kWh. Total GPU Power : 209.915 W\n",
      "[codecarbon INFO @ 03:20:04] Energy consumed for all CPUs : 0.021187 kWh. Total CPU Power : 47.5 W\n",
      "[codecarbon INFO @ 03:20:04] 0.114690 kWh of electricity used since the beginning.\n"
     ]
    },
    {
     "name": "stdout",
     "output_type": "stream",
     "text": [
      "{'loss': 0.1669, 'grad_norm': 11.055058479309082, 'learning_rate': 2.856437273625288e-05, 'epoch': 1.46}\n",
      "{'loss': 0.1553, 'grad_norm': 3.2929635047912598, 'learning_rate': 2.8399736582153443e-05, 'epoch': 1.47}\n"
     ]
    },
    {
     "name": "stderr",
     "output_type": "stream",
     "text": [
      "[codecarbon INFO @ 03:20:19] Energy consumed for RAM : 0.002673 kWh. RAM Power : 5.9499335289001465 W\n",
      "[codecarbon INFO @ 03:20:19] Energy consumed for all GPUs : 0.091668 kWh. Total GPU Power : 195.774 W\n",
      "[codecarbon INFO @ 03:20:19] Energy consumed for all CPUs : 0.021384 kWh. Total CPU Power : 47.5 W\n",
      "[codecarbon INFO @ 03:20:19] 0.115725 kWh of electricity used since the beginning.\n"
     ]
    },
    {
     "name": "stdout",
     "output_type": "stream",
     "text": [
      "{'loss': 0.1302, 'grad_norm': 7.299927711486816, 'learning_rate': 2.8235100428054002e-05, 'epoch': 1.48}\n"
     ]
    },
    {
     "name": "stderr",
     "output_type": "stream",
     "text": [
      "[codecarbon INFO @ 03:20:34] Energy consumed for RAM : 0.002698 kWh. RAM Power : 5.9499335289001465 W\n",
      "[codecarbon INFO @ 03:20:34] Energy consumed for all GPUs : 0.092532 kWh. Total GPU Power : 207.679 W\n",
      "[codecarbon INFO @ 03:20:34] Energy consumed for all CPUs : 0.021582 kWh. Total CPU Power : 47.5 W\n",
      "[codecarbon INFO @ 03:20:34] 0.116812 kWh of electricity used since the beginning.\n"
     ]
    },
    {
     "name": "stdout",
     "output_type": "stream",
     "text": [
      "{'loss': 0.1267, 'grad_norm': 4.5059051513671875, 'learning_rate': 2.807046427395456e-05, 'epoch': 1.48}\n",
      "{'loss': 0.1989, 'grad_norm': 16.13638687133789, 'learning_rate': 2.790582811985512e-05, 'epoch': 1.49}\n"
     ]
    },
    {
     "name": "stderr",
     "output_type": "stream",
     "text": [
      "[codecarbon INFO @ 03:20:49] Energy consumed for RAM : 0.002723 kWh. RAM Power : 5.9499335289001465 W\n",
      "[codecarbon INFO @ 03:20:49] Energy consumed for all GPUs : 0.093379 kWh. Total GPU Power : 203.57500000000005 W\n",
      "[codecarbon INFO @ 03:20:49] Energy consumed for all CPUs : 0.021780 kWh. Total CPU Power : 47.5 W\n",
      "[codecarbon INFO @ 03:20:49] 0.117882 kWh of electricity used since the beginning.\n"
     ]
    },
    {
     "name": "stdout",
     "output_type": "stream",
     "text": [
      "{'loss': 0.1575, 'grad_norm': 4.637728691101074, 'learning_rate': 2.774119196575568e-05, 'epoch': 1.5}\n",
      "{'loss': 0.1544, 'grad_norm': 9.142492294311523, 'learning_rate': 2.757655581165624e-05, 'epoch': 1.51}\n"
     ]
    },
    {
     "name": "stderr",
     "output_type": "stream",
     "text": [
      "[codecarbon INFO @ 03:21:04] Energy consumed for RAM : 0.002748 kWh. RAM Power : 5.9499335289001465 W\n",
      "[codecarbon INFO @ 03:21:04] Energy consumed for all GPUs : 0.094252 kWh. Total GPU Power : 209.53100000000003 W\n",
      "[codecarbon INFO @ 03:21:04] Energy consumed for all CPUs : 0.021978 kWh. Total CPU Power : 47.5 W\n",
      "[codecarbon INFO @ 03:21:04] 0.118977 kWh of electricity used since the beginning.\n"
     ]
    },
    {
     "name": "stdout",
     "output_type": "stream",
     "text": [
      "{'loss': 0.1251, 'grad_norm': 2.0825304985046387, 'learning_rate': 2.74119196575568e-05, 'epoch': 1.52}\n"
     ]
    },
    {
     "name": "stderr",
     "output_type": "stream",
     "text": [
      "[codecarbon INFO @ 03:21:19] Energy consumed for RAM : 0.002772 kWh. RAM Power : 5.9499335289001465 W\n",
      "[codecarbon INFO @ 03:21:19] Energy consumed for all GPUs : 0.095093 kWh. Total GPU Power : 202.00300000000001 W\n",
      "[codecarbon INFO @ 03:21:19] Energy consumed for all CPUs : 0.022176 kWh. Total CPU Power : 47.5 W\n",
      "[codecarbon INFO @ 03:21:19] 0.120042 kWh of electricity used since the beginning.\n"
     ]
    },
    {
     "name": "stdout",
     "output_type": "stream",
     "text": [
      "{'loss': 0.1751, 'grad_norm': 8.693547248840332, 'learning_rate': 2.724728350345736e-05, 'epoch': 1.53}\n",
      "{'loss': 0.1589, 'grad_norm': 5.092342853546143, 'learning_rate': 2.708264734935792e-05, 'epoch': 1.54}\n"
     ]
    },
    {
     "name": "stderr",
     "output_type": "stream",
     "text": [
      "[codecarbon INFO @ 03:21:34] Energy consumed for RAM : 0.002797 kWh. RAM Power : 5.9499335289001465 W\n",
      "[codecarbon INFO @ 03:21:34] Energy consumed for all GPUs : 0.095960 kWh. Total GPU Power : 208.469 W\n",
      "[codecarbon INFO @ 03:21:34] Energy consumed for all CPUs : 0.022374 kWh. Total CPU Power : 47.5 W\n",
      "[codecarbon INFO @ 03:21:34] 0.121131 kWh of electricity used since the beginning.\n"
     ]
    },
    {
     "name": "stdout",
     "output_type": "stream",
     "text": [
      "{'loss': 0.1511, 'grad_norm': 3.7054131031036377, 'learning_rate': 2.691801119525848e-05, 'epoch': 1.55}\n"
     ]
    },
    {
     "name": "stderr",
     "output_type": "stream",
     "text": [
      "[codecarbon INFO @ 03:21:49] Energy consumed for RAM : 0.002822 kWh. RAM Power : 5.9499335289001465 W\n",
      "[codecarbon INFO @ 03:21:49] Energy consumed for all GPUs : 0.096805 kWh. Total GPU Power : 202.811 W\n",
      "[codecarbon INFO @ 03:21:49] Energy consumed for all CPUs : 0.022572 kWh. Total CPU Power : 47.5 W\n",
      "[codecarbon INFO @ 03:21:49] 0.122199 kWh of electricity used since the beginning.\n"
     ]
    },
    {
     "name": "stdout",
     "output_type": "stream",
     "text": [
      "{'loss': 0.1317, 'grad_norm': 2.2196061611175537, 'learning_rate': 2.675337504115904e-05, 'epoch': 1.56}\n",
      "{'loss': 0.1402, 'grad_norm': 4.126953125, 'learning_rate': 2.65887388870596e-05, 'epoch': 1.56}\n"
     ]
    },
    {
     "name": "stderr",
     "output_type": "stream",
     "text": [
      "[codecarbon INFO @ 03:22:04] Energy consumed for RAM : 0.002847 kWh. RAM Power : 5.9499335289001465 W\n",
      "[codecarbon INFO @ 03:22:04] Energy consumed for all GPUs : 0.097650 kWh. Total GPU Power : 203.13400000000001 W\n",
      "[codecarbon INFO @ 03:22:04] Energy consumed for all CPUs : 0.022770 kWh. Total CPU Power : 47.5 W\n",
      "[codecarbon INFO @ 03:22:04] 0.123266 kWh of electricity used since the beginning.\n"
     ]
    },
    {
     "name": "stdout",
     "output_type": "stream",
     "text": [
      "{'loss': 0.1012, 'grad_norm': 4.30802583694458, 'learning_rate': 2.642410273296016e-05, 'epoch': 1.57}\n",
      "{'loss': 0.1281, 'grad_norm': 6.516756534576416, 'learning_rate': 2.625946657886072e-05, 'epoch': 1.58}\n"
     ]
    },
    {
     "name": "stderr",
     "output_type": "stream",
     "text": [
      "[codecarbon INFO @ 03:22:19] Energy consumed for RAM : 0.002871 kWh. RAM Power : 5.9499335289001465 W\n",
      "[codecarbon INFO @ 03:22:19] Energy consumed for all GPUs : 0.098518 kWh. Total GPU Power : 208.328 W\n",
      "[codecarbon INFO @ 03:22:19] Energy consumed for all CPUs : 0.022968 kWh. Total CPU Power : 47.5 W\n",
      "[codecarbon INFO @ 03:22:19] 0.124357 kWh of electricity used since the beginning.\n"
     ]
    },
    {
     "name": "stdout",
     "output_type": "stream",
     "text": [
      "{'loss': 0.1512, 'grad_norm': 9.875994682312012, 'learning_rate': 2.609483042476128e-05, 'epoch': 1.59}\n"
     ]
    },
    {
     "name": "stderr",
     "output_type": "stream",
     "text": [
      "[codecarbon INFO @ 03:22:34] Energy consumed for RAM : 0.002896 kWh. RAM Power : 5.9499335289001465 W\n",
      "[codecarbon INFO @ 03:22:34] Energy consumed for all GPUs : 0.099349 kWh. Total GPU Power : 199.478 W\n",
      "[codecarbon INFO @ 03:22:34] Energy consumed for all CPUs : 0.023166 kWh. Total CPU Power : 47.5 W\n",
      "[codecarbon INFO @ 03:22:34] 0.125411 kWh of electricity used since the beginning.\n"
     ]
    },
    {
     "name": "stdout",
     "output_type": "stream",
     "text": [
      "{'loss': 0.1212, 'grad_norm': 4.856042861938477, 'learning_rate': 2.593019427066184e-05, 'epoch': 1.6}\n",
      "{'loss': 0.1476, 'grad_norm': 7.17677116394043, 'learning_rate': 2.57655581165624e-05, 'epoch': 1.61}\n"
     ]
    },
    {
     "name": "stderr",
     "output_type": "stream",
     "text": [
      "[codecarbon INFO @ 03:22:49] Energy consumed for RAM : 0.002921 kWh. RAM Power : 5.9499335289001465 W\n",
      "[codecarbon INFO @ 03:22:49] Energy consumed for all GPUs : 0.100176 kWh. Total GPU Power : 198.52 W\n",
      "[codecarbon INFO @ 03:22:49] Energy consumed for all CPUs : 0.023365 kWh. Total CPU Power : 47.5 W\n",
      "[codecarbon INFO @ 03:22:49] 0.126461 kWh of electricity used since the beginning.\n"
     ]
    },
    {
     "name": "stdout",
     "output_type": "stream",
     "text": [
      "{'loss': 0.1347, 'grad_norm': 3.873084306716919, 'learning_rate': 2.560092196246296e-05, 'epoch': 1.62}\n"
     ]
    },
    {
     "name": "stderr",
     "output_type": "stream",
     "text": [
      "[codecarbon INFO @ 03:23:04] Energy consumed for RAM : 0.002946 kWh. RAM Power : 5.9499335289001465 W\n",
      "[codecarbon INFO @ 03:23:04] Energy consumed for all GPUs : 0.101030 kWh. Total GPU Power : 205.291 W\n",
      "[codecarbon INFO @ 03:23:04] Energy consumed for all CPUs : 0.023562 kWh. Total CPU Power : 47.5 W\n",
      "[codecarbon INFO @ 03:23:04] 0.127538 kWh of electricity used since the beginning.\n"
     ]
    },
    {
     "name": "stdout",
     "output_type": "stream",
     "text": [
      "{'loss': 0.1601, 'grad_norm': 5.028093338012695, 'learning_rate': 2.543628580836352e-05, 'epoch': 1.63}\n",
      "{'loss': 0.1359, 'grad_norm': 6.34876823425293, 'learning_rate': 2.527164965426408e-05, 'epoch': 1.64}\n"
     ]
    },
    {
     "name": "stderr",
     "output_type": "stream",
     "text": [
      "[codecarbon INFO @ 03:23:19] Energy consumed for RAM : 0.002970 kWh. RAM Power : 5.9499335289001465 W\n",
      "[codecarbon INFO @ 03:23:19] Energy consumed for all GPUs : 0.101920 kWh. Total GPU Power : 213.52 W\n",
      "[codecarbon INFO @ 03:23:19] Energy consumed for all CPUs : 0.023760 kWh. Total CPU Power : 47.5 W\n",
      "[codecarbon INFO @ 03:23:19] 0.128650 kWh of electricity used since the beginning.\n"
     ]
    },
    {
     "name": "stdout",
     "output_type": "stream",
     "text": [
      "{'loss': 0.1294, 'grad_norm': 5.476853847503662, 'learning_rate': 2.510701350016464e-05, 'epoch': 1.64}\n"
     ]
    },
    {
     "name": "stderr",
     "output_type": "stream",
     "text": [
      "[codecarbon INFO @ 03:23:34] Energy consumed for RAM : 0.002995 kWh. RAM Power : 5.9499335289001465 W\n",
      "[codecarbon INFO @ 03:23:34] Energy consumed for all GPUs : 0.102774 kWh. Total GPU Power : 204.94400000000002 W\n",
      "[codecarbon INFO @ 03:23:34] Energy consumed for all CPUs : 0.023958 kWh. Total CPU Power : 47.5 W\n",
      "[codecarbon INFO @ 03:23:34] 0.129727 kWh of electricity used since the beginning.\n"
     ]
    },
    {
     "name": "stdout",
     "output_type": "stream",
     "text": [
      "{'loss': 0.138, 'grad_norm': 9.206507682800293, 'learning_rate': 2.4942377346065194e-05, 'epoch': 1.65}\n",
      "{'loss': 0.1293, 'grad_norm': 3.6985976696014404, 'learning_rate': 2.4777741191965757e-05, 'epoch': 1.66}\n"
     ]
    },
    {
     "name": "stderr",
     "output_type": "stream",
     "text": [
      "[codecarbon INFO @ 03:23:49] Energy consumed for RAM : 0.003020 kWh. RAM Power : 5.9499335289001465 W\n",
      "[codecarbon INFO @ 03:23:49] Energy consumed for all GPUs : 0.103638 kWh. Total GPU Power : 207.471 W\n",
      "[codecarbon INFO @ 03:23:49] Energy consumed for all CPUs : 0.024157 kWh. Total CPU Power : 47.5 W\n",
      "[codecarbon INFO @ 03:23:49] 0.130814 kWh of electricity used since the beginning.\n"
     ]
    },
    {
     "name": "stdout",
     "output_type": "stream",
     "text": [
      "{'loss': 0.1189, 'grad_norm': 2.4266791343688965, 'learning_rate': 2.4613105037866317e-05, 'epoch': 1.67}\n",
      "{'loss': 0.1587, 'grad_norm': 14.982433319091797, 'learning_rate': 2.4448468883766876e-05, 'epoch': 1.68}\n"
     ]
    },
    {
     "name": "stderr",
     "output_type": "stream",
     "text": [
      "[codecarbon INFO @ 03:24:04] Energy consumed for RAM : 0.003045 kWh. RAM Power : 5.9499335289001465 W\n",
      "[codecarbon INFO @ 03:24:04] Energy consumed for all GPUs : 0.104490 kWh. Total GPU Power : 204.741 W\n",
      "[codecarbon INFO @ 03:24:04] Energy consumed for all CPUs : 0.024354 kWh. Total CPU Power : 47.5 W\n",
      "[codecarbon INFO @ 03:24:04] 0.131889 kWh of electricity used since the beginning.\n"
     ]
    },
    {
     "name": "stdout",
     "output_type": "stream",
     "text": [
      "{'loss': 0.1279, 'grad_norm': 2.949382781982422, 'learning_rate': 2.4283832729667436e-05, 'epoch': 1.69}\n"
     ]
    },
    {
     "name": "stderr",
     "output_type": "stream",
     "text": [
      "[codecarbon INFO @ 03:24:19] Energy consumed for RAM : 0.003069 kWh. RAM Power : 5.9499335289001465 W\n",
      "[codecarbon INFO @ 03:24:19] Energy consumed for all GPUs : 0.105386 kWh. Total GPU Power : 214.96 W\n",
      "[codecarbon INFO @ 03:24:19] Energy consumed for all CPUs : 0.024553 kWh. Total CPU Power : 47.5 W\n",
      "[codecarbon INFO @ 03:24:19] 0.133008 kWh of electricity used since the beginning.\n"
     ]
    },
    {
     "name": "stdout",
     "output_type": "stream",
     "text": [
      "{'loss': 0.1339, 'grad_norm': 67.59186553955078, 'learning_rate': 2.4119196575567995e-05, 'epoch': 1.7}\n",
      "{'loss': 0.1394, 'grad_norm': 8.264497756958008, 'learning_rate': 2.3954560421468555e-05, 'epoch': 1.71}\n"
     ]
    },
    {
     "name": "stderr",
     "output_type": "stream",
     "text": [
      "[codecarbon INFO @ 03:24:34] Energy consumed for RAM : 0.003094 kWh. RAM Power : 5.9499335289001465 W\n",
      "[codecarbon INFO @ 03:24:34] Energy consumed for all GPUs : 0.106285 kWh. Total GPU Power : 216.064 W\n",
      "[codecarbon INFO @ 03:24:34] Energy consumed for all CPUs : 0.024751 kWh. Total CPU Power : 47.5 W\n",
      "[codecarbon INFO @ 03:24:34] 0.134130 kWh of electricity used since the beginning.\n"
     ]
    },
    {
     "name": "stdout",
     "output_type": "stream",
     "text": [
      "{'loss': 0.1256, 'grad_norm': 7.046630382537842, 'learning_rate': 2.3789924267369114e-05, 'epoch': 1.72}\n"
     ]
    },
    {
     "name": "stderr",
     "output_type": "stream",
     "text": [
      "[codecarbon INFO @ 03:24:49] Energy consumed for RAM : 0.003119 kWh. RAM Power : 5.9499335289001465 W\n",
      "[codecarbon INFO @ 03:24:49] Energy consumed for all GPUs : 0.107146 kWh. Total GPU Power : 207.393 W\n",
      "[codecarbon INFO @ 03:24:49] Energy consumed for all CPUs : 0.024949 kWh. Total CPU Power : 47.5 W\n",
      "[codecarbon INFO @ 03:24:49] 0.135214 kWh of electricity used since the beginning.\n"
     ]
    },
    {
     "name": "stdout",
     "output_type": "stream",
     "text": [
      "{'loss': 0.1404, 'grad_norm': 5.093416690826416, 'learning_rate': 2.3625288113269677e-05, 'epoch': 1.72}\n",
      "{'loss': 0.1456, 'grad_norm': 4.658504962921143, 'learning_rate': 2.3460651959170236e-05, 'epoch': 1.73}\n"
     ]
    },
    {
     "name": "stderr",
     "output_type": "stream",
     "text": [
      "[codecarbon INFO @ 03:25:04] Energy consumed for RAM : 0.003144 kWh. RAM Power : 5.9499335289001465 W\n",
      "[codecarbon INFO @ 03:25:04] Energy consumed for all GPUs : 0.108022 kWh. Total GPU Power : 210.421 W\n",
      "[codecarbon INFO @ 03:25:04] Energy consumed for all CPUs : 0.025147 kWh. Total CPU Power : 47.5 W\n",
      "[codecarbon INFO @ 03:25:04] 0.136312 kWh of electricity used since the beginning.\n"
     ]
    },
    {
     "name": "stdout",
     "output_type": "stream",
     "text": [
      "{'loss': 0.1337, 'grad_norm': 6.8234710693359375, 'learning_rate': 2.3296015805070796e-05, 'epoch': 1.74}\n",
      "{'loss': 0.1381, 'grad_norm': 4.598105430603027, 'learning_rate': 2.3131379650971355e-05, 'epoch': 1.75}\n"
     ]
    },
    {
     "name": "stderr",
     "output_type": "stream",
     "text": [
      "[codecarbon INFO @ 03:25:19] Energy consumed for RAM : 0.003168 kWh. RAM Power : 5.9499335289001465 W\n",
      "[codecarbon INFO @ 03:25:19] Energy consumed for all GPUs : 0.108885 kWh. Total GPU Power : 207.17000000000002 W\n",
      "[codecarbon INFO @ 03:25:19] Energy consumed for all CPUs : 0.025345 kWh. Total CPU Power : 47.5 W\n",
      "[codecarbon INFO @ 03:25:19] 0.137398 kWh of electricity used since the beginning.\n"
     ]
    },
    {
     "name": "stdout",
     "output_type": "stream",
     "text": [
      "{'loss': 0.1237, 'grad_norm': 9.007284164428711, 'learning_rate': 2.2966743496871915e-05, 'epoch': 1.76}\n"
     ]
    },
    {
     "name": "stderr",
     "output_type": "stream",
     "text": [
      "[codecarbon INFO @ 03:25:34] Energy consumed for RAM : 0.003193 kWh. RAM Power : 5.9499335289001465 W\n",
      "[codecarbon INFO @ 03:25:34] Energy consumed for all GPUs : 0.109732 kWh. Total GPU Power : 204.006 W\n",
      "[codecarbon INFO @ 03:25:34] Energy consumed for all CPUs : 0.025542 kWh. Total CPU Power : 47.5 W\n",
      "[codecarbon INFO @ 03:25:34] 0.138468 kWh of electricity used since the beginning.\n"
     ]
    },
    {
     "name": "stdout",
     "output_type": "stream",
     "text": [
      "{'loss': 0.1188, 'grad_norm': 5.078076362609863, 'learning_rate': 2.2802107342772474e-05, 'epoch': 1.77}\n",
      "{'loss': 0.1269, 'grad_norm': 4.986614227294922, 'learning_rate': 2.2637471188673034e-05, 'epoch': 1.78}\n"
     ]
    },
    {
     "name": "stderr",
     "output_type": "stream",
     "text": [
      "[codecarbon INFO @ 03:25:49] Energy consumed for RAM : 0.003218 kWh. RAM Power : 5.9499335289001465 W\n",
      "[codecarbon INFO @ 03:25:49] Energy consumed for all GPUs : 0.110563 kWh. Total GPU Power : 199.37000000000003 W\n",
      "[codecarbon INFO @ 03:25:49] Energy consumed for all CPUs : 0.025741 kWh. Total CPU Power : 47.5 W\n",
      "[codecarbon INFO @ 03:25:49] 0.139521 kWh of electricity used since the beginning.\n"
     ]
    },
    {
     "name": "stdout",
     "output_type": "stream",
     "text": [
      "{'loss': 0.1132, 'grad_norm': 3.720546245574951, 'learning_rate': 2.2472835034573593e-05, 'epoch': 1.79}\n"
     ]
    },
    {
     "name": "stderr",
     "output_type": "stream",
     "text": [
      "[codecarbon INFO @ 03:26:04] Energy consumed for RAM : 0.003243 kWh. RAM Power : 5.9499335289001465 W\n",
      "[codecarbon INFO @ 03:26:04] Energy consumed for all GPUs : 0.111387 kWh. Total GPU Power : 198.262 W\n",
      "[codecarbon INFO @ 03:26:04] Energy consumed for all CPUs : 0.025938 kWh. Total CPU Power : 47.5 W\n",
      "[codecarbon INFO @ 03:26:04] 0.140568 kWh of electricity used since the beginning.\n"
     ]
    },
    {
     "name": "stdout",
     "output_type": "stream",
     "text": [
      "{'loss': 0.1478, 'grad_norm': 8.251795768737793, 'learning_rate': 2.2308198880474156e-05, 'epoch': 1.8}\n",
      "{'loss': 0.1266, 'grad_norm': 3.69931697845459, 'learning_rate': 2.2143562726374715e-05, 'epoch': 1.8}\n"
     ]
    },
    {
     "name": "stderr",
     "output_type": "stream",
     "text": [
      "[codecarbon INFO @ 03:26:19] Energy consumed for RAM : 0.003267 kWh. RAM Power : 5.9499335289001465 W\n",
      "[codecarbon INFO @ 03:26:19] Energy consumed for all GPUs : 0.112241 kWh. Total GPU Power : 205.115 W\n",
      "[codecarbon INFO @ 03:26:19] Energy consumed for all CPUs : 0.026136 kWh. Total CPU Power : 47.5 W\n",
      "[codecarbon INFO @ 03:26:19] 0.141645 kWh of electricity used since the beginning.\n"
     ]
    },
    {
     "name": "stdout",
     "output_type": "stream",
     "text": [
      "{'loss': 0.144, 'grad_norm': 9.563814163208008, 'learning_rate': 2.1978926572275275e-05, 'epoch': 1.81}\n"
     ]
    },
    {
     "name": "stderr",
     "output_type": "stream",
     "text": [
      "[codecarbon INFO @ 03:26:34] Energy consumed for RAM : 0.003292 kWh. RAM Power : 5.9499335289001465 W\n",
      "[codecarbon INFO @ 03:26:34] Energy consumed for all GPUs : 0.113133 kWh. Total GPU Power : 214.094 W\n",
      "[codecarbon INFO @ 03:26:34] Energy consumed for all CPUs : 0.026335 kWh. Total CPU Power : 47.5 W\n",
      "[codecarbon INFO @ 03:26:34] 0.142759 kWh of electricity used since the beginning.\n"
     ]
    },
    {
     "name": "stdout",
     "output_type": "stream",
     "text": [
      "{'loss': 0.1196, 'grad_norm': 7.24586296081543, 'learning_rate': 2.181429041817583e-05, 'epoch': 1.82}\n",
      "{'loss': 0.1402, 'grad_norm': 7.24547004699707, 'learning_rate': 2.164965426407639e-05, 'epoch': 1.83}\n"
     ]
    },
    {
     "name": "stderr",
     "output_type": "stream",
     "text": [
      "[codecarbon INFO @ 03:26:49] Energy consumed for RAM : 0.003317 kWh. RAM Power : 5.9499335289001465 W\n",
      "[codecarbon INFO @ 03:26:49] Energy consumed for all GPUs : 0.114029 kWh. Total GPU Power : 215.27500000000003 W\n",
      "[codecarbon INFO @ 03:26:49] Energy consumed for all CPUs : 0.026533 kWh. Total CPU Power : 47.5 W\n",
      "[codecarbon INFO @ 03:26:49] 0.143879 kWh of electricity used since the beginning.\n"
     ]
    },
    {
     "name": "stdout",
     "output_type": "stream",
     "text": [
      "{'loss': 0.1152, 'grad_norm': 8.910736083984375, 'learning_rate': 2.148501810997695e-05, 'epoch': 1.84}\n",
      "{'loss': 0.1125, 'grad_norm': 5.82919454574585, 'learning_rate': 2.1320381955877512e-05, 'epoch': 1.85}\n"
     ]
    },
    {
     "name": "stderr",
     "output_type": "stream",
     "text": [
      "[codecarbon INFO @ 03:27:04] Energy consumed for RAM : 0.003342 kWh. RAM Power : 5.9499335289001465 W\n",
      "[codecarbon INFO @ 03:27:04] Energy consumed for all GPUs : 0.114881 kWh. Total GPU Power : 205.186 W\n",
      "[codecarbon INFO @ 03:27:04] Energy consumed for all CPUs : 0.026731 kWh. Total CPU Power : 47.5 W\n",
      "[codecarbon INFO @ 03:27:04] 0.144953 kWh of electricity used since the beginning.\n"
     ]
    },
    {
     "name": "stdout",
     "output_type": "stream",
     "text": [
      "{'loss': 0.1606, 'grad_norm': 27.97666358947754, 'learning_rate': 2.1155745801778072e-05, 'epoch': 1.86}\n"
     ]
    },
    {
     "name": "stderr",
     "output_type": "stream",
     "text": [
      "[codecarbon INFO @ 03:27:19] Energy consumed for RAM : 0.003366 kWh. RAM Power : 5.9499335289001465 W\n",
      "[codecarbon INFO @ 03:27:19] Energy consumed for all GPUs : 0.115751 kWh. Total GPU Power : 208.983 W\n",
      "[codecarbon INFO @ 03:27:19] Energy consumed for all CPUs : 0.026929 kWh. Total CPU Power : 47.5 W\n",
      "[codecarbon INFO @ 03:27:19] 0.146046 kWh of electricity used since the beginning.\n"
     ]
    },
    {
     "name": "stdout",
     "output_type": "stream",
     "text": [
      "{'loss': 0.133, 'grad_norm': 7.618607997894287, 'learning_rate': 2.099110964767863e-05, 'epoch': 1.87}\n",
      "{'loss': 0.1455, 'grad_norm': 3.616060733795166, 'learning_rate': 2.082647349357919e-05, 'epoch': 1.88}\n"
     ]
    },
    {
     "name": "stderr",
     "output_type": "stream",
     "text": [
      "[codecarbon INFO @ 03:27:34] Energy consumed for RAM : 0.003391 kWh. RAM Power : 5.9499335289001465 W\n",
      "[codecarbon INFO @ 03:27:34] Energy consumed for all GPUs : 0.116613 kWh. Total GPU Power : 207.776 W\n",
      "[codecarbon INFO @ 03:27:34] Energy consumed for all CPUs : 0.027126 kWh. Total CPU Power : 47.5 W\n",
      "[codecarbon INFO @ 03:27:34] 0.147131 kWh of electricity used since the beginning.\n"
     ]
    },
    {
     "name": "stdout",
     "output_type": "stream",
     "text": [
      "{'loss': 0.1285, 'grad_norm': 6.923144817352295, 'learning_rate': 2.066183733947975e-05, 'epoch': 1.88}\n"
     ]
    },
    {
     "name": "stderr",
     "output_type": "stream",
     "text": [
      "[codecarbon INFO @ 03:27:49] Energy consumed for RAM : 0.003416 kWh. RAM Power : 5.9499335289001465 W\n",
      "[codecarbon INFO @ 03:27:49] Energy consumed for all GPUs : 0.117471 kWh. Total GPU Power : 205.836 W\n",
      "[codecarbon INFO @ 03:27:49] Energy consumed for all CPUs : 0.027324 kWh. Total CPU Power : 47.5 W\n",
      "[codecarbon INFO @ 03:27:49] 0.148212 kWh of electricity used since the beginning.\n"
     ]
    },
    {
     "name": "stdout",
     "output_type": "stream",
     "text": [
      "{'loss': 0.1258, 'grad_norm': 4.769718647003174, 'learning_rate': 2.049720118538031e-05, 'epoch': 1.89}\n",
      "{'loss': 0.1169, 'grad_norm': 4.009350299835205, 'learning_rate': 2.033256503128087e-05, 'epoch': 1.9}\n"
     ]
    },
    {
     "name": "stderr",
     "output_type": "stream",
     "text": [
      "[codecarbon INFO @ 03:28:04] Energy consumed for RAM : 0.003441 kWh. RAM Power : 5.9499335289001465 W\n",
      "[codecarbon INFO @ 03:28:04] Energy consumed for all GPUs : 0.118291 kWh. Total GPU Power : 196.803 W\n",
      "[codecarbon INFO @ 03:28:04] Energy consumed for all CPUs : 0.027523 kWh. Total CPU Power : 47.5 W\n",
      "[codecarbon INFO @ 03:28:04] 0.149254 kWh of electricity used since the beginning.\n"
     ]
    },
    {
     "name": "stdout",
     "output_type": "stream",
     "text": [
      "{'loss': 0.1122, 'grad_norm': 17.89965057373047, 'learning_rate': 2.016792887718143e-05, 'epoch': 1.91}\n",
      "{'loss': 0.1462, 'grad_norm': 4.5547661781311035, 'learning_rate': 2.000329272308199e-05, 'epoch': 1.92}\n"
     ]
    },
    {
     "name": "stderr",
     "output_type": "stream",
     "text": [
      "[codecarbon INFO @ 03:28:19] Energy consumed for RAM : 0.003465 kWh. RAM Power : 5.9499335289001465 W\n",
      "[codecarbon INFO @ 03:28:19] Energy consumed for all GPUs : 0.119142 kWh. Total GPU Power : 204.494 W\n",
      "[codecarbon INFO @ 03:28:19] Energy consumed for all CPUs : 0.027720 kWh. Total CPU Power : 47.5 W\n",
      "[codecarbon INFO @ 03:28:19] 0.150327 kWh of electricity used since the beginning.\n"
     ]
    },
    {
     "name": "stdout",
     "output_type": "stream",
     "text": [
      "{'loss': 0.1397, 'grad_norm': 4.184633731842041, 'learning_rate': 1.983865656898255e-05, 'epoch': 1.93}\n"
     ]
    },
    {
     "name": "stderr",
     "output_type": "stream",
     "text": [
      "[codecarbon INFO @ 03:28:34] Energy consumed for RAM : 0.003490 kWh. RAM Power : 5.9499335289001465 W\n",
      "[codecarbon INFO @ 03:28:34] Energy consumed for all GPUs : 0.119990 kWh. Total GPU Power : 203.457 W\n",
      "[codecarbon INFO @ 03:28:34] Energy consumed for all CPUs : 0.027918 kWh. Total CPU Power : 47.5 W\n",
      "[codecarbon INFO @ 03:28:34] 0.151398 kWh of electricity used since the beginning.\n"
     ]
    },
    {
     "name": "stdout",
     "output_type": "stream",
     "text": [
      "{'loss': 0.1236, 'grad_norm': 5.103354454040527, 'learning_rate': 1.967402041488311e-05, 'epoch': 1.94}\n",
      "{'loss': 0.1501, 'grad_norm': 7.15592098236084, 'learning_rate': 1.950938426078367e-05, 'epoch': 1.95}\n"
     ]
    },
    {
     "name": "stderr",
     "output_type": "stream",
     "text": [
      "[codecarbon INFO @ 03:28:49] Energy consumed for RAM : 0.003515 kWh. RAM Power : 5.9499335289001465 W\n",
      "[codecarbon INFO @ 03:28:49] Energy consumed for all GPUs : 0.120870 kWh. Total GPU Power : 211.192 W\n",
      "[codecarbon INFO @ 03:28:49] Energy consumed for all CPUs : 0.028116 kWh. Total CPU Power : 47.5 W\n",
      "[codecarbon INFO @ 03:28:49] 0.152501 kWh of electricity used since the beginning.\n"
     ]
    },
    {
     "name": "stdout",
     "output_type": "stream",
     "text": [
      "{'loss': 0.131, 'grad_norm': 4.1310529708862305, 'learning_rate': 1.934474810668423e-05, 'epoch': 1.96}\n"
     ]
    },
    {
     "name": "stderr",
     "output_type": "stream",
     "text": [
      "[codecarbon INFO @ 03:29:04] Energy consumed for RAM : 0.003540 kWh. RAM Power : 5.9499335289001465 W\n",
      "[codecarbon INFO @ 03:29:04] Energy consumed for all GPUs : 0.121713 kWh. Total GPU Power : 202.31300000000002 W\n",
      "[codecarbon INFO @ 03:29:04] Energy consumed for all CPUs : 0.028314 kWh. Total CPU Power : 47.5 W\n",
      "[codecarbon INFO @ 03:29:04] 0.153567 kWh of electricity used since the beginning.\n"
     ]
    },
    {
     "name": "stdout",
     "output_type": "stream",
     "text": [
      "{'loss': 0.1527, 'grad_norm': 10.8958740234375, 'learning_rate': 1.918011195258479e-05, 'epoch': 1.96}\n",
      "{'loss': 0.1268, 'grad_norm': 5.677941799163818, 'learning_rate': 1.9015475798485348e-05, 'epoch': 1.97}\n"
     ]
    },
    {
     "name": "stderr",
     "output_type": "stream",
     "text": [
      "[codecarbon INFO @ 03:29:19] Energy consumed for RAM : 0.003565 kWh. RAM Power : 5.9499335289001465 W\n",
      "[codecarbon INFO @ 03:29:19] Energy consumed for all GPUs : 0.122546 kWh. Total GPU Power : 199.87700000000004 W\n",
      "[codecarbon INFO @ 03:29:19] Energy consumed for all CPUs : 0.028513 kWh. Total CPU Power : 47.5 W\n",
      "[codecarbon INFO @ 03:29:19] 0.154623 kWh of electricity used since the beginning.\n"
     ]
    },
    {
     "name": "stdout",
     "output_type": "stream",
     "text": [
      "{'loss': 0.1167, 'grad_norm': 5.539301872253418, 'learning_rate': 1.8850839644385908e-05, 'epoch': 1.98}\n"
     ]
    },
    {
     "name": "stderr",
     "output_type": "stream",
     "text": [
      "[codecarbon INFO @ 03:29:34] Energy consumed for RAM : 0.003589 kWh. RAM Power : 5.9499335289001465 W\n",
      "[codecarbon INFO @ 03:29:34] Energy consumed for all GPUs : 0.123423 kWh. Total GPU Power : 210.25100000000003 W\n",
      "[codecarbon INFO @ 03:29:34] Energy consumed for all CPUs : 0.028711 kWh. Total CPU Power : 47.5 W\n",
      "[codecarbon INFO @ 03:29:34] 0.155722 kWh of electricity used since the beginning.\n"
     ]
    },
    {
     "name": "stdout",
     "output_type": "stream",
     "text": [
      "{'loss': 0.1236, 'grad_norm': 8.705559730529785, 'learning_rate': 1.868620349028647e-05, 'epoch': 1.99}\n",
      "{'loss': 0.1294, 'grad_norm': 12.138946533203125, 'learning_rate': 1.8521567336187026e-05, 'epoch': 2.0}\n"
     ]
    },
    {
     "data": {
      "application/vnd.jupyter.widget-view+json": {
       "model_id": "d78410e9f10c4e74b9cd18e99a1516c5",
       "version_major": 2,
       "version_minor": 0
      },
      "text/plain": [
       "  0%|          | 0/500 [00:00<?, ?it/s]"
      ]
     },
     "metadata": {},
     "output_type": "display_data"
    },
    {
     "name": "stderr",
     "output_type": "stream",
     "text": [
      "[codecarbon INFO @ 03:29:49] Energy consumed for RAM : 0.003614 kWh. RAM Power : 5.9499335289001465 W\n",
      "[codecarbon INFO @ 03:29:49] Energy consumed for all GPUs : 0.124112 kWh. Total GPU Power : 165.534 W\n",
      "[codecarbon INFO @ 03:29:49] Energy consumed for all CPUs : 0.028909 kWh. Total CPU Power : 47.5 W\n",
      "[codecarbon INFO @ 03:29:49] 0.156636 kWh of electricity used since the beginning.\n",
      "[codecarbon INFO @ 03:30:04] Energy consumed for RAM : 0.003639 kWh. RAM Power : 5.9499335289001465 W\n",
      "[codecarbon INFO @ 03:30:04] Energy consumed for all GPUs : 0.124813 kWh. Total GPU Power : 168.261 W\n",
      "[codecarbon INFO @ 03:30:04] Energy consumed for all CPUs : 0.029107 kWh. Total CPU Power : 47.5 W\n",
      "[codecarbon INFO @ 03:30:04] 0.157558 kWh of electricity used since the beginning.\n",
      "[codecarbon INFO @ 03:30:19] Energy consumed for RAM : 0.003664 kWh. RAM Power : 5.9499335289001465 W\n",
      "[codecarbon INFO @ 03:30:19] Energy consumed for all GPUs : 0.125533 kWh. Total GPU Power : 172.946 W\n",
      "[codecarbon INFO @ 03:30:19] Energy consumed for all CPUs : 0.029305 kWh. Total CPU Power : 47.5 W\n",
      "[codecarbon INFO @ 03:30:19] 0.158501 kWh of electricity used since the beginning.\n",
      "[codecarbon INFO @ 03:30:34] Energy consumed for RAM : 0.003688 kWh. RAM Power : 5.9499335289001465 W\n",
      "[codecarbon INFO @ 03:30:34] Energy consumed for all GPUs : 0.126243 kWh. Total GPU Power : 170.385 W\n",
      "[codecarbon INFO @ 03:30:34] Energy consumed for all CPUs : 0.029503 kWh. Total CPU Power : 47.5 W\n",
      "[codecarbon INFO @ 03:30:34] 0.159434 kWh of electricity used since the beginning.\n"
     ]
    },
    {
     "name": "stdout",
     "output_type": "stream",
     "text": [
      "{'eval_loss': 0.1527385711669922, 'eval_accuracy': 0.9419, 'eval_runtime': 59.1343, 'eval_samples_per_second': 169.107, 'eval_steps_per_second': 8.455, 'epoch': 2.0}\n"
     ]
    },
    {
     "name": "stderr",
     "output_type": "stream",
     "text": [
      "[codecarbon INFO @ 03:30:49] Energy consumed for RAM : 0.003713 kWh. RAM Power : 5.9499335289001465 W\n",
      "[codecarbon INFO @ 03:30:49] Energy consumed for all GPUs : 0.127023 kWh. Total GPU Power : 187.269 W\n",
      "[codecarbon INFO @ 03:30:49] Energy consumed for all CPUs : 0.029701 kWh. Total CPU Power : 47.5 W\n",
      "[codecarbon INFO @ 03:30:49] 0.160437 kWh of electricity used since the beginning.\n"
     ]
    },
    {
     "name": "stdout",
     "output_type": "stream",
     "text": [
      "{'loss': 0.0682, 'grad_norm': 6.825613975524902, 'learning_rate': 1.8356931182087586e-05, 'epoch': 2.01}\n"
     ]
    },
    {
     "name": "stderr",
     "output_type": "stream",
     "text": [
      "[codecarbon INFO @ 03:31:04] Energy consumed for RAM : 0.003738 kWh. RAM Power : 5.9499335289001465 W\n",
      "[codecarbon INFO @ 03:31:04] Energy consumed for all GPUs : 0.127861 kWh. Total GPU Power : 201.15200000000002 W\n",
      "[codecarbon INFO @ 03:31:04] Energy consumed for all CPUs : 0.029899 kWh. Total CPU Power : 47.5 W\n",
      "[codecarbon INFO @ 03:31:04] 0.161498 kWh of electricity used since the beginning.\n"
     ]
    },
    {
     "name": "stdout",
     "output_type": "stream",
     "text": [
      "{'loss': 0.0849, 'grad_norm': 7.322240352630615, 'learning_rate': 1.8192295027988145e-05, 'epoch': 2.02}\n",
      "{'loss': 0.0722, 'grad_norm': 7.021109580993652, 'learning_rate': 1.8027658873888705e-05, 'epoch': 2.03}\n"
     ]
    },
    {
     "name": "stderr",
     "output_type": "stream",
     "text": [
      "[codecarbon INFO @ 03:31:19] Energy consumed for RAM : 0.003763 kWh. RAM Power : 5.9499335289001465 W\n",
      "[codecarbon INFO @ 03:31:19] Energy consumed for all GPUs : 0.128709 kWh. Total GPU Power : 203.437 W\n",
      "[codecarbon INFO @ 03:31:19] Energy consumed for all CPUs : 0.030097 kWh. Total CPU Power : 47.5 W\n",
      "[codecarbon INFO @ 03:31:19] 0.162569 kWh of electricity used since the beginning.\n"
     ]
    },
    {
     "name": "stdout",
     "output_type": "stream",
     "text": [
      "{'loss': 0.0633, 'grad_norm': 6.651477336883545, 'learning_rate': 1.7863022719789264e-05, 'epoch': 2.04}\n"
     ]
    },
    {
     "name": "stderr",
     "output_type": "stream",
     "text": [
      "[codecarbon INFO @ 03:31:34] Energy consumed for RAM : 0.003787 kWh. RAM Power : 5.9499335289001465 W\n",
      "[codecarbon INFO @ 03:31:34] Energy consumed for all GPUs : 0.129582 kWh. Total GPU Power : 209.54600000000002 W\n",
      "[codecarbon INFO @ 03:31:34] Energy consumed for all CPUs : 0.030295 kWh. Total CPU Power : 47.5 W\n",
      "[codecarbon INFO @ 03:31:34] 0.163664 kWh of electricity used since the beginning.\n"
     ]
    },
    {
     "name": "stdout",
     "output_type": "stream",
     "text": [
      "{'loss': 0.0784, 'grad_norm': 5.285604953765869, 'learning_rate': 1.7698386565689827e-05, 'epoch': 2.04}\n",
      "{'loss': 0.0535, 'grad_norm': 2.429126739501953, 'learning_rate': 1.7533750411590387e-05, 'epoch': 2.05}\n"
     ]
    },
    {
     "name": "stderr",
     "output_type": "stream",
     "text": [
      "[codecarbon INFO @ 03:31:49] Energy consumed for RAM : 0.003812 kWh. RAM Power : 5.9499335289001465 W\n",
      "[codecarbon INFO @ 03:31:49] Energy consumed for all GPUs : 0.130451 kWh. Total GPU Power : 208.482 W\n",
      "[codecarbon INFO @ 03:31:49] Energy consumed for all CPUs : 0.030493 kWh. Total CPU Power : 47.5 W\n",
      "[codecarbon INFO @ 03:31:49] 0.164756 kWh of electricity used since the beginning.\n"
     ]
    },
    {
     "name": "stdout",
     "output_type": "stream",
     "text": [
      "{'loss': 0.0955, 'grad_norm': 5.946181297302246, 'learning_rate': 1.7369114257490946e-05, 'epoch': 2.06}\n",
      "{'loss': 0.0815, 'grad_norm': 2.8704214096069336, 'learning_rate': 1.7204478103391505e-05, 'epoch': 2.07}\n"
     ]
    },
    {
     "name": "stderr",
     "output_type": "stream",
     "text": [
      "[codecarbon INFO @ 03:32:04] Energy consumed for RAM : 0.003837 kWh. RAM Power : 5.9499335289001465 W\n",
      "[codecarbon INFO @ 03:32:04] Energy consumed for all GPUs : 0.131340 kWh. Total GPU Power : 213.32000000000002 W\n",
      "[codecarbon INFO @ 03:32:04] Energy consumed for all CPUs : 0.030691 kWh. Total CPU Power : 47.5 W\n",
      "[codecarbon INFO @ 03:32:04] 0.165868 kWh of electricity used since the beginning.\n"
     ]
    },
    {
     "name": "stdout",
     "output_type": "stream",
     "text": [
      "{'loss': 0.0773, 'grad_norm': 7.774537086486816, 'learning_rate': 1.7039841949292065e-05, 'epoch': 2.08}\n"
     ]
    },
    {
     "name": "stderr",
     "output_type": "stream",
     "text": [
      "[codecarbon INFO @ 03:32:19] Energy consumed for RAM : 0.003862 kWh. RAM Power : 5.9499335289001465 W\n",
      "[codecarbon INFO @ 03:32:19] Energy consumed for all GPUs : 0.132168 kWh. Total GPU Power : 198.796 W\n",
      "[codecarbon INFO @ 03:32:19] Energy consumed for all CPUs : 0.030889 kWh. Total CPU Power : 47.5 W\n",
      "[codecarbon INFO @ 03:32:19] 0.166918 kWh of electricity used since the beginning.\n"
     ]
    },
    {
     "name": "stdout",
     "output_type": "stream",
     "text": [
      "{'loss': 0.0774, 'grad_norm': 4.649056434631348, 'learning_rate': 1.6875205795192624e-05, 'epoch': 2.09}\n",
      "{'loss': 0.0869, 'grad_norm': 8.55126667022705, 'learning_rate': 1.6710569641093184e-05, 'epoch': 2.1}\n"
     ]
    },
    {
     "name": "stderr",
     "output_type": "stream",
     "text": [
      "[codecarbon INFO @ 03:32:34] Energy consumed for RAM : 0.003887 kWh. RAM Power : 5.9499335289001465 W\n",
      "[codecarbon INFO @ 03:32:34] Energy consumed for all GPUs : 0.133009 kWh. Total GPU Power : 201.76400000000004 W\n",
      "[codecarbon INFO @ 03:32:34] Energy consumed for all CPUs : 0.031087 kWh. Total CPU Power : 47.5 W\n",
      "[codecarbon INFO @ 03:32:34] 0.167982 kWh of electricity used since the beginning.\n"
     ]
    },
    {
     "name": "stdout",
     "output_type": "stream",
     "text": [
      "{'loss': 0.0891, 'grad_norm': 8.691363334655762, 'learning_rate': 1.6545933486993743e-05, 'epoch': 2.11}\n"
     ]
    },
    {
     "name": "stderr",
     "output_type": "stream",
     "text": [
      "[codecarbon INFO @ 03:32:49] Energy consumed for RAM : 0.003911 kWh. RAM Power : 5.9499335289001465 W\n",
      "[codecarbon INFO @ 03:32:49] Energy consumed for all GPUs : 0.133898 kWh. Total GPU Power : 213.383 W\n",
      "[codecarbon INFO @ 03:32:49] Energy consumed for all CPUs : 0.031285 kWh. Total CPU Power : 47.5 W\n",
      "[codecarbon INFO @ 03:32:49] 0.169094 kWh of electricity used since the beginning.\n"
     ]
    },
    {
     "name": "stdout",
     "output_type": "stream",
     "text": [
      "{'loss': 0.111, 'grad_norm': 7.648005962371826, 'learning_rate': 1.6381297332894306e-05, 'epoch': 2.12}\n",
      "{'loss': 0.0907, 'grad_norm': 12.933874130249023, 'learning_rate': 1.6216661178794866e-05, 'epoch': 2.12}\n"
     ]
    },
    {
     "name": "stderr",
     "output_type": "stream",
     "text": [
      "[codecarbon INFO @ 03:33:04] Energy consumed for RAM : 0.003936 kWh. RAM Power : 5.9499335289001465 W\n",
      "[codecarbon INFO @ 03:33:04] Energy consumed for all GPUs : 0.134772 kWh. Total GPU Power : 209.95500000000004 W\n",
      "[codecarbon INFO @ 03:33:04] Energy consumed for all CPUs : 0.031483 kWh. Total CPU Power : 47.5 W\n",
      "[codecarbon INFO @ 03:33:04] 0.170191 kWh of electricity used since the beginning.\n"
     ]
    },
    {
     "name": "stdout",
     "output_type": "stream",
     "text": [
      "{'loss': 0.0923, 'grad_norm': 7.021823883056641, 'learning_rate': 1.6052025024695425e-05, 'epoch': 2.13}\n",
      "{'loss': 0.0799, 'grad_norm': 6.998866081237793, 'learning_rate': 1.5887388870595984e-05, 'epoch': 2.14}\n"
     ]
    },
    {
     "name": "stderr",
     "output_type": "stream",
     "text": [
      "[codecarbon INFO @ 03:33:19] Energy consumed for RAM : 0.003961 kWh. RAM Power : 5.9499335289001465 W\n",
      "[codecarbon INFO @ 03:33:19] Energy consumed for all GPUs : 0.135615 kWh. Total GPU Power : 202.178 W\n",
      "[codecarbon INFO @ 03:33:19] Energy consumed for all CPUs : 0.031681 kWh. Total CPU Power : 47.5 W\n",
      "[codecarbon INFO @ 03:33:19] 0.171257 kWh of electricity used since the beginning.\n"
     ]
    },
    {
     "name": "stdout",
     "output_type": "stream",
     "text": [
      "{'loss': 0.0898, 'grad_norm': 14.014531135559082, 'learning_rate': 1.5722752716496544e-05, 'epoch': 2.15}\n"
     ]
    },
    {
     "name": "stderr",
     "output_type": "stream",
     "text": [
      "[codecarbon INFO @ 03:33:34] Energy consumed for RAM : 0.003986 kWh. RAM Power : 5.9499335289001465 W\n",
      "[codecarbon INFO @ 03:33:34] Energy consumed for all GPUs : 0.136468 kWh. Total GPU Power : 204.588 W\n",
      "[codecarbon INFO @ 03:33:34] Energy consumed for all CPUs : 0.031879 kWh. Total CPU Power : 47.5 W\n",
      "[codecarbon INFO @ 03:33:34] 0.172333 kWh of electricity used since the beginning.\n"
     ]
    },
    {
     "name": "stdout",
     "output_type": "stream",
     "text": [
      "{'loss': 0.0625, 'grad_norm': 4.758207321166992, 'learning_rate': 1.5558116562397103e-05, 'epoch': 2.16}\n",
      "{'loss': 0.0948, 'grad_norm': 5.972497940063477, 'learning_rate': 1.5393480408297663e-05, 'epoch': 2.17}\n"
     ]
    },
    {
     "name": "stderr",
     "output_type": "stream",
     "text": [
      "[codecarbon INFO @ 03:33:49] Energy consumed for RAM : 0.004011 kWh. RAM Power : 5.9499335289001465 W\n",
      "[codecarbon INFO @ 03:33:49] Energy consumed for all GPUs : 0.137338 kWh. Total GPU Power : 208.799 W\n",
      "[codecarbon INFO @ 03:33:49] Energy consumed for all CPUs : 0.032077 kWh. Total CPU Power : 47.5 W\n",
      "[codecarbon INFO @ 03:33:49] 0.173425 kWh of electricity used since the beginning.\n"
     ]
    },
    {
     "name": "stdout",
     "output_type": "stream",
     "text": [
      "{'loss': 0.0715, 'grad_norm': 2.27144455909729, 'learning_rate': 1.5228844254198224e-05, 'epoch': 2.18}\n"
     ]
    },
    {
     "name": "stderr",
     "output_type": "stream",
     "text": [
      "[codecarbon INFO @ 03:34:04] Energy consumed for RAM : 0.004035 kWh. RAM Power : 5.9499335289001465 W\n",
      "[codecarbon INFO @ 03:34:04] Energy consumed for all GPUs : 0.138219 kWh. Total GPU Power : 211.305 W\n",
      "[codecarbon INFO @ 03:34:04] Energy consumed for all CPUs : 0.032275 kWh. Total CPU Power : 47.5 W\n",
      "[codecarbon INFO @ 03:34:04] 0.174529 kWh of electricity used since the beginning.\n"
     ]
    },
    {
     "name": "stdout",
     "output_type": "stream",
     "text": [
      "{'loss': 0.0763, 'grad_norm': 8.910465240478516, 'learning_rate': 1.5064208100098782e-05, 'epoch': 2.19}\n",
      "{'loss': 0.0785, 'grad_norm': 5.998537063598633, 'learning_rate': 1.4899571945999341e-05, 'epoch': 2.2}\n"
     ]
    },
    {
     "name": "stderr",
     "output_type": "stream",
     "text": [
      "[codecarbon INFO @ 03:34:19] Energy consumed for RAM : 0.004060 kWh. RAM Power : 5.9499335289001465 W\n",
      "[codecarbon INFO @ 03:34:19] Energy consumed for all GPUs : 0.139071 kWh. Total GPU Power : 204.578 W\n",
      "[codecarbon INFO @ 03:34:19] Energy consumed for all CPUs : 0.032473 kWh. Total CPU Power : 47.5 W\n",
      "[codecarbon INFO @ 03:34:19] 0.175604 kWh of electricity used since the beginning.\n"
     ]
    },
    {
     "name": "stdout",
     "output_type": "stream",
     "text": [
      "{'loss': 0.0697, 'grad_norm': 0.7041501402854919, 'learning_rate': 1.47349357918999e-05, 'epoch': 2.2}\n",
      "{'loss': 0.0828, 'grad_norm': 3.7292842864990234, 'learning_rate': 1.457029963780046e-05, 'epoch': 2.21}\n"
     ]
    },
    {
     "name": "stderr",
     "output_type": "stream",
     "text": [
      "[codecarbon INFO @ 03:34:34] Energy consumed for RAM : 0.004085 kWh. RAM Power : 5.9499335289001465 W\n",
      "[codecarbon INFO @ 03:34:34] Energy consumed for all GPUs : 0.139900 kWh. Total GPU Power : 198.846 W\n",
      "[codecarbon INFO @ 03:34:34] Energy consumed for all CPUs : 0.032671 kWh. Total CPU Power : 47.5 W\n",
      "[codecarbon INFO @ 03:34:34] 0.176656 kWh of electricity used since the beginning.\n"
     ]
    },
    {
     "name": "stdout",
     "output_type": "stream",
     "text": [
      "{'loss': 0.0793, 'grad_norm': 5.514894962310791, 'learning_rate': 1.4405663483701021e-05, 'epoch': 2.22}\n"
     ]
    },
    {
     "name": "stderr",
     "output_type": "stream",
     "text": [
      "[codecarbon INFO @ 03:34:49] Energy consumed for RAM : 0.004110 kWh. RAM Power : 5.9499335289001465 W\n",
      "[codecarbon INFO @ 03:34:49] Energy consumed for all GPUs : 0.140794 kWh. Total GPU Power : 214.672 W\n",
      "[codecarbon INFO @ 03:34:49] Energy consumed for all CPUs : 0.032869 kWh. Total CPU Power : 47.5 W\n",
      "[codecarbon INFO @ 03:34:49] 0.177773 kWh of electricity used since the beginning.\n"
     ]
    },
    {
     "name": "stdout",
     "output_type": "stream",
     "text": [
      "{'loss': 0.0546, 'grad_norm': 9.477383613586426, 'learning_rate': 1.424102732960158e-05, 'epoch': 2.23}\n",
      "{'loss': 0.0695, 'grad_norm': 3.6585450172424316, 'learning_rate': 1.407639117550214e-05, 'epoch': 2.24}\n"
     ]
    },
    {
     "name": "stderr",
     "output_type": "stream",
     "text": [
      "[codecarbon INFO @ 03:35:04] Energy consumed for RAM : 0.004134 kWh. RAM Power : 5.9499335289001465 W\n",
      "[codecarbon INFO @ 03:35:04] Energy consumed for all GPUs : 0.141687 kWh. Total GPU Power : 214.255 W\n",
      "[codecarbon INFO @ 03:35:04] Energy consumed for all CPUs : 0.033067 kWh. Total CPU Power : 47.5 W\n",
      "[codecarbon INFO @ 03:35:04] 0.178889 kWh of electricity used since the beginning.\n"
     ]
    },
    {
     "name": "stdout",
     "output_type": "stream",
     "text": [
      "{'loss': 0.0561, 'grad_norm': 2.4826953411102295, 'learning_rate': 1.3911755021402701e-05, 'epoch': 2.25}\n"
     ]
    },
    {
     "name": "stderr",
     "output_type": "stream",
     "text": [
      "[codecarbon INFO @ 03:35:19] Energy consumed for RAM : 0.004159 kWh. RAM Power : 5.9499335289001465 W\n",
      "[codecarbon INFO @ 03:35:19] Energy consumed for all GPUs : 0.142536 kWh. Total GPU Power : 203.56300000000002 W\n",
      "[codecarbon INFO @ 03:35:19] Energy consumed for all CPUs : 0.033265 kWh. Total CPU Power : 47.5 W\n",
      "[codecarbon INFO @ 03:35:19] 0.179960 kWh of electricity used since the beginning.\n"
     ]
    },
    {
     "name": "stdout",
     "output_type": "stream",
     "text": [
      "{'loss': 0.0654, 'grad_norm': 1.4108823537826538, 'learning_rate': 1.374711886730326e-05, 'epoch': 2.26}\n",
      "{'loss': 0.0496, 'grad_norm': 2.7887392044067383, 'learning_rate': 1.358248271320382e-05, 'epoch': 2.27}\n"
     ]
    },
    {
     "name": "stderr",
     "output_type": "stream",
     "text": [
      "[codecarbon INFO @ 03:35:34] Energy consumed for RAM : 0.004184 kWh. RAM Power : 5.9499335289001465 W\n",
      "[codecarbon INFO @ 03:35:34] Energy consumed for all GPUs : 0.143389 kWh. Total GPU Power : 204.67400000000004 W\n",
      "[codecarbon INFO @ 03:35:34] Energy consumed for all CPUs : 0.033463 kWh. Total CPU Power : 47.5 W\n",
      "[codecarbon INFO @ 03:35:34] 0.181036 kWh of electricity used since the beginning.\n"
     ]
    },
    {
     "name": "stdout",
     "output_type": "stream",
     "text": [
      "{'loss': 0.0652, 'grad_norm': 2.9599502086639404, 'learning_rate': 1.341784655910438e-05, 'epoch': 2.28}\n",
      "{'loss': 0.1078, 'grad_norm': 7.221150875091553, 'learning_rate': 1.325321040500494e-05, 'epoch': 2.28}\n"
     ]
    },
    {
     "name": "stderr",
     "output_type": "stream",
     "text": [
      "[codecarbon INFO @ 03:35:49] Energy consumed for RAM : 0.004209 kWh. RAM Power : 5.9499335289001465 W\n",
      "[codecarbon INFO @ 03:35:49] Energy consumed for all GPUs : 0.144237 kWh. Total GPU Power : 203.558 W\n",
      "[codecarbon INFO @ 03:35:49] Energy consumed for all CPUs : 0.033661 kWh. Total CPU Power : 47.5 W\n",
      "[codecarbon INFO @ 03:35:49] 0.182107 kWh of electricity used since the beginning.\n"
     ]
    },
    {
     "name": "stdout",
     "output_type": "stream",
     "text": [
      "{'loss': 0.0748, 'grad_norm': 5.851492881774902, 'learning_rate': 1.30885742509055e-05, 'epoch': 2.29}\n"
     ]
    },
    {
     "name": "stderr",
     "output_type": "stream",
     "text": [
      "[codecarbon INFO @ 03:36:04] Energy consumed for RAM : 0.004234 kWh. RAM Power : 5.9499335289001465 W\n",
      "[codecarbon INFO @ 03:36:04] Energy consumed for all GPUs : 0.145085 kWh. Total GPU Power : 203.389 W\n",
      "[codecarbon INFO @ 03:36:04] Energy consumed for all CPUs : 0.033859 kWh. Total CPU Power : 47.5 W\n",
      "[codecarbon INFO @ 03:36:04] 0.183177 kWh of electricity used since the beginning.\n"
     ]
    },
    {
     "name": "stdout",
     "output_type": "stream",
     "text": [
      "{'loss': 0.0505, 'grad_norm': 3.440951108932495, 'learning_rate': 1.292393809680606e-05, 'epoch': 2.3}\n",
      "{'loss': 0.0616, 'grad_norm': 4.185608863830566, 'learning_rate': 1.2759301942706619e-05, 'epoch': 2.31}\n"
     ]
    },
    {
     "name": "stderr",
     "output_type": "stream",
     "text": [
      "[codecarbon INFO @ 03:36:19] Energy consumed for RAM : 0.004258 kWh. RAM Power : 5.9499335289001465 W\n",
      "[codecarbon INFO @ 03:36:19] Energy consumed for all GPUs : 0.145928 kWh. Total GPU Power : 202.38400000000001 W\n",
      "[codecarbon INFO @ 03:36:19] Energy consumed for all CPUs : 0.034057 kWh. Total CPU Power : 47.5 W\n",
      "[codecarbon INFO @ 03:36:19] 0.184243 kWh of electricity used since the beginning.\n"
     ]
    },
    {
     "name": "stdout",
     "output_type": "stream",
     "text": [
      "{'loss': 0.0712, 'grad_norm': 7.528196334838867, 'learning_rate': 1.259466578860718e-05, 'epoch': 2.32}\n"
     ]
    },
    {
     "name": "stderr",
     "output_type": "stream",
     "text": [
      "[codecarbon INFO @ 03:36:34] Energy consumed for RAM : 0.004283 kWh. RAM Power : 5.9499335289001465 W\n",
      "[codecarbon INFO @ 03:36:34] Energy consumed for all GPUs : 0.146775 kWh. Total GPU Power : 203.43100000000004 W\n",
      "[codecarbon INFO @ 03:36:34] Energy consumed for all CPUs : 0.034256 kWh. Total CPU Power : 47.5 W\n",
      "[codecarbon INFO @ 03:36:34] 0.185314 kWh of electricity used since the beginning.\n"
     ]
    },
    {
     "name": "stdout",
     "output_type": "stream",
     "text": [
      "{'loss': 0.0747, 'grad_norm': 4.733784198760986, 'learning_rate': 1.2430029634507738e-05, 'epoch': 2.33}\n",
      "{'loss': 0.088, 'grad_norm': 10.200396537780762, 'learning_rate': 1.2265393480408297e-05, 'epoch': 2.34}\n"
     ]
    },
    {
     "name": "stderr",
     "output_type": "stream",
     "text": [
      "[codecarbon INFO @ 03:36:49] Energy consumed for RAM : 0.004308 kWh. RAM Power : 5.9499335289001465 W\n",
      "[codecarbon INFO @ 03:36:49] Energy consumed for all GPUs : 0.147618 kWh. Total GPU Power : 202.38600000000002 W\n",
      "[codecarbon INFO @ 03:36:49] Energy consumed for all CPUs : 0.034453 kWh. Total CPU Power : 47.5 W\n",
      "[codecarbon INFO @ 03:36:49] 0.186380 kWh of electricity used since the beginning.\n"
     ]
    },
    {
     "name": "stdout",
     "output_type": "stream",
     "text": [
      "{'loss': 0.0522, 'grad_norm': 4.077938079833984, 'learning_rate': 1.2100757326308859e-05, 'epoch': 2.35}\n"
     ]
    },
    {
     "name": "stderr",
     "output_type": "stream",
     "text": [
      "[codecarbon INFO @ 03:37:04] Energy consumed for RAM : 0.004333 kWh. RAM Power : 5.9499335289001465 W\n",
      "[codecarbon INFO @ 03:37:04] Energy consumed for all GPUs : 0.148451 kWh. Total GPU Power : 199.898 W\n",
      "[codecarbon INFO @ 03:37:04] Energy consumed for all CPUs : 0.034651 kWh. Total CPU Power : 47.5 W\n",
      "[codecarbon INFO @ 03:37:04] 0.187436 kWh of electricity used since the beginning.\n"
     ]
    },
    {
     "name": "stdout",
     "output_type": "stream",
     "text": [
      "{'loss': 0.075, 'grad_norm': 7.3976945877075195, 'learning_rate': 1.1936121172209418e-05, 'epoch': 2.36}\n",
      "{'loss': 0.0811, 'grad_norm': 3.3763163089752197, 'learning_rate': 1.1771485018109977e-05, 'epoch': 2.36}\n"
     ]
    },
    {
     "name": "stderr",
     "output_type": "stream",
     "text": [
      "[codecarbon INFO @ 03:37:19] Energy consumed for RAM : 0.004357 kWh. RAM Power : 5.9499335289001465 W\n",
      "[codecarbon INFO @ 03:37:19] Energy consumed for all GPUs : 0.149294 kWh. Total GPU Power : 202.223 W\n",
      "[codecarbon INFO @ 03:37:19] Energy consumed for all CPUs : 0.034850 kWh. Total CPU Power : 47.5 W\n",
      "[codecarbon INFO @ 03:37:19] 0.188501 kWh of electricity used since the beginning.\n"
     ]
    },
    {
     "name": "stdout",
     "output_type": "stream",
     "text": [
      "{'loss': 0.0691, 'grad_norm': 3.232412099838257, 'learning_rate': 1.1606848864010537e-05, 'epoch': 2.37}\n",
      "{'loss': 0.0733, 'grad_norm': 4.869272232055664, 'learning_rate': 1.1442212709911098e-05, 'epoch': 2.38}\n"
     ]
    },
    {
     "name": "stderr",
     "output_type": "stream",
     "text": [
      "[codecarbon INFO @ 03:37:34] Energy consumed for RAM : 0.004382 kWh. RAM Power : 5.9499335289001465 W\n",
      "[codecarbon INFO @ 03:37:34] Energy consumed for all GPUs : 0.150140 kWh. Total GPU Power : 203.056 W\n",
      "[codecarbon INFO @ 03:37:34] Energy consumed for all CPUs : 0.035048 kWh. Total CPU Power : 47.5 W\n",
      "[codecarbon INFO @ 03:37:34] 0.189570 kWh of electricity used since the beginning.\n"
     ]
    },
    {
     "name": "stdout",
     "output_type": "stream",
     "text": [
      "{'loss': 0.0697, 'grad_norm': 4.703092575073242, 'learning_rate': 1.1277576555811657e-05, 'epoch': 2.39}\n"
     ]
    },
    {
     "name": "stderr",
     "output_type": "stream",
     "text": [
      "[codecarbon INFO @ 03:37:49] Energy consumed for RAM : 0.004407 kWh. RAM Power : 5.9499335289001465 W\n",
      "[codecarbon INFO @ 03:37:49] Energy consumed for all GPUs : 0.150979 kWh. Total GPU Power : 201.23400000000004 W\n",
      "[codecarbon INFO @ 03:37:49] Energy consumed for all CPUs : 0.035246 kWh. Total CPU Power : 47.5 W\n",
      "[codecarbon INFO @ 03:37:49] 0.190632 kWh of electricity used since the beginning.\n"
     ]
    },
    {
     "name": "stdout",
     "output_type": "stream",
     "text": [
      "{'loss': 0.0759, 'grad_norm': 5.713374137878418, 'learning_rate': 1.1112940401712217e-05, 'epoch': 2.4}\n",
      "{'loss': 0.0506, 'grad_norm': 5.307226657867432, 'learning_rate': 1.0948304247612776e-05, 'epoch': 2.41}\n"
     ]
    },
    {
     "name": "stderr",
     "output_type": "stream",
     "text": [
      "[codecarbon INFO @ 03:38:04] Energy consumed for RAM : 0.004432 kWh. RAM Power : 5.9499335289001465 W\n",
      "[codecarbon INFO @ 03:38:04] Energy consumed for all GPUs : 0.151830 kWh. Total GPU Power : 204.19 W\n",
      "[codecarbon INFO @ 03:38:04] Energy consumed for all CPUs : 0.035444 kWh. Total CPU Power : 47.5 W\n",
      "[codecarbon INFO @ 03:38:04] 0.191706 kWh of electricity used since the beginning.\n"
     ]
    },
    {
     "name": "stdout",
     "output_type": "stream",
     "text": [
      "{'loss': 0.0666, 'grad_norm': 16.72958755493164, 'learning_rate': 1.0783668093513336e-05, 'epoch': 2.42}\n"
     ]
    },
    {
     "name": "stderr",
     "output_type": "stream",
     "text": [
      "[codecarbon INFO @ 03:38:19] Energy consumed for RAM : 0.004457 kWh. RAM Power : 5.9499335289001465 W\n",
      "[codecarbon INFO @ 03:38:19] Energy consumed for all GPUs : 0.152663 kWh. Total GPU Power : 199.881 W\n",
      "[codecarbon INFO @ 03:38:19] Energy consumed for all CPUs : 0.035642 kWh. Total CPU Power : 47.5 W\n",
      "[codecarbon INFO @ 03:38:19] 0.192761 kWh of electricity used since the beginning.\n"
     ]
    },
    {
     "name": "stdout",
     "output_type": "stream",
     "text": [
      "{'loss': 0.0488, 'grad_norm': 4.859306812286377, 'learning_rate': 1.0619031939413895e-05, 'epoch': 2.43}\n",
      "{'loss': 0.0963, 'grad_norm': 6.999468803405762, 'learning_rate': 1.0454395785314455e-05, 'epoch': 2.44}\n"
     ]
    },
    {
     "name": "stderr",
     "output_type": "stream",
     "text": [
      "[codecarbon INFO @ 03:38:34] Energy consumed for RAM : 0.004481 kWh. RAM Power : 5.9499335289001465 W\n",
      "[codecarbon INFO @ 03:38:34] Energy consumed for all GPUs : 0.153510 kWh. Total GPU Power : 203.231 W\n",
      "[codecarbon INFO @ 03:38:34] Energy consumed for all CPUs : 0.035840 kWh. Total CPU Power : 47.5 W\n",
      "[codecarbon INFO @ 03:38:34] 0.193831 kWh of electricity used since the beginning.\n"
     ]
    },
    {
     "name": "stdout",
     "output_type": "stream",
     "text": [
      "{'loss': 0.0783, 'grad_norm': 10.78720760345459, 'learning_rate': 1.0289759631215016e-05, 'epoch': 2.44}\n",
      "{'loss': 0.0757, 'grad_norm': 8.634557723999023, 'learning_rate': 1.0125123477115575e-05, 'epoch': 2.45}\n"
     ]
    },
    {
     "name": "stderr",
     "output_type": "stream",
     "text": [
      "[codecarbon INFO @ 03:38:49] Energy consumed for RAM : 0.004506 kWh. RAM Power : 5.9499335289001465 W\n",
      "[codecarbon INFO @ 03:38:49] Energy consumed for all GPUs : 0.154355 kWh. Total GPU Power : 202.918 W\n",
      "[codecarbon INFO @ 03:38:49] Energy consumed for all CPUs : 0.036038 kWh. Total CPU Power : 47.5 W\n",
      "[codecarbon INFO @ 03:38:49] 0.194899 kWh of electricity used since the beginning.\n"
     ]
    },
    {
     "name": "stdout",
     "output_type": "stream",
     "text": [
      "{'loss': 0.0459, 'grad_norm': 5.156482696533203, 'learning_rate': 9.960487323016135e-06, 'epoch': 2.46}\n"
     ]
    },
    {
     "name": "stderr",
     "output_type": "stream",
     "text": [
      "[codecarbon INFO @ 03:39:04] Energy consumed for RAM : 0.004531 kWh. RAM Power : 5.9499335289001465 W\n",
      "[codecarbon INFO @ 03:39:04] Energy consumed for all GPUs : 0.155213 kWh. Total GPU Power : 206.625 W\n",
      "[codecarbon INFO @ 03:39:04] Energy consumed for all CPUs : 0.036236 kWh. Total CPU Power : 47.5 W\n",
      "[codecarbon INFO @ 03:39:04] 0.195980 kWh of electricity used since the beginning.\n"
     ]
    },
    {
     "name": "stdout",
     "output_type": "stream",
     "text": [
      "{'loss': 0.0847, 'grad_norm': 12.313836097717285, 'learning_rate': 9.795851168916694e-06, 'epoch': 2.47}\n",
      "{'loss': 0.0664, 'grad_norm': 3.8935000896453857, 'learning_rate': 9.631215014817255e-06, 'epoch': 2.48}\n"
     ]
    },
    {
     "name": "stderr",
     "output_type": "stream",
     "text": [
      "[codecarbon INFO @ 03:39:19] Energy consumed for RAM : 0.004556 kWh. RAM Power : 5.9499335289001465 W\n",
      "[codecarbon INFO @ 03:39:19] Energy consumed for all GPUs : 0.156095 kWh. Total GPU Power : 211.746 W\n",
      "[codecarbon INFO @ 03:39:19] Energy consumed for all CPUs : 0.036434 kWh. Total CPU Power : 47.5 W\n",
      "[codecarbon INFO @ 03:39:19] 0.197085 kWh of electricity used since the beginning.\n"
     ]
    },
    {
     "name": "stdout",
     "output_type": "stream",
     "text": [
      "{'loss': 0.0856, 'grad_norm': 8.88865852355957, 'learning_rate': 9.466578860717815e-06, 'epoch': 2.49}\n"
     ]
    },
    {
     "name": "stderr",
     "output_type": "stream",
     "text": [
      "[codecarbon INFO @ 03:39:34] Energy consumed for RAM : 0.004580 kWh. RAM Power : 5.9499335289001465 W\n",
      "[codecarbon INFO @ 03:39:34] Energy consumed for all GPUs : 0.156937 kWh. Total GPU Power : 201.947 W\n",
      "[codecarbon INFO @ 03:39:34] Energy consumed for all CPUs : 0.036632 kWh. Total CPU Power : 47.5 W\n",
      "[codecarbon INFO @ 03:39:34] 0.198149 kWh of electricity used since the beginning.\n"
     ]
    },
    {
     "name": "stdout",
     "output_type": "stream",
     "text": [
      "{'loss': 0.0677, 'grad_norm': 3.2222251892089844, 'learning_rate': 9.301942706618374e-06, 'epoch': 2.5}\n",
      "{'loss': 0.0829, 'grad_norm': 8.055662155151367, 'learning_rate': 9.137306552518934e-06, 'epoch': 2.51}\n"
     ]
    },
    {
     "name": "stderr",
     "output_type": "stream",
     "text": [
      "[codecarbon INFO @ 03:39:49] Energy consumed for RAM : 0.004605 kWh. RAM Power : 5.9499335289001465 W\n",
      "[codecarbon INFO @ 03:39:50] Energy consumed for all GPUs : 0.157809 kWh. Total GPU Power : 209.617 W\n",
      "[codecarbon INFO @ 03:39:50] Energy consumed for all CPUs : 0.036830 kWh. Total CPU Power : 47.5 W\n",
      "[codecarbon INFO @ 03:39:50] 0.199244 kWh of electricity used since the beginning.\n"
     ]
    },
    {
     "name": "stdout",
     "output_type": "stream",
     "text": [
      "{'loss': 0.0568, 'grad_norm': 5.750452995300293, 'learning_rate': 8.972670398419493e-06, 'epoch': 2.52}\n",
      "{'loss': 0.0506, 'grad_norm': 3.874258518218994, 'learning_rate': 8.808034244320053e-06, 'epoch': 2.52}\n"
     ]
    },
    {
     "name": "stderr",
     "output_type": "stream",
     "text": [
      "[codecarbon INFO @ 03:40:04] Energy consumed for RAM : 0.004630 kWh. RAM Power : 5.9499335289001465 W\n",
      "[codecarbon INFO @ 03:40:04] Energy consumed for all GPUs : 0.158711 kWh. Total GPU Power : 217.00300000000004 W\n",
      "[codecarbon INFO @ 03:40:04] Energy consumed for all CPUs : 0.037028 kWh. Total CPU Power : 47.5 W\n",
      "[codecarbon INFO @ 03:40:04] 0.200369 kWh of electricity used since the beginning.\n"
     ]
    },
    {
     "name": "stdout",
     "output_type": "stream",
     "text": [
      "{'loss': 0.0849, 'grad_norm': 15.960229873657227, 'learning_rate': 8.643398090220612e-06, 'epoch': 2.53}\n"
     ]
    },
    {
     "name": "stderr",
     "output_type": "stream",
     "text": [
      "[codecarbon INFO @ 03:40:19] Energy consumed for RAM : 0.004655 kWh. RAM Power : 5.9499335289001465 W\n",
      "[codecarbon INFO @ 03:40:20] Energy consumed for all GPUs : 0.159599 kWh. Total GPU Power : 213.121 W\n",
      "[codecarbon INFO @ 03:40:20] Energy consumed for all CPUs : 0.037227 kWh. Total CPU Power : 47.5 W\n",
      "[codecarbon INFO @ 03:40:20] 0.201480 kWh of electricity used since the beginning.\n"
     ]
    },
    {
     "name": "stdout",
     "output_type": "stream",
     "text": [
      "{'loss': 0.0839, 'grad_norm': 3.417994737625122, 'learning_rate': 8.478761936121173e-06, 'epoch': 2.54}\n",
      "{'loss': 0.0591, 'grad_norm': 4.8730645179748535, 'learning_rate': 8.314125782021733e-06, 'epoch': 2.55}\n"
     ]
    },
    {
     "name": "stderr",
     "output_type": "stream",
     "text": [
      "[codecarbon INFO @ 03:40:34] Energy consumed for RAM : 0.004679 kWh. RAM Power : 5.9499335289001465 W\n",
      "[codecarbon INFO @ 03:40:35] Energy consumed for all GPUs : 0.160451 kWh. Total GPU Power : 205.28000000000003 W\n",
      "[codecarbon INFO @ 03:40:35] Energy consumed for all CPUs : 0.037424 kWh. Total CPU Power : 47.5 W\n",
      "[codecarbon INFO @ 03:40:35] 0.202555 kWh of electricity used since the beginning.\n"
     ]
    },
    {
     "name": "stdout",
     "output_type": "stream",
     "text": [
      "{'loss': 0.078, 'grad_norm': 4.505559921264648, 'learning_rate': 8.149489627922292e-06, 'epoch': 2.56}\n"
     ]
    },
    {
     "name": "stderr",
     "output_type": "stream",
     "text": [
      "[codecarbon INFO @ 03:40:50] Energy consumed for RAM : 0.004704 kWh. RAM Power : 5.9499335289001465 W\n",
      "[codecarbon INFO @ 03:40:50] Energy consumed for all GPUs : 0.161301 kWh. Total GPU Power : 204.118 W\n",
      "[codecarbon INFO @ 03:40:50] Energy consumed for all CPUs : 0.037622 kWh. Total CPU Power : 47.5 W\n",
      "[codecarbon INFO @ 03:40:50] 0.203628 kWh of electricity used since the beginning.\n"
     ]
    },
    {
     "name": "stdout",
     "output_type": "stream",
     "text": [
      "{'loss': 0.0569, 'grad_norm': 14.278441429138184, 'learning_rate': 7.984853473822852e-06, 'epoch': 2.57}\n",
      "{'loss': 0.0718, 'grad_norm': 6.640810966491699, 'learning_rate': 7.820217319723413e-06, 'epoch': 2.58}\n"
     ]
    },
    {
     "name": "stderr",
     "output_type": "stream",
     "text": [
      "[codecarbon INFO @ 03:41:05] Energy consumed for RAM : 0.004729 kWh. RAM Power : 5.9499335289001465 W\n",
      "[codecarbon INFO @ 03:41:05] Energy consumed for all GPUs : 0.162140 kWh. Total GPU Power : 201.248 W\n",
      "[codecarbon INFO @ 03:41:05] Energy consumed for all CPUs : 0.037820 kWh. Total CPU Power : 47.5 W\n",
      "[codecarbon INFO @ 03:41:05] 0.204689 kWh of electricity used since the beginning.\n"
     ]
    },
    {
     "name": "stdout",
     "output_type": "stream",
     "text": [
      "{'loss': 0.0794, 'grad_norm': 5.148899078369141, 'learning_rate': 7.655581165623972e-06, 'epoch': 2.59}\n",
      "{'loss': 0.062, 'grad_norm': 5.5339813232421875, 'learning_rate': 7.490945011524531e-06, 'epoch': 2.6}\n"
     ]
    },
    {
     "name": "stderr",
     "output_type": "stream",
     "text": [
      "[codecarbon INFO @ 03:41:20] Energy consumed for RAM : 0.004754 kWh. RAM Power : 5.9499335289001465 W\n",
      "[codecarbon INFO @ 03:41:20] Energy consumed for all GPUs : 0.162981 kWh. Total GPU Power : 201.876 W\n",
      "[codecarbon INFO @ 03:41:20] Energy consumed for all CPUs : 0.038019 kWh. Total CPU Power : 47.5 W\n",
      "[codecarbon INFO @ 03:41:20] 0.205753 kWh of electricity used since the beginning.\n"
     ]
    },
    {
     "name": "stdout",
     "output_type": "stream",
     "text": [
      "{'loss': 0.052, 'grad_norm': 9.063589096069336, 'learning_rate': 7.32630885742509e-06, 'epoch': 2.6}\n"
     ]
    },
    {
     "name": "stderr",
     "output_type": "stream",
     "text": [
      "[codecarbon INFO @ 03:41:35] Energy consumed for RAM : 0.004778 kWh. RAM Power : 5.9499335289001465 W\n",
      "[codecarbon INFO @ 03:41:35] Energy consumed for all GPUs : 0.163828 kWh. Total GPU Power : 204.016 W\n",
      "[codecarbon INFO @ 03:41:35] Energy consumed for all CPUs : 0.038216 kWh. Total CPU Power : 47.5 W\n",
      "[codecarbon INFO @ 03:41:35] 0.206823 kWh of electricity used since the beginning.\n"
     ]
    },
    {
     "name": "stdout",
     "output_type": "stream",
     "text": [
      "{'loss': 0.0666, 'grad_norm': 5.45584774017334, 'learning_rate': 7.1616727033256504e-06, 'epoch': 2.61}\n",
      "{'loss': 0.0732, 'grad_norm': 7.607778549194336, 'learning_rate': 6.99703654922621e-06, 'epoch': 2.62}\n"
     ]
    },
    {
     "name": "stderr",
     "output_type": "stream",
     "text": [
      "[codecarbon INFO @ 03:41:50] Energy consumed for RAM : 0.004803 kWh. RAM Power : 5.9499335289001465 W\n",
      "[codecarbon INFO @ 03:41:50] Energy consumed for all GPUs : 0.164660 kWh. Total GPU Power : 200.064 W\n",
      "[codecarbon INFO @ 03:41:50] Energy consumed for all CPUs : 0.038415 kWh. Total CPU Power : 47.5 W\n",
      "[codecarbon INFO @ 03:41:50] 0.207878 kWh of electricity used since the beginning.\n"
     ]
    },
    {
     "name": "stdout",
     "output_type": "stream",
     "text": [
      "{'loss': 0.0334, 'grad_norm': 0.8555558919906616, 'learning_rate': 6.83240039512677e-06, 'epoch': 2.63}\n"
     ]
    },
    {
     "name": "stderr",
     "output_type": "stream",
     "text": [
      "[codecarbon INFO @ 03:42:05] Energy consumed for RAM : 0.004828 kWh. RAM Power : 5.9499335289001465 W\n",
      "[codecarbon INFO @ 03:42:05] Energy consumed for all GPUs : 0.165532 kWh. Total GPU Power : 209.939 W\n",
      "[codecarbon INFO @ 03:42:05] Energy consumed for all CPUs : 0.038612 kWh. Total CPU Power : 47.5 W\n",
      "[codecarbon INFO @ 03:42:05] 0.208972 kWh of electricity used since the beginning.\n"
     ]
    },
    {
     "name": "stdout",
     "output_type": "stream",
     "text": [
      "{'loss': 0.0674, 'grad_norm': 12.65419864654541, 'learning_rate': 6.66776424102733e-06, 'epoch': 2.64}\n",
      "{'loss': 0.0796, 'grad_norm': 5.392725467681885, 'learning_rate': 6.50312808692789e-06, 'epoch': 2.65}\n"
     ]
    },
    {
     "name": "stderr",
     "output_type": "stream",
     "text": [
      "[codecarbon INFO @ 03:42:20] Energy consumed for RAM : 0.004853 kWh. RAM Power : 5.9499335289001465 W\n",
      "[codecarbon INFO @ 03:42:20] Energy consumed for all GPUs : 0.166365 kWh. Total GPU Power : 200.12800000000001 W\n",
      "[codecarbon INFO @ 03:42:20] Energy consumed for all CPUs : 0.038810 kWh. Total CPU Power : 47.5 W\n",
      "[codecarbon INFO @ 03:42:20] 0.210028 kWh of electricity used since the beginning.\n"
     ]
    },
    {
     "name": "stdout",
     "output_type": "stream",
     "text": [
      "{'loss': 0.0769, 'grad_norm': 4.71859884262085, 'learning_rate': 6.338491932828449e-06, 'epoch': 2.66}\n",
      "{'loss': 0.0734, 'grad_norm': 8.127032279968262, 'learning_rate': 6.173855778729009e-06, 'epoch': 2.67}\n"
     ]
    },
    {
     "name": "stderr",
     "output_type": "stream",
     "text": [
      "[codecarbon INFO @ 03:42:35] Energy consumed for RAM : 0.004877 kWh. RAM Power : 5.9499335289001465 W\n",
      "[codecarbon INFO @ 03:42:35] Energy consumed for all GPUs : 0.167223 kWh. Total GPU Power : 205.973 W\n",
      "[codecarbon INFO @ 03:42:35] Energy consumed for all CPUs : 0.039008 kWh. Total CPU Power : 47.5 W\n",
      "[codecarbon INFO @ 03:42:35] 0.211109 kWh of electricity used since the beginning.\n"
     ]
    },
    {
     "name": "stdout",
     "output_type": "stream",
     "text": [
      "{'loss': 0.0639, 'grad_norm': 8.99980354309082, 'learning_rate': 6.009219624629569e-06, 'epoch': 2.68}\n"
     ]
    },
    {
     "name": "stderr",
     "output_type": "stream",
     "text": [
      "[codecarbon INFO @ 03:42:50] Energy consumed for RAM : 0.004902 kWh. RAM Power : 5.9499335289001465 W\n",
      "[codecarbon INFO @ 03:42:50] Energy consumed for all GPUs : 0.168085 kWh. Total GPU Power : 207.336 W\n",
      "[codecarbon INFO @ 03:42:50] Energy consumed for all CPUs : 0.039206 kWh. Total CPU Power : 47.5 W\n",
      "[codecarbon INFO @ 03:42:50] 0.212194 kWh of electricity used since the beginning.\n"
     ]
    },
    {
     "name": "stdout",
     "output_type": "stream",
     "text": [
      "{'loss': 0.0598, 'grad_norm': 2.834132194519043, 'learning_rate': 5.8445834705301286e-06, 'epoch': 2.68}\n",
      "{'loss': 0.0911, 'grad_norm': 8.139854431152344, 'learning_rate': 5.679947316430689e-06, 'epoch': 2.69}\n"
     ]
    },
    {
     "name": "stderr",
     "output_type": "stream",
     "text": [
      "[codecarbon INFO @ 03:43:05] Energy consumed for RAM : 0.004927 kWh. RAM Power : 5.9499335289001465 W\n",
      "[codecarbon INFO @ 03:43:05] Energy consumed for all GPUs : 0.168962 kWh. Total GPU Power : 210.477 W\n",
      "[codecarbon INFO @ 03:43:05] Energy consumed for all CPUs : 0.039404 kWh. Total CPU Power : 47.5 W\n",
      "[codecarbon INFO @ 03:43:05] 0.213294 kWh of electricity used since the beginning.\n"
     ]
    },
    {
     "name": "stdout",
     "output_type": "stream",
     "text": [
      "{'loss': 0.0648, 'grad_norm': 4.081265926361084, 'learning_rate': 5.515311162331248e-06, 'epoch': 2.7}\n",
      "{'loss': 0.0513, 'grad_norm': 4.275919437408447, 'learning_rate': 5.350675008231808e-06, 'epoch': 2.71}\n"
     ]
    },
    {
     "name": "stderr",
     "output_type": "stream",
     "text": [
      "[codecarbon INFO @ 03:43:20] Energy consumed for RAM : 0.004952 kWh. RAM Power : 5.9499335289001465 W\n",
      "[codecarbon INFO @ 03:43:20] Energy consumed for all GPUs : 0.169829 kWh. Total GPU Power : 208.00100000000003 W\n",
      "[codecarbon INFO @ 03:43:20] Energy consumed for all CPUs : 0.039602 kWh. Total CPU Power : 47.5 W\n",
      "[codecarbon INFO @ 03:43:20] 0.214383 kWh of electricity used since the beginning.\n"
     ]
    },
    {
     "name": "stdout",
     "output_type": "stream",
     "text": [
      "{'loss': 0.034, 'grad_norm': 6.741747856140137, 'learning_rate': 5.186038854132367e-06, 'epoch': 2.72}\n"
     ]
    },
    {
     "name": "stderr",
     "output_type": "stream",
     "text": [
      "[codecarbon INFO @ 03:43:35] Energy consumed for RAM : 0.004976 kWh. RAM Power : 5.9499335289001465 W\n",
      "[codecarbon INFO @ 03:43:35] Energy consumed for all GPUs : 0.170708 kWh. Total GPU Power : 211.04500000000002 W\n",
      "[codecarbon INFO @ 03:43:35] Energy consumed for all CPUs : 0.039801 kWh. Total CPU Power : 47.5 W\n",
      "[codecarbon INFO @ 03:43:35] 0.215485 kWh of electricity used since the beginning.\n"
     ]
    },
    {
     "name": "stdout",
     "output_type": "stream",
     "text": [
      "{'loss': 0.0637, 'grad_norm': 19.525732040405273, 'learning_rate': 5.0214027000329275e-06, 'epoch': 2.73}\n",
      "{'loss': 0.0544, 'grad_norm': 2.379011392593384, 'learning_rate': 4.856766545933488e-06, 'epoch': 2.74}\n"
     ]
    },
    {
     "name": "stderr",
     "output_type": "stream",
     "text": [
      "[codecarbon INFO @ 03:43:50] Energy consumed for RAM : 0.005001 kWh. RAM Power : 5.9499335289001465 W\n",
      "[codecarbon INFO @ 03:43:50] Energy consumed for all GPUs : 0.171602 kWh. Total GPU Power : 214.86600000000004 W\n",
      "[codecarbon INFO @ 03:43:50] Energy consumed for all CPUs : 0.039998 kWh. Total CPU Power : 47.5 W\n",
      "[codecarbon INFO @ 03:43:50] 0.216601 kWh of electricity used since the beginning.\n"
     ]
    },
    {
     "name": "stdout",
     "output_type": "stream",
     "text": [
      "{'loss': 0.0698, 'grad_norm': 3.20642352104187, 'learning_rate': 4.692130391834047e-06, 'epoch': 2.75}\n"
     ]
    },
    {
     "name": "stderr",
     "output_type": "stream",
     "text": [
      "[codecarbon INFO @ 03:44:05] Energy consumed for RAM : 0.005026 kWh. RAM Power : 5.9499335289001465 W\n",
      "[codecarbon INFO @ 03:44:05] Energy consumed for all GPUs : 0.172466 kWh. Total GPU Power : 207.467 W\n",
      "[codecarbon INFO @ 03:44:05] Energy consumed for all CPUs : 0.040196 kWh. Total CPU Power : 47.5 W\n",
      "[codecarbon INFO @ 03:44:05] 0.217689 kWh of electricity used since the beginning.\n"
     ]
    },
    {
     "name": "stdout",
     "output_type": "stream",
     "text": [
      "{'loss': 0.0488, 'grad_norm': 4.52004861831665, 'learning_rate': 4.527494237734607e-06, 'epoch': 2.76}\n",
      "{'loss': 0.0824, 'grad_norm': 10.666729927062988, 'learning_rate': 4.362858083635166e-06, 'epoch': 2.76}\n"
     ]
    },
    {
     "name": "stderr",
     "output_type": "stream",
     "text": [
      "[codecarbon INFO @ 03:44:20] Energy consumed for RAM : 0.005051 kWh. RAM Power : 5.9499335289001465 W\n",
      "[codecarbon INFO @ 03:44:20] Energy consumed for all GPUs : 0.173320 kWh. Total GPU Power : 204.892 W\n",
      "[codecarbon INFO @ 03:44:20] Energy consumed for all CPUs : 0.040394 kWh. Total CPU Power : 47.5 W\n",
      "[codecarbon INFO @ 03:44:20] 0.218765 kWh of electricity used since the beginning.\n"
     ]
    },
    {
     "name": "stdout",
     "output_type": "stream",
     "text": [
      "{'loss': 0.084, 'grad_norm': 11.918787956237793, 'learning_rate': 4.1982219295357264e-06, 'epoch': 2.77}\n",
      "{'loss': 0.0614, 'grad_norm': 2.3286819458007812, 'learning_rate': 4.033585775436286e-06, 'epoch': 2.78}\n"
     ]
    },
    {
     "name": "stderr",
     "output_type": "stream",
     "text": [
      "[codecarbon INFO @ 03:44:35] Energy consumed for RAM : 0.005075 kWh. RAM Power : 5.9499335289001465 W\n",
      "[codecarbon INFO @ 03:44:35] Energy consumed for all GPUs : 0.174197 kWh. Total GPU Power : 210.786 W\n",
      "[codecarbon INFO @ 03:44:35] Energy consumed for all CPUs : 0.040593 kWh. Total CPU Power : 47.5 W\n",
      "[codecarbon INFO @ 03:44:35] 0.219865 kWh of electricity used since the beginning.\n"
     ]
    },
    {
     "name": "stdout",
     "output_type": "stream",
     "text": [
      "{'loss': 0.0806, 'grad_norm': 14.16545295715332, 'learning_rate': 3.868949621336846e-06, 'epoch': 2.79}\n"
     ]
    },
    {
     "name": "stderr",
     "output_type": "stream",
     "text": [
      "[codecarbon INFO @ 03:44:50] Energy consumed for RAM : 0.005100 kWh. RAM Power : 5.9499335289001465 W\n",
      "[codecarbon INFO @ 03:44:50] Energy consumed for all GPUs : 0.175046 kWh. Total GPU Power : 203.946 W\n",
      "[codecarbon INFO @ 03:44:50] Energy consumed for all CPUs : 0.040790 kWh. Total CPU Power : 47.5 W\n",
      "[codecarbon INFO @ 03:44:50] 0.220936 kWh of electricity used since the beginning.\n"
     ]
    },
    {
     "name": "stdout",
     "output_type": "stream",
     "text": [
      "{'loss': 0.0561, 'grad_norm': 3.8670270442962646, 'learning_rate': 3.7043134672374052e-06, 'epoch': 2.8}\n",
      "{'loss': 0.0898, 'grad_norm': 11.627376556396484, 'learning_rate': 3.539677313137965e-06, 'epoch': 2.81}\n"
     ]
    },
    {
     "name": "stderr",
     "output_type": "stream",
     "text": [
      "[codecarbon INFO @ 03:45:05] Energy consumed for RAM : 0.005125 kWh. RAM Power : 5.9499335289001465 W\n",
      "[codecarbon INFO @ 03:45:05] Energy consumed for all GPUs : 0.175921 kWh. Total GPU Power : 210.328 W\n",
      "[codecarbon INFO @ 03:45:05] Energy consumed for all CPUs : 0.040989 kWh. Total CPU Power : 47.5 W\n",
      "[codecarbon INFO @ 03:45:05] 0.222035 kWh of electricity used since the beginning.\n"
     ]
    },
    {
     "name": "stdout",
     "output_type": "stream",
     "text": [
      "{'loss': 0.0749, 'grad_norm': 6.504073619842529, 'learning_rate': 3.375041159038525e-06, 'epoch': 2.82}\n"
     ]
    },
    {
     "name": "stderr",
     "output_type": "stream",
     "text": [
      "[codecarbon INFO @ 03:45:20] Energy consumed for RAM : 0.005150 kWh. RAM Power : 5.9499335289001465 W\n",
      "[codecarbon INFO @ 03:45:20] Energy consumed for all GPUs : 0.176766 kWh. Total GPU Power : 202.885 W\n",
      "[codecarbon INFO @ 03:45:20] Energy consumed for all CPUs : 0.041186 kWh. Total CPU Power : 47.5 W\n",
      "[codecarbon INFO @ 03:45:20] 0.223102 kWh of electricity used since the beginning.\n"
     ]
    },
    {
     "name": "stdout",
     "output_type": "stream",
     "text": [
      "{'loss': 0.0687, 'grad_norm': 9.000718116760254, 'learning_rate': 3.210405004939085e-06, 'epoch': 2.83}\n",
      "{'loss': 0.0448, 'grad_norm': 5.028514385223389, 'learning_rate': 3.0457688508396443e-06, 'epoch': 2.84}\n"
     ]
    },
    {
     "name": "stderr",
     "output_type": "stream",
     "text": [
      "[codecarbon INFO @ 03:45:35] Energy consumed for RAM : 0.005174 kWh. RAM Power : 5.9499335289001465 W\n",
      "[codecarbon INFO @ 03:45:35] Energy consumed for all GPUs : 0.177653 kWh. Total GPU Power : 213.046 W\n",
      "[codecarbon INFO @ 03:45:35] Energy consumed for all CPUs : 0.041385 kWh. Total CPU Power : 47.5 W\n",
      "[codecarbon INFO @ 03:45:35] 0.224212 kWh of electricity used since the beginning.\n"
     ]
    },
    {
     "name": "stdout",
     "output_type": "stream",
     "text": [
      "{'loss': 0.0435, 'grad_norm': 2.587144374847412, 'learning_rate': 2.881132696740204e-06, 'epoch': 2.84}\n",
      "{'loss': 0.0483, 'grad_norm': 2.2906277179718018, 'learning_rate': 2.716496542640764e-06, 'epoch': 2.85}\n"
     ]
    },
    {
     "name": "stderr",
     "output_type": "stream",
     "text": [
      "[codecarbon INFO @ 03:45:50] Energy consumed for RAM : 0.005199 kWh. RAM Power : 5.9499335289001465 W\n",
      "[codecarbon INFO @ 03:45:50] Energy consumed for all GPUs : 0.178527 kWh. Total GPU Power : 210.28100000000003 W\n",
      "[codecarbon INFO @ 03:45:50] Energy consumed for all CPUs : 0.041582 kWh. Total CPU Power : 47.5 W\n",
      "[codecarbon INFO @ 03:45:50] 0.225308 kWh of electricity used since the beginning.\n"
     ]
    },
    {
     "name": "stdout",
     "output_type": "stream",
     "text": [
      "{'loss': 0.0555, 'grad_norm': 2.1080408096313477, 'learning_rate': 2.551860388541324e-06, 'epoch': 2.86}\n"
     ]
    },
    {
     "name": "stderr",
     "output_type": "stream",
     "text": [
      "[codecarbon INFO @ 03:46:05] Energy consumed for RAM : 0.005224 kWh. RAM Power : 5.9499335289001465 W\n",
      "[codecarbon INFO @ 03:46:05] Energy consumed for all GPUs : 0.179365 kWh. Total GPU Power : 201.314 W\n",
      "[codecarbon INFO @ 03:46:05] Energy consumed for all CPUs : 0.041781 kWh. Total CPU Power : 47.5 W\n",
      "[codecarbon INFO @ 03:46:05] 0.226370 kWh of electricity used since the beginning.\n"
     ]
    },
    {
     "name": "stdout",
     "output_type": "stream",
     "text": [
      "{'loss': 0.0753, 'grad_norm': 8.761284828186035, 'learning_rate': 2.3872242344418838e-06, 'epoch': 2.87}\n",
      "{'loss': 0.0482, 'grad_norm': 6.168934345245361, 'learning_rate': 2.2225880803424432e-06, 'epoch': 2.88}\n"
     ]
    },
    {
     "name": "stderr",
     "output_type": "stream",
     "text": [
      "[codecarbon INFO @ 03:46:20] Energy consumed for RAM : 0.005249 kWh. RAM Power : 5.9499335289001465 W\n",
      "[codecarbon INFO @ 03:46:20] Energy consumed for all GPUs : 0.180221 kWh. Total GPU Power : 205.80300000000003 W\n",
      "[codecarbon INFO @ 03:46:20] Energy consumed for all CPUs : 0.041978 kWh. Total CPU Power : 47.5 W\n",
      "[codecarbon INFO @ 03:46:20] 0.227448 kWh of electricity used since the beginning.\n"
     ]
    },
    {
     "name": "stdout",
     "output_type": "stream",
     "text": [
      "{'loss': 0.0659, 'grad_norm': 1.588948130607605, 'learning_rate': 2.057951926243003e-06, 'epoch': 2.89}\n"
     ]
    },
    {
     "name": "stderr",
     "output_type": "stream",
     "text": [
      "[codecarbon INFO @ 03:46:35] Energy consumed for RAM : 0.005273 kWh. RAM Power : 5.9499335289001465 W\n",
      "[codecarbon INFO @ 03:46:35] Energy consumed for all GPUs : 0.181067 kWh. Total GPU Power : 203.228 W\n",
      "[codecarbon INFO @ 03:46:35] Energy consumed for all CPUs : 0.042177 kWh. Total CPU Power : 47.5 W\n",
      "[codecarbon INFO @ 03:46:35] 0.228518 kWh of electricity used since the beginning.\n"
     ]
    },
    {
     "name": "stdout",
     "output_type": "stream",
     "text": [
      "{'loss': 0.0571, 'grad_norm': 3.5567994117736816, 'learning_rate': 1.8933157721435627e-06, 'epoch': 2.9}\n",
      "{'loss': 0.0585, 'grad_norm': 3.8851680755615234, 'learning_rate': 1.7286796180441226e-06, 'epoch': 2.91}\n"
     ]
    },
    {
     "name": "stderr",
     "output_type": "stream",
     "text": [
      "[codecarbon INFO @ 03:46:50] Energy consumed for RAM : 0.005298 kWh. RAM Power : 5.9499335289001465 W\n",
      "[codecarbon INFO @ 03:46:50] Energy consumed for all GPUs : 0.181909 kWh. Total GPU Power : 202.481 W\n",
      "[codecarbon INFO @ 03:46:50] Energy consumed for all CPUs : 0.042374 kWh. Total CPU Power : 47.5 W\n",
      "[codecarbon INFO @ 03:46:50] 0.229581 kWh of electricity used since the beginning.\n"
     ]
    },
    {
     "name": "stdout",
     "output_type": "stream",
     "text": [
      "{'loss': 0.0609, 'grad_norm': 4.359981536865234, 'learning_rate': 1.5640434639446825e-06, 'epoch': 2.92}\n",
      "{'loss': 0.0346, 'grad_norm': 3.856964588165283, 'learning_rate': 1.3994073098452421e-06, 'epoch': 2.92}\n"
     ]
    },
    {
     "name": "stderr",
     "output_type": "stream",
     "text": [
      "[codecarbon INFO @ 03:47:05] Energy consumed for RAM : 0.005323 kWh. RAM Power : 5.9499335289001465 W\n",
      "[codecarbon INFO @ 03:47:05] Energy consumed for all GPUs : 0.182748 kWh. Total GPU Power : 201.686 W\n",
      "[codecarbon INFO @ 03:47:05] Energy consumed for all CPUs : 0.042573 kWh. Total CPU Power : 47.5 W\n",
      "[codecarbon INFO @ 03:47:05] 0.230644 kWh of electricity used since the beginning.\n"
     ]
    },
    {
     "name": "stdout",
     "output_type": "stream",
     "text": [
      "{'loss': 0.0582, 'grad_norm': 19.95442008972168, 'learning_rate': 1.2347711557458018e-06, 'epoch': 2.93}\n"
     ]
    },
    {
     "name": "stderr",
     "output_type": "stream",
     "text": [
      "[codecarbon INFO @ 03:47:20] Energy consumed for RAM : 0.005348 kWh. RAM Power : 5.9499335289001465 W\n",
      "[codecarbon INFO @ 03:47:20] Energy consumed for all GPUs : 0.183643 kWh. Total GPU Power : 215.226 W\n",
      "[codecarbon INFO @ 03:47:20] Energy consumed for all CPUs : 0.042770 kWh. Total CPU Power : 47.5 W\n",
      "[codecarbon INFO @ 03:47:20] 0.231760 kWh of electricity used since the beginning.\n"
     ]
    },
    {
     "name": "stdout",
     "output_type": "stream",
     "text": [
      "{'loss': 0.0385, 'grad_norm': 5.607608795166016, 'learning_rate': 1.0701350016463617e-06, 'epoch': 2.94}\n",
      "{'loss': 0.0567, 'grad_norm': 1.8074361085891724, 'learning_rate': 9.054988475469213e-07, 'epoch': 2.95}\n"
     ]
    },
    {
     "name": "stderr",
     "output_type": "stream",
     "text": [
      "[codecarbon INFO @ 03:47:35] Energy consumed for RAM : 0.005372 kWh. RAM Power : 5.9499335289001465 W\n",
      "[codecarbon INFO @ 03:47:35] Energy consumed for all GPUs : 0.184481 kWh. Total GPU Power : 201.421 W\n",
      "[codecarbon INFO @ 03:47:35] Energy consumed for all CPUs : 0.042968 kWh. Total CPU Power : 47.5 W\n",
      "[codecarbon INFO @ 03:47:35] 0.232821 kWh of electricity used since the beginning.\n"
     ]
    },
    {
     "name": "stdout",
     "output_type": "stream",
     "text": [
      "{'loss': 0.065, 'grad_norm': 3.162261486053467, 'learning_rate': 7.408626934474811e-07, 'epoch': 2.96}\n"
     ]
    },
    {
     "name": "stderr",
     "output_type": "stream",
     "text": [
      "[codecarbon INFO @ 03:47:50] Energy consumed for RAM : 0.005397 kWh. RAM Power : 5.9499335289001465 W\n",
      "[codecarbon INFO @ 03:47:50] Energy consumed for all GPUs : 0.185317 kWh. Total GPU Power : 200.558 W\n",
      "[codecarbon INFO @ 03:47:50] Energy consumed for all CPUs : 0.043166 kWh. Total CPU Power : 47.5 W\n",
      "[codecarbon INFO @ 03:47:50] 0.233880 kWh of electricity used since the beginning.\n"
     ]
    },
    {
     "name": "stdout",
     "output_type": "stream",
     "text": [
      "{'loss': 0.0637, 'grad_norm': 3.8333547115325928, 'learning_rate': 5.762265393480408e-07, 'epoch': 2.97}\n",
      "{'loss': 0.0631, 'grad_norm': 4.963481903076172, 'learning_rate': 4.1159038524860064e-07, 'epoch': 2.98}\n"
     ]
    },
    {
     "name": "stderr",
     "output_type": "stream",
     "text": [
      "[codecarbon INFO @ 03:48:05] Energy consumed for RAM : 0.005422 kWh. RAM Power : 5.9499335289001465 W\n",
      "[codecarbon INFO @ 03:48:05] Energy consumed for all GPUs : 0.186182 kWh. Total GPU Power : 208.01500000000001 W\n",
      "[codecarbon INFO @ 03:48:05] Energy consumed for all CPUs : 0.043364 kWh. Total CPU Power : 47.5 W\n",
      "[codecarbon INFO @ 03:48:05] 0.234968 kWh of electricity used since the beginning.\n"
     ]
    },
    {
     "name": "stdout",
     "output_type": "stream",
     "text": [
      "{'loss': 0.0565, 'grad_norm': 3.250166416168213, 'learning_rate': 2.469542311491604e-07, 'epoch': 2.99}\n",
      "{'loss': 0.0608, 'grad_norm': 2.2749791145324707, 'learning_rate': 8.231807704972012e-08, 'epoch': 3.0}\n"
     ]
    },
    {
     "name": "stderr",
     "output_type": "stream",
     "text": [
      "[codecarbon INFO @ 03:48:20] Energy consumed for RAM : 0.005447 kWh. RAM Power : 5.9499335289001465 W\n",
      "[codecarbon INFO @ 03:48:20] Energy consumed for all GPUs : 0.187036 kWh. Total GPU Power : 205.154 W\n",
      "[codecarbon INFO @ 03:48:20] Energy consumed for all CPUs : 0.043562 kWh. Total CPU Power : 47.5 W\n",
      "[codecarbon INFO @ 03:48:20] 0.236045 kWh of electricity used since the beginning.\n"
     ]
    },
    {
     "data": {
      "application/vnd.jupyter.widget-view+json": {
       "model_id": "5d2b4e385f1541839cf2e0d12d9f23be",
       "version_major": 2,
       "version_minor": 0
      },
      "text/plain": [
       "  0%|          | 0/500 [00:00<?, ?it/s]"
      ]
     },
     "metadata": {},
     "output_type": "display_data"
    },
    {
     "name": "stderr",
     "output_type": "stream",
     "text": [
      "[codecarbon INFO @ 03:48:35] Energy consumed for RAM : 0.005471 kWh. RAM Power : 5.9499335289001465 W\n",
      "[codecarbon INFO @ 03:48:35] Energy consumed for all GPUs : 0.187724 kWh. Total GPU Power : 165.457 W\n",
      "[codecarbon INFO @ 03:48:35] Energy consumed for all CPUs : 0.043760 kWh. Total CPU Power : 47.5 W\n",
      "[codecarbon INFO @ 03:48:35] 0.236955 kWh of electricity used since the beginning.\n",
      "[codecarbon INFO @ 03:48:50] Energy consumed for RAM : 0.005496 kWh. RAM Power : 5.9499335289001465 W\n",
      "[codecarbon INFO @ 03:48:50] Energy consumed for all GPUs : 0.188455 kWh. Total GPU Power : 175.451 W\n",
      "[codecarbon INFO @ 03:48:50] Energy consumed for all CPUs : 0.043959 kWh. Total CPU Power : 47.5 W\n",
      "[codecarbon INFO @ 03:48:50] 0.237910 kWh of electricity used since the beginning.\n",
      "[codecarbon INFO @ 03:49:05] Energy consumed for RAM : 0.005521 kWh. RAM Power : 5.9499335289001465 W\n",
      "[codecarbon INFO @ 03:49:05] Energy consumed for all GPUs : 0.189150 kWh. Total GPU Power : 167.297 W\n",
      "[codecarbon INFO @ 03:49:05] Energy consumed for all CPUs : 0.044156 kWh. Total CPU Power : 47.5 W\n",
      "[codecarbon INFO @ 03:49:05] 0.238827 kWh of electricity used since the beginning.\n",
      "[codecarbon INFO @ 03:49:20] Energy consumed for RAM : 0.005546 kWh. RAM Power : 5.9499335289001465 W\n",
      "[codecarbon INFO @ 03:49:20] Energy consumed for all GPUs : 0.189888 kWh. Total GPU Power : 177.104 W\n",
      "[codecarbon INFO @ 03:49:20] Energy consumed for all CPUs : 0.044354 kWh. Total CPU Power : 47.5 W\n",
      "[codecarbon INFO @ 03:49:20] 0.239788 kWh of electricity used since the beginning.\n"
     ]
    },
    {
     "name": "stdout",
     "output_type": "stream",
     "text": [
      "{'eval_loss': 0.13899274170398712, 'eval_accuracy': 0.9533, 'eval_runtime': 58.7053, 'eval_samples_per_second': 170.342, 'eval_steps_per_second': 8.517, 'epoch': 3.0}\n"
     ]
    },
    {
     "name": "stderr",
     "output_type": "stream",
     "text": [
      "[codecarbon INFO @ 03:49:24] Energy consumed for RAM : 0.005552 kWh. RAM Power : 5.9499335289001465 W\n",
      "[codecarbon INFO @ 03:49:24] Energy consumed for all GPUs : 0.189944 kWh. Total GPU Power : 54.421 W\n",
      "[codecarbon INFO @ 03:49:24] Energy consumed for all CPUs : 0.044404 kWh. Total CPU Power : 47.5 W\n",
      "[codecarbon INFO @ 03:49:24] 0.239900 kWh of electricity used since the beginning.\n"
     ]
    },
    {
     "name": "stdout",
     "output_type": "stream",
     "text": [
      "{'train_runtime': 3365.7127, 'train_samples_per_second': 80.221, 'train_steps_per_second': 1.003, 'train_loss': 0.1813771443190398, 'epoch': 3.0}\n"
     ]
    },
    {
     "name": "stderr",
     "output_type": "stream",
     "text": [
      "C:\\Users\\bes-s\\AppData\\Local\\Packages\\PythonSoftwareFoundation.Python.3.9_qbz5n2kfra8p0\\LocalCache\\local-packages\\Python39\\site-packages\\codecarbon\\output.py:124: FutureWarning: The behavior of DataFrame concatenation with empty or all-NA entries is deprecated. In a future version, this will no longer exclude empty or all-NA columns when determining the result dtypes. To retain the old behavior, exclude the relevant entries before the concat operation.\n",
      "  df = pd.concat([df, pd.DataFrame.from_records([dict(data.values)])])\n"
     ]
    },
    {
     "name": "stdout",
     "output_type": "stream",
     "text": [
      "***** train metrics *****\n",
      "  epoch                    =           3.0\n",
      "  total_flos               = 19700545835GF\n",
      "  train_loss               =        0.1814\n",
      "  train_runtime            =    0:56:05.71\n",
      "  train_samples_per_second =        80.221\n",
      "  train_steps_per_second   =         1.003\n"
     ]
    },
    {
     "ename": "KeyError",
     "evalue": "'validation'",
     "output_type": "error",
     "traceback": [
      "\u001b[1;31m---------------------------------------------------------------------------\u001b[0m",
      "\u001b[1;31mKeyError\u001b[0m                                  Traceback (most recent call last)",
      "Cell \u001b[1;32mIn[7], line 8\u001b[0m\n\u001b[0;32m      5\u001b[0m trainer\u001b[38;5;241m.\u001b[39msave_state()\n\u001b[0;32m      7\u001b[0m \u001b[38;5;66;03m# Evaluate on validation set\u001b[39;00m\n\u001b[1;32m----> 8\u001b[0m metrics \u001b[38;5;241m=\u001b[39m trainer\u001b[38;5;241m.\u001b[39mevaluate(\u001b[43mprepared_ds\u001b[49m\u001b[43m[\u001b[49m\u001b[38;5;124;43m'\u001b[39;49m\u001b[38;5;124;43mvalidation\u001b[39;49m\u001b[38;5;124;43m'\u001b[39;49m\u001b[43m]\u001b[49m)\n\u001b[0;32m      9\u001b[0m trainer\u001b[38;5;241m.\u001b[39mlog_metrics(\u001b[38;5;124m\"\u001b[39m\u001b[38;5;124meval\u001b[39m\u001b[38;5;124m\"\u001b[39m, metrics)\n\u001b[0;32m     10\u001b[0m trainer\u001b[38;5;241m.\u001b[39msave_metrics(\u001b[38;5;124m\"\u001b[39m\u001b[38;5;124meval\u001b[39m\u001b[38;5;124m\"\u001b[39m, metrics)\n",
      "File \u001b[1;32m~\\AppData\\Local\\Packages\\PythonSoftwareFoundation.Python.3.9_qbz5n2kfra8p0\\LocalCache\\local-packages\\Python39\\site-packages\\datasets\\dataset_dict.py:59\u001b[0m, in \u001b[0;36mDatasetDict.__getitem__\u001b[1;34m(self, k)\u001b[0m\n\u001b[0;32m     57\u001b[0m \u001b[38;5;28;01mdef\u001b[39;00m \u001b[38;5;21m__getitem__\u001b[39m(\u001b[38;5;28mself\u001b[39m, k) \u001b[38;5;241m-\u001b[39m\u001b[38;5;241m>\u001b[39m Dataset:\n\u001b[0;32m     58\u001b[0m     \u001b[38;5;28;01mif\u001b[39;00m \u001b[38;5;28misinstance\u001b[39m(k, (\u001b[38;5;28mstr\u001b[39m, NamedSplit)) \u001b[38;5;129;01mor\u001b[39;00m \u001b[38;5;28mlen\u001b[39m(\u001b[38;5;28mself\u001b[39m) \u001b[38;5;241m==\u001b[39m \u001b[38;5;241m0\u001b[39m:\n\u001b[1;32m---> 59\u001b[0m         \u001b[38;5;28;01mreturn\u001b[39;00m \u001b[38;5;28;43msuper\u001b[39;49m\u001b[43m(\u001b[49m\u001b[43m)\u001b[49m\u001b[38;5;241;43m.\u001b[39;49m\u001b[38;5;21;43m__getitem__\u001b[39;49m\u001b[43m(\u001b[49m\u001b[43mk\u001b[49m\u001b[43m)\u001b[49m\n\u001b[0;32m     60\u001b[0m     \u001b[38;5;28;01melse\u001b[39;00m:\n\u001b[0;32m     61\u001b[0m         available_suggested_splits \u001b[38;5;241m=\u001b[39m [\n\u001b[0;32m     62\u001b[0m             split \u001b[38;5;28;01mfor\u001b[39;00m split \u001b[38;5;129;01min\u001b[39;00m (Split\u001b[38;5;241m.\u001b[39mTRAIN, Split\u001b[38;5;241m.\u001b[39mTEST, Split\u001b[38;5;241m.\u001b[39mVALIDATION) \u001b[38;5;28;01mif\u001b[39;00m split \u001b[38;5;129;01min\u001b[39;00m \u001b[38;5;28mself\u001b[39m\n\u001b[0;32m     63\u001b[0m         ]\n",
      "\u001b[1;31mKeyError\u001b[0m: 'validation'"
     ]
    }
   ],
   "source": [
    "train_results = trainer.train()\n",
    "trainer.save_model()\n",
    "trainer.log_metrics(\"train\", train_results.metrics)\n",
    "trainer.save_metrics(\"train\", train_results.metrics)\n",
    "trainer.save_state()\n",
    "\n",
    "# Evaluate on validation set\n"
   ]
  },
  {
   "cell_type": "code",
   "execution_count": 8,
   "metadata": {},
   "outputs": [
    {
     "data": {
      "application/vnd.jupyter.widget-view+json": {
       "model_id": "022549bbdc1c4a7b89dfda202d416d9b",
       "version_major": 2,
       "version_minor": 0
      },
      "text/plain": [
       "  0%|          | 0/500 [00:00<?, ?it/s]"
      ]
     },
     "metadata": {},
     "output_type": "display_data"
    },
    {
     "name": "stdout",
     "output_type": "stream",
     "text": [
      "***** eval metrics *****\n",
      "  epoch                   =        3.0\n",
      "  eval_accuracy           =     0.9533\n",
      "  eval_loss               =      0.139\n",
      "  eval_runtime            = 0:00:59.53\n",
      "  eval_samples_per_second =    167.956\n",
      "  eval_steps_per_second   =      8.398\n"
     ]
    }
   ],
   "source": [
    "metrics = trainer.evaluate(prepared_ds['test'])\n",
    "trainer.log_metrics(\"eval\", metrics)\n",
    "trainer.save_metrics(\"eval\", metrics)"
   ]
  }
 ],
 "metadata": {
  "kernelspec": {
   "display_name": "Python 3",
   "language": "python",
   "name": "python3"
  },
  "language_info": {
   "codemirror_mode": {
    "name": "ipython",
    "version": 3
   },
   "file_extension": ".py",
   "mimetype": "text/x-python",
   "name": "python",
   "nbconvert_exporter": "python",
   "pygments_lexer": "ipython3",
   "version": "3.9.13"
  }
 },
 "nbformat": 4,
 "nbformat_minor": 2
}
