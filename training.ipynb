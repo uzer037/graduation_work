{
  "nbformat": 4,
  "nbformat_minor": 0,
  "metadata": {
    "colab": {
      "provenance": [],
      "authorship_tag": "ABX9TyM3WiNoEmKIrninx9/HqWzb",
      "include_colab_link": true
    },
    "kernelspec": {
      "name": "python3",
      "display_name": "Python 3"
    },
    "language_info": {
      "name": "python"
    }
  },
  "cells": [
    {
      "cell_type": "markdown",
      "metadata": {
        "id": "view-in-github",
        "colab_type": "text"
      },
      "source": [
        "<a href=\"https://colab.research.google.com/github/uzer037/graduation_work/blob/dev/training.ipynb\" target=\"_parent\"><img src=\"https://colab.research.google.com/assets/colab-badge.svg\" alt=\"Open In Colab\"/></a>"
      ]
    },
    {
      "cell_type": "markdown",
      "source": [
        "# Теория\n",
        "\n",
        "## Предобработка\n",
        "(Пока не реализована)\n",
        "```\n",
        "HxWx3 - исходное RGB изображение (где min(H,W) >= 512)\n",
        "| центрирование и обрезка до квадратного разрешения 512x512\n",
        "v\n",
        "512x512x3\n",
        "```\n",
        "## Описание модели\n",
        "```\n",
        "512x512x3\n",
        "| Conv2d - пытаемся выявить мелкие фичи\n",
        "v\n",
        "512x512x3\n",
        "| avg-pool (kernel 2x2, stride 2) - уменьшаем размер картинки с сохранением деталей\n",
        "v\n",
        "256x256x3\n",
        "| Conv2d - пытаемся выявить средние фичи\n",
        "v\n",
        "256x256x3\n",
        "| max-pool (kernel 4x4, stride 4) - уменьшаем с выделением наиболее сильных фич\n",
        "v\n",
        "64x64x3\n",
        "| Conv2d - пытаемся выявить композиционные фичи\n",
        "v\n",
        "64x64x3\n",
        "| Flatten\n",
        "v\n",
        "12288\n",
        "| Dense | 12288 / 16 = 768 - \"сжимаем\" результат\n",
        "v\n",
        "768\n",
        "| Dense - Скрытый слой\n",
        "v\n",
        "768\n",
        "| ReLU - Нелинейность\n",
        "v\n",
        "768\n",
        "| Dense - Итоговый классификатор\n",
        "v\n",
        "2 - {Выходы: A - реальное фото, B - нейросетевая генерация}\n",
        "(Возможно потом стоит расширить до n классов, один из которых - реальные фото, а остальные - разные архитектуры генеративных сетей)\n",
        "```"
      ],
      "metadata": {
        "id": "ZsP23oiWu5fy"
      }
    },
    {
      "cell_type": "code",
      "execution_count": null,
      "metadata": {
        "id": "_S4E4bqChfhz"
      },
      "outputs": [],
      "source": [
        "# @title Установка\n",
        "%pip install keras tensorboard\n",
        "%load_ext tensorboard"
      ]
    },
    {
      "cell_type": "code",
      "source": [
        "# @title Импорты\n",
        "import keras\n",
        "from keras import layers, losses"
      ],
      "metadata": {
        "id": "U8YPyYMvmfu7"
      },
      "execution_count": null,
      "outputs": []
    },
    {
      "cell_type": "code",
      "source": [
        "# @title Объявление модели (draft)\n",
        "model = keras.Sequential(name=\"AI_Image_Classifier\")\n",
        "# Layers\n",
        "model.add(layers.Conv2D(512, (3, 3), input_shape=(512, 512, 3))) # 512x512x3 --> 512x512x3 (fine features)\n",
        "model.add(layers.AveragePooling2D(pool_size=(2, 2), strides=2)) # 512x512x3 -(avg)-> 256x256x3\n",
        "model.add(layers.Conv2D(256, (3, 3))) # 256x256x3 --> 256x256x3 (medium features)\n",
        "model.add(layers.MaxPooling2D(pool_size=(4, 4), strides=4)) # 256x256x3 -(max)-> 64x64x3\n",
        "model.add(layers.Conv2D(64, (3, 3))) # 64x64x3 --> 64x64x3 (global features)\n",
        "model.add(layers.Flatten()) # 64x64x3 --> 12288\n",
        "model.add(layers.Dense(768)) # 12288 --> 768 (= 12288 / 16)\n",
        "model.add(layers.Activation('relu'))\n",
        "model.add(layers.Dense(2)) # 768 --> 2 classes\n",
        "model.add(layers.Activation('softmax'))\n",
        "# Loss\n",
        "model.add_loss(losses.CategoricalCrossentropy())\n",
        "\n",
        "\n",
        "model.summary()"
      ],
      "metadata": {
        "colab": {
          "base_uri": "https://localhost:8080/"
        },
        "id": "8W1UALGJi9OB",
        "outputId": "4257691e-11fd-4031-8354-480f97968688"
      },
      "execution_count": 14,
      "outputs": [
        {
          "output_type": "stream",
          "name": "stdout",
          "text": [
            "Model: \"AI_Image_Classifier\"\n",
            "_________________________________________________________________\n",
            " Layer (type)                Output Shape              Param #   \n",
            "=================================================================\n",
            " conv2d_9 (Conv2D)           (None, 510, 510, 512)     14336     \n",
            "                                                                 \n",
            " average_pooling2d_3 (Avera  (None, 255, 255, 512)     0         \n",
            " gePooling2D)                                                    \n",
            "                                                                 \n",
            " conv2d_10 (Conv2D)          (None, 253, 253, 256)     1179904   \n",
            "                                                                 \n",
            " max_pooling2d_3 (MaxPoolin  (None, 63, 63, 256)       0         \n",
            " g2D)                                                            \n",
            "                                                                 \n",
            " conv2d_11 (Conv2D)          (None, 61, 61, 64)        147520    \n",
            "                                                                 \n",
            " flatten_3 (Flatten)         (None, 238144)            0         \n",
            "                                                                 \n",
            " dense_6 (Dense)             (None, 768)               182895360 \n",
            "                                                                 \n",
            " activation_6 (Activation)   (None, 768)               0         \n",
            "                                                                 \n",
            " dense_7 (Dense)             (None, 2)                 1538      \n",
            "                                                                 \n",
            " activation_7 (Activation)   (None, 2)                 0         \n",
            "                                                                 \n",
            "=================================================================\n",
            "Total params: 184238658 (702.81 MB)\n",
            "Trainable params: 184238658 (702.81 MB)\n",
            "Non-trainable params: 0 (0.00 Byte)\n",
            "_________________________________________________________________\n"
          ]
        }
      ]
    },
    {
      "cell_type": "code",
      "source": [
        "# @title Tensorboard\n",
        "%tensorboard --logdir runs"
      ],
      "metadata": {
        "cellView": "form",
        "id": "lDK_i1BlnRKz"
      },
      "execution_count": null,
      "outputs": []
    },
    {
      "cell_type": "code",
      "source": [],
      "metadata": {
        "id": "C5-ugmrrufkW"
      },
      "execution_count": null,
      "outputs": []
    }
  ]
}