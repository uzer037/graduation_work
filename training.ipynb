{
  "nbformat": 4,
  "nbformat_minor": 0,
  "metadata": {
    "colab": {
      "provenance": [],
      "authorship_tag": "ABX9TyPLst0YEkBX0rQ7rO2dJRX8",
      "include_colab_link": true
    },
    "kernelspec": {
      "name": "python3",
      "display_name": "Python 3"
    },
    "language_info": {
      "name": "python"
    }
  },
  "cells": [
    {
      "cell_type": "markdown",
      "metadata": {
        "id": "view-in-github",
        "colab_type": "text"
      },
      "source": [
        "<a href=\"https://colab.research.google.com/github/uzer037/graduation_work/blob/dev/training.ipynb\" target=\"_parent\"><img src=\"https://colab.research.google.com/assets/colab-badge.svg\" alt=\"Open In Colab\"/></a>"
      ]
    },
    {
      "cell_type": "code",
      "execution_count": null,
      "metadata": {
        "id": "_S4E4bqChfhz"
      },
      "outputs": [],
      "source": [
        "# @title Установка\n",
        "%pip install keras tensorboard\n",
        "%load_ext tensorboard"
      ]
    },
    {
      "cell_type": "code",
      "source": [
        "# @title Импорты\n",
        "import keras\n",
        "from keras import layers, losses"
      ],
      "metadata": {
        "id": "U8YPyYMvmfu7"
      },
      "execution_count": null,
      "outputs": []
    },
    {
      "cell_type": "code",
      "source": [
        "# @title Объявление модели (draft)\n",
        "model = keras.Sequential(name=\"AI_Image_Classifier\")\n",
        "# Layers\n",
        "model.add(layers.Conv2D(16, (2, 2), input_shape=(512, 512, 3))) # 512x512x3 --> 512x512x16 (fine features)\n",
        "model.add(layers.AveragePooling2D(pool_size=(2, 2), strides=2)) # 512x512x16 -(avg)-> 256x256x16\n",
        "model.add(layers.Conv2D(16, (2, 2))) # 256x256x16 --> 256x256x16 (medium features)\n",
        "model.add(layers.MaxPooling2D(pool_size=(4, 4), strides=4)) # 256x256x16 -(max)-> 64x64x16\n",
        "model.add(layers.Conv2D(64, (4, 4))) # 64x64x16 --> 64x64x16 (\"global\" features)\n",
        "model.add(layers.Flatten()) # 64x64x16 --> 65536\n",
        "model.add(layers.Activation('relu'))\n",
        "model.add(layers.Dense(512)) # 65536 --> 512\n",
        "model.add(layers.Activation('relu'))\n",
        "model.add(layers.Dense(2)) # 1024 --> 2 classes\n",
        "model.add(layers.Activation('softmax'))\n",
        "# Loss\n",
        "model.add_loss(losses.CategoricalCrossentropy())\n",
        "\n",
        "\n",
        "model.summary()"
      ],
      "metadata": {
        "colab": {
          "base_uri": "https://localhost:8080/"
        },
        "id": "8W1UALGJi9OB",
        "outputId": "37ccf674-2ad4-425a-d141-1287995be302"
      },
      "execution_count": 22,
      "outputs": [
        {
          "output_type": "stream",
          "name": "stdout",
          "text": [
            "Model: \"AI_Image_Classifier\"\n",
            "_________________________________________________________________\n",
            " Layer (type)                Output Shape              Param #   \n",
            "=================================================================\n",
            " conv2d_27 (Conv2D)          (None, 511, 511, 16)      208       \n",
            "                                                                 \n",
            " average_pooling2d_9 (Avera  (None, 255, 255, 16)      0         \n",
            " gePooling2D)                                                    \n",
            "                                                                 \n",
            " conv2d_28 (Conv2D)          (None, 254, 254, 16)      1040      \n",
            "                                                                 \n",
            " max_pooling2d_9 (MaxPoolin  (None, 63, 63, 16)        0         \n",
            " g2D)                                                            \n",
            "                                                                 \n",
            " conv2d_29 (Conv2D)          (None, 60, 60, 64)        16448     \n",
            "                                                                 \n",
            " flatten_9 (Flatten)         (None, 230400)            0         \n",
            "                                                                 \n",
            " activation_21 (Activation)  (None, 230400)            0         \n",
            "                                                                 \n",
            " dense_18 (Dense)            (None, 512)               117965312 \n",
            "                                                                 \n",
            " activation_22 (Activation)  (None, 512)               0         \n",
            "                                                                 \n",
            " dense_19 (Dense)            (None, 2)                 1026      \n",
            "                                                                 \n",
            " activation_23 (Activation)  (None, 2)                 0         \n",
            "                                                                 \n",
            "=================================================================\n",
            "Total params: 117984034 (450.07 MB)\n",
            "Trainable params: 117984034 (450.07 MB)\n",
            "Non-trainable params: 0 (0.00 Byte)\n",
            "_________________________________________________________________\n"
          ]
        }
      ]
    },
    {
      "cell_type": "code",
      "source": [
        "# @title Tensorboard\n",
        "%tensorboard --logdir runs"
      ],
      "metadata": {
        "cellView": "form",
        "id": "lDK_i1BlnRKz"
      },
      "execution_count": null,
      "outputs": []
    },
    {
      "cell_type": "code",
      "source": [],
      "metadata": {
        "id": "C5-ugmrrufkW"
      },
      "execution_count": null,
      "outputs": []
    }
  ]
}