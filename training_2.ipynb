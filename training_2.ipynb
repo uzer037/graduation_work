{
  "cells": [
    {
      "cell_type": "code",
      "execution_count": null,
      "id": "zzF2Ip-q2i2A",
      "metadata": {
        "colab": {
          "background_save": true
        },
        "id": "zzF2Ip-q2i2A",
        "outputId": "44b26069-6462-44de-c999-7df58181d7aa"
      },
      "outputs": [],
      "source": [
        "%%time\n",
        "for batch_ind, data in enumerate(train_loader):\n",
        "  pass"
      ]
    },
    {
      "cell_type": "code",
      "execution_count": null,
      "id": "YF-uwvGNnewx",
      "metadata": {
        "colab": {
          "base_uri": "https://localhost:8080/",
          "height": 356
        },
        "id": "YF-uwvGNnewx",
        "outputId": "ac0ba194-a214-4c30-db26-d2bcdc471e67"
      },
      "outputs": [],
      "source": [
        "# @title Training loop { display-mode: \"form\" }\n",
        "\n",
        "import torch.optim as optim\n",
        "\n",
        "loss_func = torch.nn.CrossEntropyLoss()\n",
        "optimizer = optim.SGD(model.parameters(), lr=0.001, momentum=0.8)\n",
        "\n",
        "import torch\n",
        "import datetime\n",
        "from torch.utils.tensorboard import SummaryWriter\n",
        "\n",
        "def calculate_epoch(writer: SummaryWriter, epoch, is_train=False):\n",
        "  if is_train:\n",
        "    model.train(True)\n",
        "  else:\n",
        "    model.eval()\n",
        "\n",
        "  total = 0\n",
        "  correct = 0\n",
        "  running_loss = 0\n",
        "  for batch_ind, data in enumerate(train_loader):\n",
        "    inputs, targets = data\n",
        "    inputs, targets = inputs.to(device), targets.to(device)\n",
        "\n",
        "    optimizer.zero_grad()\n",
        "    output = model(inputs)\n",
        "\n",
        "    total += len(output)\n",
        "    correct += (output.argmax() == targets).float().sum()\n",
        "\n",
        "    targets = torch.nn.functional.one_hot(targets, num_classes = 2).to(torch.float)\n",
        "    loss = loss_func(output, targets)\n",
        "    if is_train:\n",
        "      loss.backward()\n",
        "      optimizer.step()\n",
        "\n",
        "    running_loss += loss.item()\n",
        "\n",
        "    if batch_ind % 10 == 9:\n",
        "      stage = \"train\" if is_train else \"test\"\n",
        "      avg_loss = running_loss / 10\n",
        "      writer.add_scalar(f\"loss/{stage}\", avg_loss, epoch*batch_size + batch_ind)\n",
        "      writer.add_scalar(f\"accuracy/{stage}\", correct/total, epoch*batch_size + batch_ind)\n",
        "      running_loss = 0\n",
        "\n",
        "\n",
        "def train_loop():\n",
        "  time_now = datetime.datetime.now()\n",
        "  layout = {\n",
        "      \"Model statistics\" : {\n",
        "      \"loss\": [\"Multiline\", [\"loss/train\", \"loss/test\"]],\n",
        "      \"accuracy\": [\"Multiline\", [\"accuracy/train\", \"accuracy/test\"]]\n",
        "      }\n",
        "  }\n",
        "  writer = SummaryWriter(log_dir=time_now.strftime(\"C:\\\\Users\\\\bes-s\\\\OneDrive\\\\Документы\\\\NN\\\\runs\\\\run %d-%m %H_%M_%S\"))\n",
        "  writer.add_custom_scalars(layout)\n",
        "  epoch_count = 100\n",
        "  for epoch in range(epoch_count):  # loop over the dataset multiple times\n",
        "    running_loss = 0.0\n",
        "    print(f\"epoch #{epoch+1}/{epoch_count}...\", end = \"\")\n",
        "    calculate_epoch(writer, epoch, is_train=True)\n",
        "    with torch.no_grad():\n",
        "      calculate_epoch(writer, epoch, is_train=False)\n",
        "    print(\"done.\")\n",
        "    writer.flush()\n",
        "\n",
        "  writer.close()\n",
        "  print('done training.')\n",
        "\n",
        "\n",
        "train_loop()"
      ]
    }
  ],
  "metadata": {
    "colab": {
      "include_colab_link": true,
      "provenance": []
    },
    "kernelspec": {
      "display_name": "Python 3",
      "name": "python3"
    },
    "language_info": {
      "codemirror_mode": {
        "name": "ipython",
        "version": 3
      },
      "file_extension": ".py",
      "mimetype": "text/x-python",
      "name": "python",
      "nbconvert_exporter": "python",
      "pygments_lexer": "ipython3",
      "version": "3.9.13"
    }
  },
  "nbformat": 4,
  "nbformat_minor": 5
}
