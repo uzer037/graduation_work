{
  "cells": [
    {
      "cell_type": "code",
      "execution_count": 1,
      "id": "59633f65",
      "metadata": {
        "colab": {
          "base_uri": "https://localhost:8080/"
        },
        "id": "59633f65",
        "outputId": "38be706e-cf63-4e00-bddc-3fd7c4b7e2f0"
      },
      "outputs": [
        {
          "name": "stdout",
          "output_type": "stream",
          "text": [
            "device: cuda\n"
          ]
        }
      ],
      "source": [
        "# @title Dependencies\n",
        "\n",
        "import torch\n",
        "import torchvision\n",
        "device = 'cuda' if torch.cuda.is_available() else 'cpu'\n",
        "print(f\"device: {device}\")"
      ]
    },
    {
      "cell_type": "code",
      "execution_count": 3,
      "id": "IIrma6M3aUQz",
      "metadata": {
        "colab": {
          "base_uri": "https://localhost:8080/"
        },
        "id": "IIrma6M3aUQz",
        "outputId": "418325bd-0fe9-4223-a884-b3cba318056f"
      },
      "outputs": [
        {
          "ename": "SyntaxError",
          "evalue": "invalid syntax (2062907247.py, line 14)",
          "output_type": "error",
          "traceback": [
            "\u001b[1;36m  Cell \u001b[1;32mIn[3], line 14\u001b[1;36m\u001b[0m\n\u001b[1;33m    n28, kernel_size=(3,3)), # 512x512x3xN --> 510x510x64xN, rf = 3x3\u001b[0m\n\u001b[1;37m    ^\u001b[0m\n\u001b[1;31mSyntaxError\u001b[0m\u001b[1;31m:\u001b[0m invalid syntax\n"
          ]
        }
      ],
      "source": [
        "# @title Model definition { display-mode: \"form\" }\n",
        "\n",
        "# model = torch.hub.load('pytorch/vision:v0.10.0', 'alexnet', pretrained=False)\n",
        "# Repacing last 1k classes linear layer with 2 classes layer\n",
        "# model.classifier[-1] = torch.nn.Linear(in_features=4096, out_features=2)\n",
        "\n",
        "from torch import nn\n",
        "\n",
        "class ClassifierModel(nn.Module):\n",
        "  def __init__(self):\n",
        "    super(ClassifierModel, self).__init__()\n",
        "    self.features = nn.Sequential(\n",
        "        nn.Conv2d(3,128, kernel_size=(3,3)), # 512x512x3xN --> 510x510x64xN, rf = 3x3\n",
        "        nn.MaxPool2d(kernel_size=2, stride=2), # 510x510x64xN --> 255x255x64xN\n",
        "        nn.ReLU(),\n",
        "        nn.Conv2d(128,256, kernel_size=(4,4)),  # 255x255x64xN --> 252x252x128xN, rf = 6x6\n",
        "        nn.MaxPool2d(kernel_size=3, stride=3), # 252x252x128xN --> 126x126x128xN\n",
        "        nn.ReLU(),\n",
        "        nn.Conv2d(256,64, kernel_size=(3,3)), # 126x126x128xN --> 124x124x64xN, rf = 8x8\n",
        "        nn.MaxPool2d(kernel_size=2, stride=2), # 124x124x64xN --> 62x62x64xN\n",
        "        nn.ReLU(),\n",
        "        nn.Conv2d(64,32, kernel_size=(3,3)), # 62x62x64xN --> 61x61x16xN, rf = 10x10\n",
        "        nn.MaxPool2d(kernel_size=2, stride=2), # 60x60x16xN --> 30x30x16xN\n",
        "        nn.ReLU(),\n",
        "    )\n",
        "    self.converter = nn.Flatten() # 30x30x16xN --> 14400 params\n",
        "    self.classifier = nn.Sequential(\n",
        "        # nn.Linear(in_features=5776, out_features=4096),\n",
        "        # nn.Sigmoid(),\n",
        "        # nn.Linear(in_features=4096, out_features=2048),\n",
        "        # nn.Sigmoid(),\n",
        "        # nn.Linear(in_features=2048, out_features=1024),\n",
        "        # nn.Sigmoid(),\n",
        "        # nn.Linear(in_features=1024, out_features=512),\n",
        "        # nn.Sigmoid(),\n",
        "        # nn.Linear(in_features=512, out_features=256),\n",
        "        # nn.Sigmoid(),\n",
        "        # nn.Linear(in_features=256, out_features=128),\n",
        "        # nn.Sigmoid(),\n",
        "        # nn.Linear(in_features=128, out_features=64),\n",
        "        # nn.Sigmoid(),\n",
        "        # nn.Linear(in_features=64, out_features=32),\n",
        "        # nn.Sigmoid(),\n",
        "        # nn.Linear(in_features=32, out_features=16),\n",
        "        # nn.Sigmoid(),\n",
        "        # nn.Linear(in_features=16, out_features=8),\n",
        "        # nn.Sigmoid(),\n",
        "        # nn.Linear(in_features=8, out_features=4),\n",
        "        # nn.Sigmoid(),\n",
        "        # nn.Linear(in_features=4, out_features=2)\n",
        "        nn.Linear(in_features=11552, out_features=8192),\n",
        "        nn.Sigmoid(),\n",
        "        nn.Linear(in_features=8192, out_features=1024),\n",
        "        nn.Sigmoid(),\n",
        "        nn.Linear(in_features=1024, out_features=2),\n",
        "    )\n",
        "\n",
        "  def forward(self, x):\n",
        "    x = self.features(x)\n",
        "    x = self.converter(x)\n",
        "    x = self.classifier(x)\n",
        "    return x\n",
        "\n",
        "model = ClassifierModel()\n",
        "\n",
        "model.to(device)\n",
        "model.eval()"
      ]
    },
    {
      "cell_type": "code",
      "execution_count": null,
      "id": "YwG0I6szUeOP",
      "metadata": {
        "colab": {
          "base_uri": "https://localhost:8080/"
        },
        "id": "YwG0I6szUeOP",
        "outputId": "65a61ef8-46b2-46c5-f160-41942aa18054"
      },
      "outputs": [],
      "source": [
        "# @title Loading data { display-mode: \"form\" }\n",
        "\n",
        "from torchvision.transforms import v2\n",
        "from torch import Tensor\n",
        "\n",
        "preprocess = v2.Compose([\n",
        "    v2.CenterCrop(512),\n",
        "    v2.ToImage(),\n",
        "    v2.ToDtype(torch.float32, scale=True)\n",
        "])\n",
        "    #transforms.Normalize(mean=[0.485, 0.456, 0.406], std=[0.229, 0.224, 0.225])\n",
        "\n",
        "torch.manual_seed(0)\n",
        "dataset = torchvision.datasets.ImageFolder(\n",
        "    root=r'C:\\\\Users\\\\bes-s\\\\OneDrive\\\\Документы\\\\NN\\\\datasets\\\\deepscrape-v1',\n",
        "    transform=preprocess\n",
        "    )\n",
        "\n",
        "trainsplit = 0.7\n",
        "batch_size = 4\n",
        "\n",
        "dataset_size = len(dataset)\n",
        "print(f\"Size of dataset is: {dataset_size}, train/test split ratio: {trainsplit}, batch size: {batch_size}\")\n",
        "trainset, testset = torch.utils.data.random_split(dataset, [trainsplit, 1-trainsplit])\n",
        "\n",
        "train_loader = torch.utils.data.DataLoader(dataset=trainset, batch_size=batch_size, pin_memory=True, pin_memory_device=device, num_workers=1)\n",
        "test_loader = torch.utils.data.DataLoader(dataset=testset, batch_size=batch_size, pin_memory=True, pin_memory_device=device, num_workers=1)"
      ]
    },
    {
      "cell_type": "code",
      "execution_count": null,
      "id": "zzF2Ip-q2i2A",
      "metadata": {
        "colab": {
          "background_save": true
        },
        "id": "zzF2Ip-q2i2A",
        "outputId": "44b26069-6462-44de-c999-7df58181d7aa"
      },
      "outputs": [],
      "source": [
        "%%time\n",
        "for batch_ind, data in enumerate(train_loader):\n",
        "  pass"
      ]
    },
    {
      "cell_type": "code",
      "execution_count": null,
      "id": "YF-uwvGNnewx",
      "metadata": {
        "colab": {
          "base_uri": "https://localhost:8080/",
          "height": 356
        },
        "id": "YF-uwvGNnewx",
        "outputId": "ac0ba194-a214-4c30-db26-d2bcdc471e67"
      },
      "outputs": [],
      "source": [
        "# @title Training loop { display-mode: \"form\" }\n",
        "\n",
        "import torch.optim as optim\n",
        "\n",
        "import torch\n",
        "import datetime\n",
        "from torch.utils.tensorboard import SummaryWriter\n",
        "\n",
        "def calculate_epoch(writer: SummaryWriter, epoch, optimizer, loss_func, is_train=False):\n",
        "  if is_train:\n",
        "    model.train(True)\n",
        "    data_loader = train_loader\n",
        "    set_size = dataset_size * trainsplit\n",
        "  else:\n",
        "    model.eval()\n",
        "    data_loader = test_loader\n",
        "    set_size = dataset_size * (1-trainsplit)\n",
        "\n",
        "  total = 0\n",
        "  correct = 0\n",
        "  running_loss = 0\n",
        "  \n",
        "  batch_count =  set_size / batch_size\n",
        "  \n",
        "  for batch_ind, data in enumerate(data_loader):\n",
        "    inputs, targets = data\n",
        "    inputs, targets = inputs.to(device), targets.to(device)\n",
        "\n",
        "    optimizer.zero_grad()\n",
        "    output = model(inputs)\n",
        "\n",
        "    total += len(output)\n",
        "    correct += (output.argmax() == targets).float().sum()\n",
        "\n",
        "    targets = torch.nn.functional.one_hot(targets, num_classes = 2).to(torch.float)\n",
        "    loss = loss_func(output, targets)\n",
        "    if is_train:\n",
        "      loss.backward()\n",
        "      optimizer.step()\n",
        "\n",
        "    running_loss += loss.item()\n",
        "\n",
        "    if batch_ind % 10 == 9:\n",
        "      plot_x = 100 * (batch_ind / batch_count  + epoch)\n",
        "      stage = \"train\" if is_train else \"test\"\n",
        "      avg_loss = running_loss / 10\n",
        "      writer.add_scalar(f\"loss/{stage}\", avg_loss, plot_x)\n",
        "      writer.add_scalar(f\"accuracy/{stage}\", correct/total, plot_x)\n",
        "      running_loss = 0\n",
        "\n",
        "\n",
        "def train_loop(model, learn_rate, momentum, epoch_count = 10):\n",
        "  loss_func = torch.nn.CrossEntropyLoss()\n",
        "  optimizer = optim.SGD(model.parameters(), lr=learn_rate, momentum=momentum)\n",
        "\n",
        "  time_now = datetime.datetime.now()\n",
        "  layout = {\n",
        "      \"Model statistics\" : {\n",
        "      \"loss\": [\"Multiline\", [\"loss/train\", \"loss/test\"]],\n",
        "      \"accuracy\": [\"Multiline\", [\"accuracy/train\", \"accuracy/test\"]]\n",
        "      }\n",
        "  }\n",
        "\n",
        "  run_name = \"C:\\\\Users\\\\bes-s\\\\OneDrive\\\\Документы\\\\NN\\\\runs\\\\run\" + time_now.strftime(\"%d-%m %H_%M_%S\") + \" lr(\" + str(round(learn_rate,3)) + \") - m(\" + str(round(momentum,3)) + \")\"\n",
        "  writer = SummaryWriter(log_dir=run_name)\n",
        "  writer.add_custom_scalars(layout)\n",
        "  \n",
        "  print('Starting at ' + time_now.strftime(\"%d-%m %Hh %Mm %Ss\"))\n",
        "\n",
        "  for epoch in range(epoch_count):  # loop over the dataset multiple times\n",
        "    time_start = datetime.datetime.now()\n",
        "    print(f\"epoch #{epoch+1}/{epoch_count}...\", end = \"\")\n",
        "    calculate_epoch(writer, epoch, optimizer=optimizer, loss_func=loss_func, is_train=True)\n",
        "    with torch.no_grad():\n",
        "      calculate_epoch(writer, epoch, optimizer=optimizer, loss_func=loss_func, is_train=False)\n",
        "      \n",
        "    time_end = datetime.datetime.now()\n",
        "    print(\"done in \" + str(time_end - time_start))\n",
        "    writer.flush()\n",
        "\n",
        "  writer.close()\n",
        "  print('done training at' + time_now.strftime(\"%d-%m %Hh %Mm %Ss\"))"
      ]
    },
    {
      "cell_type": "code",
      "execution_count": null,
      "id": "c80c33ab",
      "metadata": {},
      "outputs": [],
      "source": [
        "train_loop(model, learn_rate=5.0, momentum=0.5, epoch_count=5)"
      ]
    },
    {
      "cell_type": "markdown",
      "id": "1079d077",
      "metadata": {},
      "source": [
        "Исправил в коде несколько критических ошибок:\n",
        "1. Все это время модель училась и тестировалась на учебном наборе :facepalm:\n",
        "2. Некорректно рассчитывался номер батча внутри эпохи\n",
        "\n",
        "Изменения:\n",
        "1. Теперь выводится время обсчета эпохи\n",
        "2. В названии рана сохраняются гиперпараметры модели\n",
        "3. На графиках теперь каждая эпоха выпадает на целое число по X, а дробная часть обозначает номер батча\n",
        "\n",
        "После изменений столкнулся с ошибкой которую отправил вам в телеграм\\\n",
        "Возможно она решится перезагрузкой ядра"
      ]
    },
    {
      "cell_type": "code",
      "execution_count": null,
      "id": "bf500013",
      "metadata": {},
      "outputs": [],
      "source": []
    }
  ],
  "metadata": {
    "colab": {
      "include_colab_link": true,
      "provenance": []
    },
    "kernelspec": {
      "display_name": "Python 3",
      "name": "python3"
    },
    "language_info": {
      "codemirror_mode": {
        "name": "ipython",
        "version": 3
      },
      "file_extension": ".py",
      "mimetype": "text/x-python",
      "name": "python",
      "nbconvert_exporter": "python",
      "pygments_lexer": "ipython3",
      "version": "3.9.13"
    }
  },
  "nbformat": 4,
  "nbformat_minor": 5
}
